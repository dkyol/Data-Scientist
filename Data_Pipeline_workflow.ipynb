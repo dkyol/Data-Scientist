{
 "cells": [
  {
   "cell_type": "markdown",
   "metadata": {},
   "source": [
    "# Data Pipeline Workflow\n"
   ]
  },
  {
   "cell_type": "code",
   "execution_count": 4,
   "metadata": {},
   "outputs": [
    {
     "name": "stdout",
     "output_type": "stream",
     "text": [
      "[nltk_data] Downloading package punkt to /root/nltk_data...\n",
      "[nltk_data]   Unzipping tokenizers/punkt.zip.\n",
      "[nltk_data] Downloading package wordnet to /root/nltk_data...\n",
      "[nltk_data]   Unzipping corpora/wordnet.zip.\n"
     ]
    },
    {
     "data": {
      "text/plain": [
       "True"
      ]
     },
     "execution_count": 4,
     "metadata": {},
     "output_type": "execute_result"
    }
   ],
   "source": [
    "import nltk\n",
    "nltk.download(['punkt', 'wordnet'])"
   ]
  },
  {
   "cell_type": "code",
   "execution_count": 5,
   "metadata": {},
   "outputs": [],
   "source": [
    "import re\n",
    "import pandas as pd\n",
    "import numpy as np\n",
    "from nltk.tokenize import word_tokenize\n",
    "from nltk.stem import WordNetLemmatizer"
   ]
  },
  {
   "cell_type": "code",
   "execution_count": 6,
   "metadata": {},
   "outputs": [],
   "source": [
    "url_regex = 'http[s]?://(?:[a-zA-Z]|[0-9]|[$-_@.&+]|[!*\\(\\),]|(?:%[0-9a-fA-F][0-9a-fA-F]))+'\n",
    "\n",
    "def load_data():\n",
    "    df = pd.read_csv('corporate_messaging.csv', encoding='latin-1')\n",
    "    df = df[(df[\"category:confidence\"] == 1) & (df['category'] != 'Exclude')]\n",
    "    X = df.text.values    \n",
    "    print(\"X Values\",X[:5])\n",
    "    y = df.category.values    \n",
    "    print(\"Y Values\",y[:5])\n",
    "    return X, y\n",
    "\n",
    "def tokenize(text):\n",
    "    detected_urls = re.findall(url_regex, text)\n",
    "    for url in detected_urls:\n",
    "        text = text.replace(url, \"urlplaceholder\")\n",
    "\n",
    "    tokens = word_tokenize(text)\n",
    "    lemmatizer = WordNetLemmatizer()\n",
    "\n",
    "    clean_tokens = []\n",
    "    for tok in tokens:\n",
    "        clean_tok = lemmatizer.lemmatize(tok).lower().strip()\n",
    "        clean_tokens.append(clean_tok)\n",
    "\n",
    "    return clean_tokens"
   ]
  },
  {
   "cell_type": "markdown",
   "metadata": {},
   "source": [
    "### Step 1: Load data and perform a train test split"
   ]
  },
  {
   "cell_type": "code",
   "execution_count": 7,
   "metadata": {},
   "outputs": [
    {
     "name": "stdout",
     "output_type": "stream",
     "text": [
      "X Values [ 'Barclays CEO stresses the importance of regulatory and cultural reform in financial services at Brussels conference  http://t.co/Ge9Lp7hpyG'\n",
      " 'Barclays announces result of Rights Issue http://t.co/LbIqqh3wwG'\n",
      " 'Barclays publishes its prospectus for its å£5.8bn Rights Issue: http://t.co/YZk24iE8G6'\n",
      " 'Barclays Group Finance Director Chris Lucas is to step down at the end of the week due to ill health http://t.co/nkuHoAfnSD'\n",
      " 'Barclays announces that Irene McDermott Brown has been appointed as Group Human Resources Director http://t.co/c3fNGY6NMT']\n",
      "Y Values ['Information' 'Information' 'Information' 'Information' 'Information']\n",
      "Label Categories ['Action' 'Dialogue' 'Information']\n",
      "Encoded Labels [0 1 2]\n"
     ]
    }
   ],
   "source": [
    "from sklearn.model_selection import train_test_split \n",
    "from sklearn.preprocessing import LabelEncoder\n",
    "\n",
    "# load data\n",
    "X, y = load_data()\n",
    "\n",
    "print(\"Label Categories\",np.unique(y))\n",
    "\n",
    "cat = LabelEncoder()\n",
    "\n",
    "y_cat = cat.fit_transform(y)\n",
    "\n",
    "print(\"Encoded Labels\", np.unique(y_cat))\n",
    "\n",
    "# perform train test split\n",
    "\n",
    "X_train, X_test, y_train, y_test = train_test_split(X, y_cat, test_size=.25)\n",
    "\n",
    "#print(y_train)\n",
    "\n",
    "#print(y_test)\n"
   ]
  },
  {
   "cell_type": "markdown",
   "metadata": {},
   "source": [
    "### Step 2: Train classifier\n",
    "* Fit and transform the training data with `CountVectorizer`. Hint: You can include your tokenize function in the `tokenizer` keyword argument!\n",
    "* Fit and transform these word counts with `TfidfTransformer`.\n",
    "* Fit a classifier to these tfidf values."
   ]
  },
  {
   "cell_type": "code",
   "execution_count": 8,
   "metadata": {},
   "outputs": [
    {
     "name": "stdout",
     "output_type": "stream",
     "text": [
      "(1802, 5548)\n",
      "[[0 0 0 ..., 0 0 0]\n",
      " [0 1 0 ..., 0 0 0]\n",
      " [0 1 0 ..., 0 0 0]\n",
      " ..., \n",
      " [0 2 0 ..., 0 0 0]\n",
      " [0 1 0 ..., 0 0 0]\n",
      " [0 0 0 ..., 0 0 0]]\n",
      "(1802, 5548)\n",
      "[[ 0.          0.          0.         ...,  0.          0.          0.        ]\n",
      " [ 0.          0.07676674  0.         ...,  0.          0.          0.        ]\n",
      " [ 0.          0.08673402  0.         ...,  0.          0.          0.        ]\n",
      " ..., \n",
      " [ 0.          0.10012939  0.         ...,  0.          0.          0.        ]\n",
      " [ 0.          0.05302439  0.         ...,  0.          0.          0.        ]\n",
      " [ 0.          0.          0.         ...,  0.          0.          0.        ]]\n",
      "[0 1 2]\n"
     ]
    }
   ],
   "source": [
    "from sklearn.feature_extraction.text import CountVectorizer\n",
    "from sklearn.feature_extraction.text import TfidfTransformer\n",
    "from sklearn.linear_model import LogisticRegression\n",
    "import numpy as np\n",
    "\n",
    "# Instantiate transformers and classifier\n",
    "# Bag of words approach ....word count \n",
    "vect = CountVectorizer(tokenizer=tokenize)\n",
    "\n",
    "\n",
    "# the transformer applies weighting to frequency counts so that unique words more heavily characterize the document \n",
    "tfidf = TfidfTransformer()\n",
    "\n",
    "clf = LogisticRegression()\n",
    "\n",
    "# Fit and/or transform each to the data\n",
    "\n",
    "X_count = vect.fit_transform(X_train)\n",
    "\n",
    "#full vocabulary \n",
    "#print(vect.get_feature_names())\n",
    "\n",
    "X_trans = tfidf.fit_transform(X_count)\n",
    "\n",
    "print(X_count.shape)\n",
    "print(X_count.toarray())\n",
    "\n",
    "print(X_trans.shape)\n",
    "print(X_trans.toarray())\n",
    "\n",
    "print(np.unique(y_train))\n",
    "\n",
    "model = clf.fit(X_trans, y_train)\n",
    "\n",
    "# Number of columns equal to number of words in vocabulary, each column represents an individual word in vocab\n",
    "# Number of rows ~ number of documents. In this case messages  \n"
   ]
  },
  {
   "cell_type": "markdown",
   "metadata": {},
   "source": [
    "### Step 3: Predict on test data\n"
   ]
  },
  {
   "cell_type": "code",
   "execution_count": 9,
   "metadata": {},
   "outputs": [
    {
     "name": "stdout",
     "output_type": "stream",
     "text": [
      "0.890183028286\n"
     ]
    }
   ],
   "source": [
    "# Transform test data\n",
    "\n",
    "X_test_count = vect.transform(X_test)\n",
    "\n",
    "X_test_tfidf = tfidf.transform(X_test_count)\n",
    "\n",
    "# Predict test labels\n",
    "score = model.score(X_test_tfidf, y_test)\n",
    "\n",
    "print(score)\n",
    "\n",
    "y_pred = model.predict(X_test_tfidf)"
   ]
  },
  {
   "cell_type": "markdown",
   "metadata": {},
   "source": [
    "### Step 4: Display results\n",
    "Display a confusion matrix and accuracy score based on the model's predictions."
   ]
  },
  {
   "cell_type": "code",
   "execution_count": 10,
   "metadata": {},
   "outputs": [
    {
     "name": "stdout",
     "output_type": "stream",
     "text": [
      "[2 2 2 2 0 2 2 2 2 2 2 0 2 0 2 1 2 0 0 2 2 0 2 2 2 2 2 2 1 1 2 2 2 2 2 2 2\n",
      " 2 2 2 2 2 2 0 2 2 2 1 2 2 2 2 2 0 2 2 0 2 2 2 2 2 0 2 2 2 2 2 2 2 2 2 2 2\n",
      " 2 0 0 2 2 2 0 2 2 2 2 2 2 2 2 0 0 2 2 2 2 2 2 2 0 2 2 2 2 2 2 2 2 2 2 2 0\n",
      " 2 2 2 0 2 2 1 2 0 0 2 2 0 2 2 1 2 2 0 2 2 2 2 2 2 0 2 2 2 2 0 2 2 2 0 0 2\n",
      " 2 0 2 2 2 1 2 2 2 0 2 2 2 2 2 2 2 2 2 2 2 0 2 0 0 0 2 0 2 2 2 2 0 2 2 2 2\n",
      " 2 2 2 2 0 0 0 2 2 2 2 2 2 2 0 0 2 2 2 0 2 2 0 2 0 2 2 0 2 1 2 2 2 2 2 2 2\n",
      " 2 1 2 2 2 2 2 2 2 0 2 0 2 1 2 2 2 1 2 2 2 2 2 2 2 2 2 2 2 2 2 2 2 0 0 2 0\n",
      " 2 2 2 2 2 0 2 2 2 0 2 1 0 0 0 2 2 0 2 2 2 2 2 2 2 2 1 2 2 2 2 2 0 2 0 2 2\n",
      " 2 2 2 2 2 1 2 2 0 2 2 2 0 2 0 2 2 2 0 0 1 1 0 0 2 2 2 0 2 2 0 2 2 2 2 1 0\n",
      " 2 0 2 2 2 0 2 2 2 2 0 2 2 2 2 2 2 2 2 2 2 2 2 2 2 2 2 2 2 2 2 0 2 2 2 0 2\n",
      " 2 2 2 2 2 0 2 2 2 1 2 2 2 2 2 1 2 0 0 2 2 2 0 2 2 2 2 2 2 2 2 0 2 2 2 2 2\n",
      " 2 0 2 1 2 1 0 0 2 1 0 0 2 0 2 2 2 2 2 1 0 2 2 2 0 1 2 2 2 0 2 2 2 2 2 0 2\n",
      " 2 2 2 2 2 2 2 2 2 2 2 1 0 0 2 2 0 0 0 2 2 2 0 0 2 0 1 2 2 2 2 2 2 2 2 2 2\n",
      " 2 2 0 0 1 2 2 0 0 2 2 2 2 0 2 2 1 2 2 2 1 2 0 2 0 2 2 2 2 0 2 2 1 1 2 2 2\n",
      " 2 2 0 2 2 0 2 0 2 2 2 2 2 2 2 2 2 2 2 2 2 2 2 2 2 0 0 2 0 2 0 0 2 0 2 0 2\n",
      " 2 2 2 2 2 2 2 2 2 2 2 2 2 0 2 2 0 0 2 2 2 2 2 0 2 2 2 2 2 2 2 2 2 2 0 2 2\n",
      " 0 2 2 1 2 2 2 2 2]\n"
     ]
    }
   ],
   "source": [
    "print(y_test)"
   ]
  },
  {
   "cell_type": "code",
   "execution_count": 11,
   "metadata": {},
   "outputs": [
    {
     "name": "stdout",
     "output_type": "stream",
     "text": [
      "[2 2 2 2 0 2 2 2 2 2 2 0 2 2 2 1 2 2 2 2 2 0 2 2 2 2 2 2 1 0 2 2 2 2 2 2 2\n",
      " 2 2 2 2 2 2 2 2 2 2 1 2 2 2 2 2 0 2 2 2 2 2 2 2 2 2 2 2 2 2 2 2 2 2 2 2 2\n",
      " 2 0 2 2 2 2 0 2 2 2 2 2 2 2 2 0 0 2 2 2 2 2 2 2 2 2 2 2 2 2 2 2 2 2 2 2 0\n",
      " 2 2 2 0 2 2 1 2 2 0 2 2 2 2 2 2 2 2 0 2 2 2 2 2 2 2 2 2 2 2 0 2 2 2 2 0 2\n",
      " 2 0 2 2 2 1 2 2 2 0 2 2 2 2 2 2 2 2 2 2 2 0 2 0 2 2 2 2 2 2 2 2 2 2 2 2 2\n",
      " 2 2 2 2 0 2 2 2 2 2 2 2 2 2 2 2 2 2 2 0 2 2 2 2 0 2 2 2 2 1 2 2 2 2 2 2 2\n",
      " 2 1 2 2 2 2 2 2 2 2 2 0 2 1 2 2 2 1 2 2 2 2 2 2 2 2 2 2 2 2 2 2 2 0 2 2 0\n",
      " 2 2 2 2 2 0 2 2 2 2 2 1 2 0 2 2 2 2 2 2 2 2 2 2 2 2 2 2 2 2 2 2 0 2 0 2 2\n",
      " 2 2 2 2 2 1 2 2 2 2 2 2 0 2 0 2 2 2 0 0 1 2 2 0 2 2 2 2 2 2 0 2 2 2 2 1 0\n",
      " 2 0 2 2 2 0 2 2 2 2 0 2 2 2 2 2 2 2 2 2 2 2 2 2 2 2 2 2 2 2 2 0 2 2 2 0 2\n",
      " 2 2 2 2 2 0 2 2 2 1 2 2 2 2 2 1 2 2 2 2 2 0 2 2 2 2 2 2 2 2 2 0 2 2 2 2 2\n",
      " 2 0 2 2 2 2 0 2 2 2 2 0 2 0 2 2 2 2 2 1 2 2 2 2 2 2 2 2 2 2 2 2 2 2 2 2 2\n",
      " 2 2 2 2 2 2 2 2 2 2 2 2 2 2 2 2 2 0 2 2 0 2 2 0 2 0 1 2 2 2 2 2 2 2 2 2 2\n",
      " 2 2 2 0 1 2 2 2 0 2 2 2 2 2 2 2 1 2 2 2 1 2 0 2 2 2 2 2 2 2 2 2 1 1 2 2 2\n",
      " 2 2 0 2 2 0 2 0 2 2 2 2 2 2 2 2 2 2 2 2 2 2 2 2 2 0 2 2 0 2 2 0 2 2 2 0 2\n",
      " 2 2 2 2 2 2 2 2 2 2 2 2 2 0 2 2 2 0 2 2 2 2 2 0 2 2 2 2 2 2 2 2 2 2 0 2 2\n",
      " 2 2 2 1 2 2 2 2 2]\n"
     ]
    }
   ],
   "source": [
    "print(y_pred)"
   ]
  },
  {
   "cell_type": "code",
   "execution_count": 12,
   "metadata": {},
   "outputs": [
    {
     "name": "stdout",
     "output_type": "stream",
     "text": [
      "[0 1 2]\n"
     ]
    }
   ],
   "source": [
    "print(np.unique(y_pred.round()))\n"
   ]
  },
  {
   "cell_type": "code",
   "execution_count": 13,
   "metadata": {},
   "outputs": [
    {
     "name": "stdout",
     "output_type": "stream",
     "text": [
      "Confusion Matrix:\n",
      " [[ 63   0  55]\n",
      " [  1  23   8]\n",
      " [  2   0 449]]\n",
      "Accuracy: 0.890183028286\n"
     ]
    }
   ],
   "source": [
    "from sklearn.metrics import confusion_matrix \n",
    "\n",
    "confusion_mat = confusion_matrix(y_test, y_pred)\n",
    "accuracy = score \n",
    "\n",
    "\n",
    "print(\"Confusion Matrix:\\n\", confusion_mat)\n",
    "print(\"Accuracy:\", accuracy)"
   ]
  },
  {
   "cell_type": "markdown",
   "metadata": {},
   "source": [
    "# Final Step: Refactor\n",
    "\n"
   ]
  },
  {
   "cell_type": "code",
   "execution_count": 14,
   "metadata": {},
   "outputs": [],
   "source": [
    "from sklearn.metrics import confusion_matrix \n",
    "\n",
    "def display_results():\n",
    "    \n",
    "    confusion_mat = confusion_matrix(y_test, y_pred)\n",
    "    accuracy = model.score(X_test_tfidf, y_test)\n",
    "\n",
    "    print(\"Confusion Matrix:\\n\", confusion_mat)\n",
    "    print(\"Accuracy:\", accuracy)\n",
    "\n",
    "\n",
    "def main():\n",
    "    \n",
    "    # Load corporate messages from csv, select, lemmatize, tokenize, split data (encode labels)\n",
    "    \n",
    "    X, y = load_data()\n",
    "    \n",
    "    # process label categories into integer categories \n",
    "    \n",
    "    cat = LabelEncoder()\n",
    "\n",
    "    y_cat = cat.fit_transform(y)\n",
    "\n",
    "    print(\"Encoded Labels\", np.unique(y_cat))\n",
    "\n",
    "    # perform train test split\n",
    "\n",
    "    X_train, X_test, y_train, y_test = train_test_split(X, y_cat, test_size=.25)\n",
    "    \n",
    "    # Process tokens,establish voabalulary and table of term freq, weight freq with transformer, implement logistic model\n",
    "    \n",
    "    vect = CountVectorizer(tokenizer=tokenize)\n",
    "    \n",
    "    tfidf = TfidfTransformer()\n",
    "\n",
    "    clf = LogisticRegression()\n",
    "\n",
    "    X_count = vect.fit_transform(X_train)\n",
    "\n",
    "    X_trans = tfidf.fit_transform(X_count)\n",
    "\n",
    "    # logistic regression model \n",
    "    \n",
    "    model = clf.fit(X_trans, y_train)\n",
    "    \n",
    "    # perfrom the same transfromation on test data\n",
    "    \n",
    "    X_test_count = vect.transform(X_test)\n",
    "\n",
    "    X_test_tfidf = tfidf.transform(X_test_count)\n",
    "\n",
    "   # display results     \n",
    "    \n",
    "    display_results()\n",
    "    \n",
    "    "
   ]
  },
  {
   "cell_type": "code",
   "execution_count": 15,
   "metadata": {},
   "outputs": [
    {
     "name": "stdout",
     "output_type": "stream",
     "text": [
      "X Values [ 'Barclays CEO stresses the importance of regulatory and cultural reform in financial services at Brussels conference  http://t.co/Ge9Lp7hpyG'\n",
      " 'Barclays announces result of Rights Issue http://t.co/LbIqqh3wwG'\n",
      " 'Barclays publishes its prospectus for its å£5.8bn Rights Issue: http://t.co/YZk24iE8G6'\n",
      " 'Barclays Group Finance Director Chris Lucas is to step down at the end of the week due to ill health http://t.co/nkuHoAfnSD'\n",
      " 'Barclays announces that Irene McDermott Brown has been appointed as Group Human Resources Director http://t.co/c3fNGY6NMT']\n",
      "Y Values ['Information' 'Information' 'Information' 'Information' 'Information']\n",
      "Encoded Labels [0 1 2]\n",
      "Confusion Matrix:\n",
      " [[ 63   0  55]\n",
      " [  1  23   8]\n",
      " [  2   0 449]]\n",
      "Accuracy: 0.890183028286\n"
     ]
    }
   ],
   "source": [
    "# run program\n",
    "main()"
   ]
  },
  {
   "cell_type": "code",
   "execution_count": null,
   "metadata": {},
   "outputs": [],
   "source": []
  }
 ],
 "metadata": {
  "kernelspec": {
   "display_name": "Python 3",
   "language": "python",
   "name": "python3"
  },
  "language_info": {
   "codemirror_mode": {
    "name": "ipython",
    "version": 3
   },
   "file_extension": ".py",
   "mimetype": "text/x-python",
   "name": "python",
   "nbconvert_exporter": "python",
   "pygments_lexer": "ipython3",
   "version": "3.6.6"
  }
 },
 "nbformat": 4,
 "nbformat_minor": 2
}
