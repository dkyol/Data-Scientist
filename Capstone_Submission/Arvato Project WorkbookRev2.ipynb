{
 "cells": [
  {
   "cell_type": "markdown",
   "metadata": {},
   "source": [
    "# Capstone Project: Create a Customer Segmentation Report for Arvato Financial Services\n",
    "\n",
    "In this project, you will analyze demographics data for customers of a mail-order sales company in Germany, comparing it against demographics information for the general population. You'll use unsupervised learning techniques to perform customer segmentation, identifying the parts of the population that best describe the core customer base of the company. Then, you'll apply what you've learned on a third dataset with demographics information for targets of a marketing campaign for the company, and use a model to predict which individuals are most likely to convert into becoming customers for the company. The data that you will use has been provided by our partners at Bertelsmann Arvato Analytics, and represents a real-life data science task.\n",
    "\n",
    "If you completed the first term of this program, you will be familiar with the first part of this project, from the unsupervised learning project. The versions of those two datasets used in this project will include many more features and has not been pre-cleaned. You are also free to choose whatever approach you'd like to analyzing the data rather than follow pre-determined steps. In your work on this project, make sure that you carefully document your steps and decisions, since your main deliverable for this project will be a blog post reporting your findings."
   ]
  },
  {
   "cell_type": "code",
   "execution_count": 1,
   "metadata": {},
   "outputs": [],
   "source": [
    "# import libraries here; add more as necessary\n",
    "import numpy as np\n",
    "import pandas as pd\n",
    "import matplotlib.pyplot as plt\n",
    "import seaborn as sns\n",
    "\n",
    "# magic word for producing visualizations in notebook\n",
    "%matplotlib inline"
   ]
  },
  {
   "cell_type": "markdown",
   "metadata": {},
   "source": [
    "## Part 0: Get to Know the Data\n",
    "\n",
    "There are four data files associated with this project:\n",
    "\n",
    "- `Udacity_AZDIAS_052018.csv`: Demographics data for the general population of Germany; 891 211 persons (rows) x 366 features (columns).\n",
    "- `Udacity_CUSTOMERS_052018.csv`: Demographics data for customers of a mail-order company; 191 652 persons (rows) x 369 features (columns).\n",
    "- `Udacity_MAILOUT_052018_TRAIN.csv`: Demographics data for individuals who were targets of a marketing campaign; 42 982 persons (rows) x 367 (columns).\n",
    "- `Udacity_MAILOUT_052018_TEST.csv`: Demographics data for individuals who were targets of a marketing campaign; 42 833 persons (rows) x 366 (columns).\n",
    "\n",
    "Each row of the demographics files represents a single person, but also includes information outside of individuals, including information about their household, building, and neighborhood. Use the information from the first two files to figure out how customers (\"CUSTOMERS\") are similar to or differ from the general population at large (\"AZDIAS\"), then use your analysis to make predictions on the other two files (\"MAILOUT\"), predicting which recipients are most likely to become a customer for the mail-order company.\n",
    "\n",
    "The \"CUSTOMERS\" file contains three extra columns ('CUSTOMER_GROUP', 'ONLINE_PURCHASE', and 'PRODUCT_GROUP'), which provide broad information about the customers depicted in the file. The original \"MAILOUT\" file included one additional column, \"RESPONSE\", which indicated whether or not each recipient became a customer of the company. For the \"TRAIN\" subset, this column has been retained, but in the \"TEST\" subset it has been removed; it is against that withheld column that your final predictions will be assessed in the Kaggle competition.\n",
    "\n",
    "Otherwise, all of the remaining columns are the same between the three data files. For more information about the columns depicted in the files, you can refer to two Excel spreadsheets provided in the workspace. [One of them](./DIAS Information Levels - Attributes 2017.xlsx) is a top-level list of attributes and descriptions, organized by informational category. [The other](./DIAS Attributes - Values 2017.xlsx) is a detailed mapping of data values for each feature in alphabetical order.\n",
    "\n",
    "In the below cell, we've provided some initial code to load in the first two datasets. Note for all of the `.csv` data files in this project that they're semicolon (`;`) delimited, so an additional argument in the [`read_csv()`](https://pandas.pydata.org/pandas-docs/stable/generated/pandas.read_csv.html) call has been included to read in the data properly. Also, considering the size of the datasets, it may take some time for them to load completely.\n",
    "\n",
    "You'll notice when the data is loaded in that a warning message will immediately pop up. Before you really start digging into the modeling and analysis, you're going to need to perform some cleaning. Take some time to browse the structure of the data and look over the informational spreadsheets to understand the data values. Make some decisions on which features to keep, which features to drop, and if any revisions need to be made on data formats. It'll be a good idea to create a function with pre-processing steps, since you'll need to clean all of the datasets before you work with them."
   ]
  },
  {
   "cell_type": "code",
   "execution_count": 2,
   "metadata": {},
   "outputs": [
    {
     "name": "stderr",
     "output_type": "stream",
     "text": [
      "/opt/conda/lib/python3.6/site-packages/IPython/core/interactiveshell.py:2785: DtypeWarning: Columns (18,19) have mixed types. Specify dtype option on import or set low_memory=False.\n",
      "  interactivity=interactivity, compiler=compiler, result=result)\n"
     ]
    }
   ],
   "source": [
    "# load in the data\n",
    "azdias = pd.read_csv('../../data/Term2/capstone/arvato_data/Udacity_AZDIAS_052018.csv', sep=';')\n",
    "customers = pd.read_csv('../../data/Term2/capstone/arvato_data/Udacity_CUSTOMERS_052018.csv', sep=';')"
   ]
  },
  {
   "cell_type": "code",
   "execution_count": 3,
   "metadata": {},
   "outputs": [
    {
     "data": {
      "text/html": [
       "<div>\n",
       "<style>\n",
       "    .dataframe thead tr:only-child th {\n",
       "        text-align: right;\n",
       "    }\n",
       "\n",
       "    .dataframe thead th {\n",
       "        text-align: left;\n",
       "    }\n",
       "\n",
       "    .dataframe tbody tr th {\n",
       "        vertical-align: top;\n",
       "    }\n",
       "</style>\n",
       "<table border=\"1\" class=\"dataframe\">\n",
       "  <thead>\n",
       "    <tr style=\"text-align: right;\">\n",
       "      <th></th>\n",
       "      <th>LNR</th>\n",
       "      <th>AGER_TYP</th>\n",
       "      <th>AKT_DAT_KL</th>\n",
       "      <th>ALTER_HH</th>\n",
       "      <th>ALTER_KIND1</th>\n",
       "      <th>ALTER_KIND2</th>\n",
       "      <th>ALTER_KIND3</th>\n",
       "      <th>ALTER_KIND4</th>\n",
       "      <th>ALTERSKATEGORIE_FEIN</th>\n",
       "      <th>ANZ_HAUSHALTE_AKTIV</th>\n",
       "      <th>...</th>\n",
       "      <th>VHN</th>\n",
       "      <th>VK_DHT4A</th>\n",
       "      <th>VK_DISTANZ</th>\n",
       "      <th>VK_ZG11</th>\n",
       "      <th>W_KEIT_KIND_HH</th>\n",
       "      <th>WOHNDAUER_2008</th>\n",
       "      <th>WOHNLAGE</th>\n",
       "      <th>ZABEOTYP</th>\n",
       "      <th>ANREDE_KZ</th>\n",
       "      <th>ALTERSKATEGORIE_GROB</th>\n",
       "    </tr>\n",
       "  </thead>\n",
       "  <tbody>\n",
       "    <tr>\n",
       "      <th>0</th>\n",
       "      <td>910215</td>\n",
       "      <td>-1</td>\n",
       "      <td>NaN</td>\n",
       "      <td>NaN</td>\n",
       "      <td>NaN</td>\n",
       "      <td>NaN</td>\n",
       "      <td>NaN</td>\n",
       "      <td>NaN</td>\n",
       "      <td>NaN</td>\n",
       "      <td>NaN</td>\n",
       "      <td>...</td>\n",
       "      <td>NaN</td>\n",
       "      <td>NaN</td>\n",
       "      <td>NaN</td>\n",
       "      <td>NaN</td>\n",
       "      <td>NaN</td>\n",
       "      <td>NaN</td>\n",
       "      <td>NaN</td>\n",
       "      <td>3</td>\n",
       "      <td>1</td>\n",
       "      <td>2</td>\n",
       "    </tr>\n",
       "    <tr>\n",
       "      <th>1</th>\n",
       "      <td>910220</td>\n",
       "      <td>-1</td>\n",
       "      <td>9.0</td>\n",
       "      <td>0.0</td>\n",
       "      <td>NaN</td>\n",
       "      <td>NaN</td>\n",
       "      <td>NaN</td>\n",
       "      <td>NaN</td>\n",
       "      <td>21.0</td>\n",
       "      <td>11.0</td>\n",
       "      <td>...</td>\n",
       "      <td>4.0</td>\n",
       "      <td>8.0</td>\n",
       "      <td>11.0</td>\n",
       "      <td>10.0</td>\n",
       "      <td>3.0</td>\n",
       "      <td>9.0</td>\n",
       "      <td>4.0</td>\n",
       "      <td>5</td>\n",
       "      <td>2</td>\n",
       "      <td>1</td>\n",
       "    </tr>\n",
       "    <tr>\n",
       "      <th>2</th>\n",
       "      <td>910225</td>\n",
       "      <td>-1</td>\n",
       "      <td>9.0</td>\n",
       "      <td>17.0</td>\n",
       "      <td>NaN</td>\n",
       "      <td>NaN</td>\n",
       "      <td>NaN</td>\n",
       "      <td>NaN</td>\n",
       "      <td>17.0</td>\n",
       "      <td>10.0</td>\n",
       "      <td>...</td>\n",
       "      <td>2.0</td>\n",
       "      <td>9.0</td>\n",
       "      <td>9.0</td>\n",
       "      <td>6.0</td>\n",
       "      <td>3.0</td>\n",
       "      <td>9.0</td>\n",
       "      <td>2.0</td>\n",
       "      <td>5</td>\n",
       "      <td>2</td>\n",
       "      <td>3</td>\n",
       "    </tr>\n",
       "    <tr>\n",
       "      <th>3</th>\n",
       "      <td>910226</td>\n",
       "      <td>2</td>\n",
       "      <td>1.0</td>\n",
       "      <td>13.0</td>\n",
       "      <td>NaN</td>\n",
       "      <td>NaN</td>\n",
       "      <td>NaN</td>\n",
       "      <td>NaN</td>\n",
       "      <td>13.0</td>\n",
       "      <td>1.0</td>\n",
       "      <td>...</td>\n",
       "      <td>0.0</td>\n",
       "      <td>7.0</td>\n",
       "      <td>10.0</td>\n",
       "      <td>11.0</td>\n",
       "      <td>NaN</td>\n",
       "      <td>9.0</td>\n",
       "      <td>7.0</td>\n",
       "      <td>3</td>\n",
       "      <td>2</td>\n",
       "      <td>4</td>\n",
       "    </tr>\n",
       "    <tr>\n",
       "      <th>4</th>\n",
       "      <td>910241</td>\n",
       "      <td>-1</td>\n",
       "      <td>1.0</td>\n",
       "      <td>20.0</td>\n",
       "      <td>NaN</td>\n",
       "      <td>NaN</td>\n",
       "      <td>NaN</td>\n",
       "      <td>NaN</td>\n",
       "      <td>14.0</td>\n",
       "      <td>3.0</td>\n",
       "      <td>...</td>\n",
       "      <td>2.0</td>\n",
       "      <td>3.0</td>\n",
       "      <td>5.0</td>\n",
       "      <td>4.0</td>\n",
       "      <td>2.0</td>\n",
       "      <td>9.0</td>\n",
       "      <td>3.0</td>\n",
       "      <td>4</td>\n",
       "      <td>1</td>\n",
       "      <td>3</td>\n",
       "    </tr>\n",
       "  </tbody>\n",
       "</table>\n",
       "<p>5 rows × 366 columns</p>\n",
       "</div>"
      ],
      "text/plain": [
       "      LNR  AGER_TYP  AKT_DAT_KL  ALTER_HH  ALTER_KIND1  ALTER_KIND2  \\\n",
       "0  910215        -1         NaN       NaN          NaN          NaN   \n",
       "1  910220        -1         9.0       0.0          NaN          NaN   \n",
       "2  910225        -1         9.0      17.0          NaN          NaN   \n",
       "3  910226         2         1.0      13.0          NaN          NaN   \n",
       "4  910241        -1         1.0      20.0          NaN          NaN   \n",
       "\n",
       "   ALTER_KIND3  ALTER_KIND4  ALTERSKATEGORIE_FEIN  ANZ_HAUSHALTE_AKTIV  \\\n",
       "0          NaN          NaN                   NaN                  NaN   \n",
       "1          NaN          NaN                  21.0                 11.0   \n",
       "2          NaN          NaN                  17.0                 10.0   \n",
       "3          NaN          NaN                  13.0                  1.0   \n",
       "4          NaN          NaN                  14.0                  3.0   \n",
       "\n",
       "          ...           VHN  VK_DHT4A  VK_DISTANZ  VK_ZG11  W_KEIT_KIND_HH  \\\n",
       "0         ...           NaN       NaN         NaN      NaN             NaN   \n",
       "1         ...           4.0       8.0        11.0     10.0             3.0   \n",
       "2         ...           2.0       9.0         9.0      6.0             3.0   \n",
       "3         ...           0.0       7.0        10.0     11.0             NaN   \n",
       "4         ...           2.0       3.0         5.0      4.0             2.0   \n",
       "\n",
       "   WOHNDAUER_2008  WOHNLAGE ZABEOTYP ANREDE_KZ ALTERSKATEGORIE_GROB  \n",
       "0             NaN       NaN        3         1                    2  \n",
       "1             9.0       4.0        5         2                    1  \n",
       "2             9.0       2.0        5         2                    3  \n",
       "3             9.0       7.0        3         2                    4  \n",
       "4             9.0       3.0        4         1                    3  \n",
       "\n",
       "[5 rows x 366 columns]"
      ]
     },
     "execution_count": 3,
     "metadata": {},
     "output_type": "execute_result"
    }
   ],
   "source": [
    "azdias.head()"
   ]
  },
  {
   "cell_type": "code",
   "execution_count": 4,
   "metadata": {},
   "outputs": [
    {
     "data": {
      "text/html": [
       "<div>\n",
       "<style>\n",
       "    .dataframe thead tr:only-child th {\n",
       "        text-align: right;\n",
       "    }\n",
       "\n",
       "    .dataframe thead th {\n",
       "        text-align: left;\n",
       "    }\n",
       "\n",
       "    .dataframe tbody tr th {\n",
       "        vertical-align: top;\n",
       "    }\n",
       "</style>\n",
       "<table border=\"1\" class=\"dataframe\">\n",
       "  <thead>\n",
       "    <tr style=\"text-align: right;\">\n",
       "      <th></th>\n",
       "      <th>LNR</th>\n",
       "      <th>AGER_TYP</th>\n",
       "      <th>AKT_DAT_KL</th>\n",
       "      <th>ALTER_HH</th>\n",
       "      <th>ALTER_KIND1</th>\n",
       "      <th>ALTER_KIND2</th>\n",
       "      <th>ALTER_KIND3</th>\n",
       "      <th>ALTER_KIND4</th>\n",
       "      <th>ALTERSKATEGORIE_FEIN</th>\n",
       "      <th>ANZ_HAUSHALTE_AKTIV</th>\n",
       "      <th>...</th>\n",
       "      <th>VK_ZG11</th>\n",
       "      <th>W_KEIT_KIND_HH</th>\n",
       "      <th>WOHNDAUER_2008</th>\n",
       "      <th>WOHNLAGE</th>\n",
       "      <th>ZABEOTYP</th>\n",
       "      <th>PRODUCT_GROUP</th>\n",
       "      <th>CUSTOMER_GROUP</th>\n",
       "      <th>ONLINE_PURCHASE</th>\n",
       "      <th>ANREDE_KZ</th>\n",
       "      <th>ALTERSKATEGORIE_GROB</th>\n",
       "    </tr>\n",
       "  </thead>\n",
       "  <tbody>\n",
       "    <tr>\n",
       "      <th>0</th>\n",
       "      <td>9626</td>\n",
       "      <td>2</td>\n",
       "      <td>1.0</td>\n",
       "      <td>10.0</td>\n",
       "      <td>NaN</td>\n",
       "      <td>NaN</td>\n",
       "      <td>NaN</td>\n",
       "      <td>NaN</td>\n",
       "      <td>10.0</td>\n",
       "      <td>1.0</td>\n",
       "      <td>...</td>\n",
       "      <td>2.0</td>\n",
       "      <td>6.0</td>\n",
       "      <td>9.0</td>\n",
       "      <td>7.0</td>\n",
       "      <td>3</td>\n",
       "      <td>COSMETIC_AND_FOOD</td>\n",
       "      <td>MULTI_BUYER</td>\n",
       "      <td>0</td>\n",
       "      <td>1</td>\n",
       "      <td>4</td>\n",
       "    </tr>\n",
       "    <tr>\n",
       "      <th>1</th>\n",
       "      <td>9628</td>\n",
       "      <td>-1</td>\n",
       "      <td>9.0</td>\n",
       "      <td>11.0</td>\n",
       "      <td>NaN</td>\n",
       "      <td>NaN</td>\n",
       "      <td>NaN</td>\n",
       "      <td>NaN</td>\n",
       "      <td>NaN</td>\n",
       "      <td>NaN</td>\n",
       "      <td>...</td>\n",
       "      <td>3.0</td>\n",
       "      <td>0.0</td>\n",
       "      <td>9.0</td>\n",
       "      <td>NaN</td>\n",
       "      <td>3</td>\n",
       "      <td>FOOD</td>\n",
       "      <td>SINGLE_BUYER</td>\n",
       "      <td>0</td>\n",
       "      <td>1</td>\n",
       "      <td>4</td>\n",
       "    </tr>\n",
       "    <tr>\n",
       "      <th>2</th>\n",
       "      <td>143872</td>\n",
       "      <td>-1</td>\n",
       "      <td>1.0</td>\n",
       "      <td>6.0</td>\n",
       "      <td>NaN</td>\n",
       "      <td>NaN</td>\n",
       "      <td>NaN</td>\n",
       "      <td>NaN</td>\n",
       "      <td>0.0</td>\n",
       "      <td>1.0</td>\n",
       "      <td>...</td>\n",
       "      <td>11.0</td>\n",
       "      <td>6.0</td>\n",
       "      <td>9.0</td>\n",
       "      <td>2.0</td>\n",
       "      <td>3</td>\n",
       "      <td>COSMETIC_AND_FOOD</td>\n",
       "      <td>MULTI_BUYER</td>\n",
       "      <td>0</td>\n",
       "      <td>2</td>\n",
       "      <td>4</td>\n",
       "    </tr>\n",
       "    <tr>\n",
       "      <th>3</th>\n",
       "      <td>143873</td>\n",
       "      <td>1</td>\n",
       "      <td>1.0</td>\n",
       "      <td>8.0</td>\n",
       "      <td>NaN</td>\n",
       "      <td>NaN</td>\n",
       "      <td>NaN</td>\n",
       "      <td>NaN</td>\n",
       "      <td>8.0</td>\n",
       "      <td>0.0</td>\n",
       "      <td>...</td>\n",
       "      <td>2.0</td>\n",
       "      <td>NaN</td>\n",
       "      <td>9.0</td>\n",
       "      <td>7.0</td>\n",
       "      <td>1</td>\n",
       "      <td>COSMETIC</td>\n",
       "      <td>MULTI_BUYER</td>\n",
       "      <td>0</td>\n",
       "      <td>1</td>\n",
       "      <td>4</td>\n",
       "    </tr>\n",
       "    <tr>\n",
       "      <th>4</th>\n",
       "      <td>143874</td>\n",
       "      <td>-1</td>\n",
       "      <td>1.0</td>\n",
       "      <td>20.0</td>\n",
       "      <td>NaN</td>\n",
       "      <td>NaN</td>\n",
       "      <td>NaN</td>\n",
       "      <td>NaN</td>\n",
       "      <td>14.0</td>\n",
       "      <td>7.0</td>\n",
       "      <td>...</td>\n",
       "      <td>4.0</td>\n",
       "      <td>2.0</td>\n",
       "      <td>9.0</td>\n",
       "      <td>3.0</td>\n",
       "      <td>1</td>\n",
       "      <td>FOOD</td>\n",
       "      <td>MULTI_BUYER</td>\n",
       "      <td>0</td>\n",
       "      <td>1</td>\n",
       "      <td>3</td>\n",
       "    </tr>\n",
       "  </tbody>\n",
       "</table>\n",
       "<p>5 rows × 369 columns</p>\n",
       "</div>"
      ],
      "text/plain": [
       "      LNR  AGER_TYP  AKT_DAT_KL  ALTER_HH  ALTER_KIND1  ALTER_KIND2  \\\n",
       "0    9626         2         1.0      10.0          NaN          NaN   \n",
       "1    9628        -1         9.0      11.0          NaN          NaN   \n",
       "2  143872        -1         1.0       6.0          NaN          NaN   \n",
       "3  143873         1         1.0       8.0          NaN          NaN   \n",
       "4  143874        -1         1.0      20.0          NaN          NaN   \n",
       "\n",
       "   ALTER_KIND3  ALTER_KIND4  ALTERSKATEGORIE_FEIN  ANZ_HAUSHALTE_AKTIV  \\\n",
       "0          NaN          NaN                  10.0                  1.0   \n",
       "1          NaN          NaN                   NaN                  NaN   \n",
       "2          NaN          NaN                   0.0                  1.0   \n",
       "3          NaN          NaN                   8.0                  0.0   \n",
       "4          NaN          NaN                  14.0                  7.0   \n",
       "\n",
       "          ...           VK_ZG11  W_KEIT_KIND_HH  WOHNDAUER_2008  WOHNLAGE  \\\n",
       "0         ...               2.0             6.0             9.0       7.0   \n",
       "1         ...               3.0             0.0             9.0       NaN   \n",
       "2         ...              11.0             6.0             9.0       2.0   \n",
       "3         ...               2.0             NaN             9.0       7.0   \n",
       "4         ...               4.0             2.0             9.0       3.0   \n",
       "\n",
       "   ZABEOTYP      PRODUCT_GROUP  CUSTOMER_GROUP ONLINE_PURCHASE ANREDE_KZ  \\\n",
       "0         3  COSMETIC_AND_FOOD     MULTI_BUYER               0         1   \n",
       "1         3               FOOD    SINGLE_BUYER               0         1   \n",
       "2         3  COSMETIC_AND_FOOD     MULTI_BUYER               0         2   \n",
       "3         1           COSMETIC     MULTI_BUYER               0         1   \n",
       "4         1               FOOD     MULTI_BUYER               0         1   \n",
       "\n",
       "  ALTERSKATEGORIE_GROB  \n",
       "0                    4  \n",
       "1                    4  \n",
       "2                    4  \n",
       "3                    4  \n",
       "4                    3  \n",
       "\n",
       "[5 rows x 369 columns]"
      ]
     },
     "execution_count": 4,
     "metadata": {},
     "output_type": "execute_result"
    }
   ],
   "source": [
    "customers.head()"
   ]
  },
  {
   "cell_type": "markdown",
   "metadata": {},
   "source": [
    "## Part 1: Customer Segmentation Report\n",
    "\n",
    "The main bulk of your analysis will come in this part of the project. Here, you should use unsupervised learning techniques to describe the relationship between the demographics of the company's existing customers and the general population of Germany. By the end of this part, you should be able to describe parts of the general population that are more likely to be part of the mail-order company's main customer base, and which parts of the general population are less so."
   ]
  },
  {
   "cell_type": "code",
   "execution_count": 5,
   "metadata": {},
   "outputs": [],
   "source": [
    "def trim_df(df, param):\n",
    "    \n",
    "    '''\n",
    "    This function drops columns that include data with more than \n",
    "    more than the given parameter of the missing rows '''\n",
    "    \n",
    "    percent = param\n",
    "    \n",
    "    null_percentages  = (df.isnull().sum()/df.shape[0]).sort_values(ascending = False)\n",
    "    \n",
    "    null_percentages = pd.DataFrame(null_percentages)\n",
    "    \n",
    "    drop_list = list((null_percentages.loc[(null_percentages[0] > percent) == True]).index.values)\n",
    "\n",
    "    df.drop(labels = drop_list, axis = 1, inplace = True)\n",
    "    \n",
    "    return df   \n",
    "    "
   ]
  },
  {
   "cell_type": "code",
   "execution_count": 6,
   "metadata": {},
   "outputs": [],
   "source": [
    "new_azdias = trim_df(azdias, .0001)"
   ]
  },
  {
   "cell_type": "code",
   "execution_count": 7,
   "metadata": {},
   "outputs": [
    {
     "data": {
      "text/plain": [
       "Index(['LNR', 'AGER_TYP', 'D19_BANKEN_ANZ_12', 'D19_BANKEN_ANZ_24',\n",
       "       'D19_BANKEN_DATUM', 'D19_BANKEN_DIREKT', 'D19_BANKEN_GROSS',\n",
       "       'D19_BANKEN_LOKAL', 'D19_BANKEN_OFFLINE_DATUM',\n",
       "       'D19_BANKEN_ONLINE_DATUM', 'D19_BANKEN_REST', 'D19_BEKLEIDUNG_GEH',\n",
       "       'D19_BEKLEIDUNG_REST', 'D19_BILDUNG', 'D19_BIO_OEKO', 'D19_BUCH_CD',\n",
       "       'D19_DIGIT_SERV', 'D19_DROGERIEARTIKEL', 'D19_ENERGIE', 'D19_FREIZEIT',\n",
       "       'D19_GARTEN', 'D19_GESAMT_ANZ_12', 'D19_GESAMT_ANZ_24',\n",
       "       'D19_GESAMT_DATUM', 'D19_GESAMT_OFFLINE_DATUM',\n",
       "       'D19_GESAMT_ONLINE_DATUM', 'D19_HANDWERK', 'D19_HAUS_DEKO',\n",
       "       'D19_KINDERARTIKEL', 'D19_KONSUMTYP_MAX', 'D19_KOSMETIK',\n",
       "       'D19_LEBENSMITTEL', 'D19_NAHRUNGSERGAENZUNG', 'D19_RATGEBER',\n",
       "       'D19_REISEN', 'D19_SAMMELARTIKEL', 'D19_SCHUHE', 'D19_SONSTIGE',\n",
       "       'D19_TECHNIK', 'D19_TELKO_ANZ_12', 'D19_TELKO_ANZ_24',\n",
       "       'D19_TELKO_DATUM', 'D19_TELKO_MOBILE', 'D19_TELKO_OFFLINE_DATUM',\n",
       "       'D19_TELKO_ONLINE_DATUM', 'D19_TELKO_REST', 'D19_TIERARTIKEL',\n",
       "       'D19_VERSAND_ANZ_12', 'D19_VERSAND_ANZ_24', 'D19_VERSAND_DATUM',\n",
       "       'D19_VERSAND_OFFLINE_DATUM', 'D19_VERSAND_ONLINE_DATUM',\n",
       "       'D19_VERSAND_REST', 'D19_VERSI_ANZ_12', 'D19_VERSI_ANZ_24',\n",
       "       'D19_VERSI_DATUM', 'D19_VERSI_OFFLINE_DATUM', 'D19_VERSI_ONLINE_DATUM',\n",
       "       'D19_VERSICHERUNGEN', 'D19_VOLLSORTIMENT', 'D19_WEIN_FEINKOST',\n",
       "       'FINANZ_ANLEGER', 'FINANZ_HAUSBAUER', 'FINANZ_MINIMALIST',\n",
       "       'FINANZ_SPARER', 'FINANZ_UNAUFFAELLIGER', 'FINANZ_VORSORGER',\n",
       "       'FINANZTYP', 'GEBURTSJAHR', 'GREEN_AVANTGARDE', 'HEALTH_TYP',\n",
       "       'KOMBIALTER', 'NATIONALITAET_KZ', 'PRAEGENDE_JUGENDJAHRE', 'SEMIO_DOM',\n",
       "       'SEMIO_ERL', 'SEMIO_FAM', 'SEMIO_KAEM', 'SEMIO_KRIT', 'SEMIO_KULT',\n",
       "       'SEMIO_LUST', 'SEMIO_MAT', 'SEMIO_PFLICHT', 'SEMIO_RAT', 'SEMIO_REL',\n",
       "       'SEMIO_SOZ', 'SEMIO_TRADV', 'SEMIO_VERT', 'SHOPPER_TYP', 'VERS_TYP',\n",
       "       'ZABEOTYP', 'ANREDE_KZ', 'ALTERSKATEGORIE_GROB'],\n",
       "      dtype='object')"
      ]
     },
     "execution_count": 7,
     "metadata": {},
     "output_type": "execute_result"
    }
   ],
   "source": [
    "new_azdias.columns"
   ]
  },
  {
   "cell_type": "code",
   "execution_count": 8,
   "metadata": {},
   "outputs": [],
   "source": [
    "new_customers = trim_df(customers, .0001)"
   ]
  },
  {
   "cell_type": "code",
   "execution_count": 9,
   "metadata": {},
   "outputs": [
    {
     "data": {
      "text/html": [
       "<div>\n",
       "<style>\n",
       "    .dataframe thead tr:only-child th {\n",
       "        text-align: right;\n",
       "    }\n",
       "\n",
       "    .dataframe thead th {\n",
       "        text-align: left;\n",
       "    }\n",
       "\n",
       "    .dataframe tbody tr th {\n",
       "        vertical-align: top;\n",
       "    }\n",
       "</style>\n",
       "<table border=\"1\" class=\"dataframe\">\n",
       "  <thead>\n",
       "    <tr style=\"text-align: right;\">\n",
       "      <th></th>\n",
       "      <th>LNR</th>\n",
       "      <th>AGER_TYP</th>\n",
       "      <th>D19_BANKEN_ANZ_12</th>\n",
       "      <th>D19_BANKEN_ANZ_24</th>\n",
       "      <th>D19_BANKEN_DATUM</th>\n",
       "      <th>D19_BANKEN_DIREKT</th>\n",
       "      <th>D19_BANKEN_GROSS</th>\n",
       "      <th>D19_BANKEN_LOKAL</th>\n",
       "      <th>D19_BANKEN_OFFLINE_DATUM</th>\n",
       "      <th>D19_BANKEN_ONLINE_DATUM</th>\n",
       "      <th>...</th>\n",
       "      <th>SEMIO_RAT</th>\n",
       "      <th>SEMIO_REL</th>\n",
       "      <th>SEMIO_SOZ</th>\n",
       "      <th>SEMIO_TRADV</th>\n",
       "      <th>SEMIO_VERT</th>\n",
       "      <th>SHOPPER_TYP</th>\n",
       "      <th>VERS_TYP</th>\n",
       "      <th>ZABEOTYP</th>\n",
       "      <th>ANREDE_KZ</th>\n",
       "      <th>ALTERSKATEGORIE_GROB</th>\n",
       "    </tr>\n",
       "  </thead>\n",
       "  <tbody>\n",
       "    <tr>\n",
       "      <th>0</th>\n",
       "      <td>910215</td>\n",
       "      <td>-1</td>\n",
       "      <td>0</td>\n",
       "      <td>0</td>\n",
       "      <td>10</td>\n",
       "      <td>0</td>\n",
       "      <td>0</td>\n",
       "      <td>0</td>\n",
       "      <td>10</td>\n",
       "      <td>10</td>\n",
       "      <td>...</td>\n",
       "      <td>4</td>\n",
       "      <td>7</td>\n",
       "      <td>2</td>\n",
       "      <td>3</td>\n",
       "      <td>1</td>\n",
       "      <td>-1</td>\n",
       "      <td>-1</td>\n",
       "      <td>3</td>\n",
       "      <td>1</td>\n",
       "      <td>2</td>\n",
       "    </tr>\n",
       "    <tr>\n",
       "      <th>1</th>\n",
       "      <td>910220</td>\n",
       "      <td>-1</td>\n",
       "      <td>0</td>\n",
       "      <td>0</td>\n",
       "      <td>10</td>\n",
       "      <td>0</td>\n",
       "      <td>0</td>\n",
       "      <td>0</td>\n",
       "      <td>10</td>\n",
       "      <td>10</td>\n",
       "      <td>...</td>\n",
       "      <td>6</td>\n",
       "      <td>4</td>\n",
       "      <td>5</td>\n",
       "      <td>6</td>\n",
       "      <td>1</td>\n",
       "      <td>3</td>\n",
       "      <td>2</td>\n",
       "      <td>5</td>\n",
       "      <td>2</td>\n",
       "      <td>1</td>\n",
       "    </tr>\n",
       "    <tr>\n",
       "      <th>2</th>\n",
       "      <td>910225</td>\n",
       "      <td>-1</td>\n",
       "      <td>0</td>\n",
       "      <td>0</td>\n",
       "      <td>10</td>\n",
       "      <td>0</td>\n",
       "      <td>0</td>\n",
       "      <td>0</td>\n",
       "      <td>10</td>\n",
       "      <td>10</td>\n",
       "      <td>...</td>\n",
       "      <td>4</td>\n",
       "      <td>3</td>\n",
       "      <td>4</td>\n",
       "      <td>3</td>\n",
       "      <td>4</td>\n",
       "      <td>2</td>\n",
       "      <td>1</td>\n",
       "      <td>5</td>\n",
       "      <td>2</td>\n",
       "      <td>3</td>\n",
       "    </tr>\n",
       "    <tr>\n",
       "      <th>3</th>\n",
       "      <td>910226</td>\n",
       "      <td>2</td>\n",
       "      <td>0</td>\n",
       "      <td>0</td>\n",
       "      <td>10</td>\n",
       "      <td>0</td>\n",
       "      <td>0</td>\n",
       "      <td>0</td>\n",
       "      <td>10</td>\n",
       "      <td>10</td>\n",
       "      <td>...</td>\n",
       "      <td>3</td>\n",
       "      <td>2</td>\n",
       "      <td>5</td>\n",
       "      <td>4</td>\n",
       "      <td>4</td>\n",
       "      <td>1</td>\n",
       "      <td>1</td>\n",
       "      <td>3</td>\n",
       "      <td>2</td>\n",
       "      <td>4</td>\n",
       "    </tr>\n",
       "    <tr>\n",
       "      <th>4</th>\n",
       "      <td>910241</td>\n",
       "      <td>-1</td>\n",
       "      <td>3</td>\n",
       "      <td>5</td>\n",
       "      <td>5</td>\n",
       "      <td>1</td>\n",
       "      <td>2</td>\n",
       "      <td>0</td>\n",
       "      <td>10</td>\n",
       "      <td>5</td>\n",
       "      <td>...</td>\n",
       "      <td>2</td>\n",
       "      <td>4</td>\n",
       "      <td>6</td>\n",
       "      <td>2</td>\n",
       "      <td>7</td>\n",
       "      <td>2</td>\n",
       "      <td>2</td>\n",
       "      <td>4</td>\n",
       "      <td>1</td>\n",
       "      <td>3</td>\n",
       "    </tr>\n",
       "  </tbody>\n",
       "</table>\n",
       "<p>5 rows × 93 columns</p>\n",
       "</div>"
      ],
      "text/plain": [
       "      LNR  AGER_TYP  D19_BANKEN_ANZ_12  D19_BANKEN_ANZ_24  D19_BANKEN_DATUM  \\\n",
       "0  910215        -1                  0                  0                10   \n",
       "1  910220        -1                  0                  0                10   \n",
       "2  910225        -1                  0                  0                10   \n",
       "3  910226         2                  0                  0                10   \n",
       "4  910241        -1                  3                  5                 5   \n",
       "\n",
       "   D19_BANKEN_DIREKT  D19_BANKEN_GROSS  D19_BANKEN_LOKAL  \\\n",
       "0                  0                 0                 0   \n",
       "1                  0                 0                 0   \n",
       "2                  0                 0                 0   \n",
       "3                  0                 0                 0   \n",
       "4                  1                 2                 0   \n",
       "\n",
       "   D19_BANKEN_OFFLINE_DATUM  D19_BANKEN_ONLINE_DATUM          ...           \\\n",
       "0                        10                       10          ...            \n",
       "1                        10                       10          ...            \n",
       "2                        10                       10          ...            \n",
       "3                        10                       10          ...            \n",
       "4                        10                        5          ...            \n",
       "\n",
       "   SEMIO_RAT  SEMIO_REL  SEMIO_SOZ  SEMIO_TRADV  SEMIO_VERT  SHOPPER_TYP  \\\n",
       "0          4          7          2            3           1           -1   \n",
       "1          6          4          5            6           1            3   \n",
       "2          4          3          4            3           4            2   \n",
       "3          3          2          5            4           4            1   \n",
       "4          2          4          6            2           7            2   \n",
       "\n",
       "   VERS_TYP  ZABEOTYP  ANREDE_KZ  ALTERSKATEGORIE_GROB  \n",
       "0        -1         3          1                     2  \n",
       "1         2         5          2                     1  \n",
       "2         1         5          2                     3  \n",
       "3         1         3          2                     4  \n",
       "4         2         4          1                     3  \n",
       "\n",
       "[5 rows x 93 columns]"
      ]
     },
     "execution_count": 9,
     "metadata": {},
     "output_type": "execute_result"
    }
   ],
   "source": [
    "azdias.head()"
   ]
  },
  {
   "cell_type": "code",
   "execution_count": 10,
   "metadata": {},
   "outputs": [
    {
     "data": {
      "text/html": [
       "<div>\n",
       "<style>\n",
       "    .dataframe thead tr:only-child th {\n",
       "        text-align: right;\n",
       "    }\n",
       "\n",
       "    .dataframe thead th {\n",
       "        text-align: left;\n",
       "    }\n",
       "\n",
       "    .dataframe tbody tr th {\n",
       "        vertical-align: top;\n",
       "    }\n",
       "</style>\n",
       "<table border=\"1\" class=\"dataframe\">\n",
       "  <thead>\n",
       "    <tr style=\"text-align: right;\">\n",
       "      <th></th>\n",
       "      <th>LNR</th>\n",
       "      <th>AGER_TYP</th>\n",
       "      <th>D19_BANKEN_ANZ_12</th>\n",
       "      <th>D19_BANKEN_ANZ_24</th>\n",
       "      <th>D19_BANKEN_DATUM</th>\n",
       "      <th>D19_BANKEN_DIREKT</th>\n",
       "      <th>D19_BANKEN_GROSS</th>\n",
       "      <th>D19_BANKEN_LOKAL</th>\n",
       "      <th>D19_BANKEN_OFFLINE_DATUM</th>\n",
       "      <th>D19_BANKEN_ONLINE_DATUM</th>\n",
       "      <th>...</th>\n",
       "      <th>SEMIO_TRADV</th>\n",
       "      <th>SEMIO_VERT</th>\n",
       "      <th>SHOPPER_TYP</th>\n",
       "      <th>VERS_TYP</th>\n",
       "      <th>ZABEOTYP</th>\n",
       "      <th>PRODUCT_GROUP</th>\n",
       "      <th>CUSTOMER_GROUP</th>\n",
       "      <th>ONLINE_PURCHASE</th>\n",
       "      <th>ANREDE_KZ</th>\n",
       "      <th>ALTERSKATEGORIE_GROB</th>\n",
       "    </tr>\n",
       "  </thead>\n",
       "  <tbody>\n",
       "    <tr>\n",
       "      <th>0</th>\n",
       "      <td>9626</td>\n",
       "      <td>2</td>\n",
       "      <td>0</td>\n",
       "      <td>0</td>\n",
       "      <td>10</td>\n",
       "      <td>0</td>\n",
       "      <td>0</td>\n",
       "      <td>0</td>\n",
       "      <td>10</td>\n",
       "      <td>10</td>\n",
       "      <td>...</td>\n",
       "      <td>1</td>\n",
       "      <td>6</td>\n",
       "      <td>3</td>\n",
       "      <td>1</td>\n",
       "      <td>3</td>\n",
       "      <td>COSMETIC_AND_FOOD</td>\n",
       "      <td>MULTI_BUYER</td>\n",
       "      <td>0</td>\n",
       "      <td>1</td>\n",
       "      <td>4</td>\n",
       "    </tr>\n",
       "    <tr>\n",
       "      <th>1</th>\n",
       "      <td>9628</td>\n",
       "      <td>-1</td>\n",
       "      <td>0</td>\n",
       "      <td>1</td>\n",
       "      <td>6</td>\n",
       "      <td>0</td>\n",
       "      <td>5</td>\n",
       "      <td>0</td>\n",
       "      <td>10</td>\n",
       "      <td>10</td>\n",
       "      <td>...</td>\n",
       "      <td>1</td>\n",
       "      <td>7</td>\n",
       "      <td>3</td>\n",
       "      <td>1</td>\n",
       "      <td>3</td>\n",
       "      <td>FOOD</td>\n",
       "      <td>SINGLE_BUYER</td>\n",
       "      <td>0</td>\n",
       "      <td>1</td>\n",
       "      <td>4</td>\n",
       "    </tr>\n",
       "    <tr>\n",
       "      <th>2</th>\n",
       "      <td>143872</td>\n",
       "      <td>-1</td>\n",
       "      <td>0</td>\n",
       "      <td>0</td>\n",
       "      <td>10</td>\n",
       "      <td>0</td>\n",
       "      <td>0</td>\n",
       "      <td>0</td>\n",
       "      <td>10</td>\n",
       "      <td>10</td>\n",
       "      <td>...</td>\n",
       "      <td>1</td>\n",
       "      <td>3</td>\n",
       "      <td>1</td>\n",
       "      <td>2</td>\n",
       "      <td>3</td>\n",
       "      <td>COSMETIC_AND_FOOD</td>\n",
       "      <td>MULTI_BUYER</td>\n",
       "      <td>0</td>\n",
       "      <td>2</td>\n",
       "      <td>4</td>\n",
       "    </tr>\n",
       "    <tr>\n",
       "      <th>3</th>\n",
       "      <td>143873</td>\n",
       "      <td>1</td>\n",
       "      <td>0</td>\n",
       "      <td>0</td>\n",
       "      <td>10</td>\n",
       "      <td>0</td>\n",
       "      <td>0</td>\n",
       "      <td>0</td>\n",
       "      <td>10</td>\n",
       "      <td>10</td>\n",
       "      <td>...</td>\n",
       "      <td>4</td>\n",
       "      <td>7</td>\n",
       "      <td>0</td>\n",
       "      <td>1</td>\n",
       "      <td>1</td>\n",
       "      <td>COSMETIC</td>\n",
       "      <td>MULTI_BUYER</td>\n",
       "      <td>0</td>\n",
       "      <td>1</td>\n",
       "      <td>4</td>\n",
       "    </tr>\n",
       "    <tr>\n",
       "      <th>4</th>\n",
       "      <td>143874</td>\n",
       "      <td>-1</td>\n",
       "      <td>1</td>\n",
       "      <td>2</td>\n",
       "      <td>3</td>\n",
       "      <td>5</td>\n",
       "      <td>0</td>\n",
       "      <td>3</td>\n",
       "      <td>10</td>\n",
       "      <td>7</td>\n",
       "      <td>...</td>\n",
       "      <td>4</td>\n",
       "      <td>5</td>\n",
       "      <td>1</td>\n",
       "      <td>2</td>\n",
       "      <td>1</td>\n",
       "      <td>FOOD</td>\n",
       "      <td>MULTI_BUYER</td>\n",
       "      <td>0</td>\n",
       "      <td>1</td>\n",
       "      <td>3</td>\n",
       "    </tr>\n",
       "  </tbody>\n",
       "</table>\n",
       "<p>5 rows × 96 columns</p>\n",
       "</div>"
      ],
      "text/plain": [
       "      LNR  AGER_TYP  D19_BANKEN_ANZ_12  D19_BANKEN_ANZ_24  D19_BANKEN_DATUM  \\\n",
       "0    9626         2                  0                  0                10   \n",
       "1    9628        -1                  0                  1                 6   \n",
       "2  143872        -1                  0                  0                10   \n",
       "3  143873         1                  0                  0                10   \n",
       "4  143874        -1                  1                  2                 3   \n",
       "\n",
       "   D19_BANKEN_DIREKT  D19_BANKEN_GROSS  D19_BANKEN_LOKAL  \\\n",
       "0                  0                 0                 0   \n",
       "1                  0                 5                 0   \n",
       "2                  0                 0                 0   \n",
       "3                  0                 0                 0   \n",
       "4                  5                 0                 3   \n",
       "\n",
       "   D19_BANKEN_OFFLINE_DATUM  D19_BANKEN_ONLINE_DATUM          ...           \\\n",
       "0                        10                       10          ...            \n",
       "1                        10                       10          ...            \n",
       "2                        10                       10          ...            \n",
       "3                        10                       10          ...            \n",
       "4                        10                        7          ...            \n",
       "\n",
       "   SEMIO_TRADV  SEMIO_VERT  SHOPPER_TYP  VERS_TYP  ZABEOTYP  \\\n",
       "0            1           6            3         1         3   \n",
       "1            1           7            3         1         3   \n",
       "2            1           3            1         2         3   \n",
       "3            4           7            0         1         1   \n",
       "4            4           5            1         2         1   \n",
       "\n",
       "       PRODUCT_GROUP  CUSTOMER_GROUP  ONLINE_PURCHASE  ANREDE_KZ  \\\n",
       "0  COSMETIC_AND_FOOD     MULTI_BUYER                0          1   \n",
       "1               FOOD    SINGLE_BUYER                0          1   \n",
       "2  COSMETIC_AND_FOOD     MULTI_BUYER                0          2   \n",
       "3           COSMETIC     MULTI_BUYER                0          1   \n",
       "4               FOOD     MULTI_BUYER                0          1   \n",
       "\n",
       "   ALTERSKATEGORIE_GROB  \n",
       "0                     4  \n",
       "1                     4  \n",
       "2                     4  \n",
       "3                     4  \n",
       "4                     3  \n",
       "\n",
       "[5 rows x 96 columns]"
      ]
     },
     "execution_count": 10,
     "metadata": {},
     "output_type": "execute_result"
    }
   ],
   "source": [
    "customers.head()"
   ]
  },
  {
   "cell_type": "code",
   "execution_count": 11,
   "metadata": {},
   "outputs": [],
   "source": [
    "def plot_comparison(country, customers, string_col):\n",
    "\n",
    "    x = country.value_counts().index.values\n",
    "\n",
    "    y1 = country.value_counts()/len(country)\n",
    "\n",
    "    y2 = customers.value_counts()/len(customers)\n",
    "\n",
    "    f, (ax1, ax2) = plt.subplots(1, 2, sharey=True)\n",
    "    ax1.bar(x, y1)\n",
    "    ax1.set_title('Population')\n",
    "    ax2.bar(x, y2)\n",
    "    ax2.set_title('Customers')\n",
    "    plt.show()"
   ]
  },
  {
   "cell_type": "code",
   "execution_count": 12,
   "metadata": {},
   "outputs": [
    {
     "data": {
      "text/plain": [
       "['D19_GESAMT_ANZ_12',\n",
       " 'GREEN_AVANTGARDE',\n",
       " 'D19_BIO_OEKO',\n",
       " 'D19_GESAMT_ANZ_24',\n",
       " 'SEMIO_RAT',\n",
       " 'ALTERSKATEGORIE_GROB',\n",
       " 'FINANZ_HAUSBAUER',\n",
       " 'D19_HANDWERK',\n",
       " 'D19_TELKO_ANZ_24',\n",
       " 'D19_TELKO_REST',\n",
       " 'SEMIO_FAM',\n",
       " 'D19_TELKO_MOBILE',\n",
       " 'FINANZ_SPARER',\n",
       " 'SEMIO_REL',\n",
       " 'D19_TELKO_OFFLINE_DATUM',\n",
       " 'GEBURTSJAHR',\n",
       " 'D19_BEKLEIDUNG_REST',\n",
       " 'D19_SAMMELARTIKEL',\n",
       " 'D19_BANKEN_DIREKT',\n",
       " 'D19_BANKEN_GROSS',\n",
       " 'D19_BEKLEIDUNG_GEH',\n",
       " 'D19_VOLLSORTIMENT',\n",
       " 'SEMIO_KULT',\n",
       " 'D19_ENERGIE',\n",
       " 'D19_TECHNIK',\n",
       " 'SEMIO_DOM',\n",
       " 'D19_VERSI_OFFLINE_DATUM',\n",
       " 'D19_VERSAND_ANZ_12',\n",
       " 'D19_GESAMT_ONLINE_DATUM',\n",
       " 'D19_BUCH_CD',\n",
       " 'FINANZTYP',\n",
       " 'D19_BANKEN_LOKAL',\n",
       " 'FINANZ_VORSORGER',\n",
       " 'D19_BANKEN_ANZ_24',\n",
       " 'SEMIO_LUST',\n",
       " 'D19_TELKO_DATUM',\n",
       " 'AGER_TYP',\n",
       " 'D19_TIERARTIKEL',\n",
       " 'D19_TELKO_ONLINE_DATUM',\n",
       " 'D19_NAHRUNGSERGAENZUNG',\n",
       " 'NATIONALITAET_KZ',\n",
       " 'ZABEOTYP',\n",
       " 'SEMIO_SOZ',\n",
       " 'FINANZ_MINIMALIST',\n",
       " 'D19_HAUS_DEKO',\n",
       " 'D19_TELKO_ANZ_12',\n",
       " 'D19_VERSAND_REST',\n",
       " 'SEMIO_ERL',\n",
       " 'SEMIO_KRIT',\n",
       " 'D19_BILDUNG',\n",
       " 'D19_DROGERIEARTIKEL',\n",
       " 'D19_VERSAND_DATUM',\n",
       " 'D19_FREIZEIT',\n",
       " 'D19_SONSTIGE',\n",
       " 'D19_KOSMETIK',\n",
       " 'SHOPPER_TYP',\n",
       " 'VERS_TYP',\n",
       " 'D19_BANKEN_REST',\n",
       " 'D19_VERSI_ONLINE_DATUM',\n",
       " 'D19_BANKEN_OFFLINE_DATUM',\n",
       " 'D19_BANKEN_ONLINE_DATUM',\n",
       " 'D19_GESAMT_OFFLINE_DATUM',\n",
       " 'D19_VERSAND_OFFLINE_DATUM',\n",
       " 'SEMIO_TRADV',\n",
       " 'D19_VERSI_ANZ_24',\n",
       " 'FINANZ_UNAUFFAELLIGER',\n",
       " 'D19_REISEN',\n",
       " 'SEMIO_MAT',\n",
       " 'D19_BANKEN_ANZ_12',\n",
       " 'D19_KINDERARTIKEL',\n",
       " 'D19_WEIN_FEINKOST',\n",
       " 'D19_LEBENSMITTEL',\n",
       " 'FINANZ_ANLEGER',\n",
       " 'D19_VERSICHERUNGEN',\n",
       " 'D19_VERSAND_ANZ_24',\n",
       " 'SEMIO_KAEM',\n",
       " 'D19_RATGEBER',\n",
       " 'D19_GESAMT_DATUM',\n",
       " 'D19_VERSI_DATUM',\n",
       " 'D19_GARTEN',\n",
       " 'HEALTH_TYP',\n",
       " 'SEMIO_PFLICHT',\n",
       " 'D19_VERSAND_ONLINE_DATUM',\n",
       " 'PRAEGENDE_JUGENDJAHRE',\n",
       " 'D19_BANKEN_DATUM',\n",
       " 'ANREDE_KZ',\n",
       " 'D19_VERSI_ANZ_12',\n",
       " 'D19_DIGIT_SERV',\n",
       " 'D19_KONSUMTYP_MAX',\n",
       " 'SEMIO_VERT',\n",
       " 'KOMBIALTER',\n",
       " 'D19_SCHUHE']"
      ]
     },
     "execution_count": 12,
     "metadata": {},
     "output_type": "execute_result"
    }
   ],
   "source": [
    "common = list(set(new_azdias.columns).intersection(set(new_customers.columns)))\n",
    "\n",
    "# drop LNR\n",
    "common.remove('LNR')\n",
    "# drop GEBURTSJAHR\n",
    "#common.remove('GEBURTSJAHR')\n",
    "common"
   ]
  },
  {
   "cell_type": "code",
   "execution_count": 13,
   "metadata": {},
   "outputs": [
    {
     "name": "stdout",
     "output_type": "stream",
     "text": [
      "plot number:  0  plot name:  D19_GESAMT_ANZ_12\n"
     ]
    },
    {
     "data": {
      "image/png": "[encoded data removed]",
      "text/plain": [
       "<matplotlib.figure.Figure at 0x7f3c3a8b6f28>"
      ]
     },
     "metadata": {
      "needs_background": "light"
     },
     "output_type": "display_data"
    },
    {
     "name": "stdout",
     "output_type": "stream",
     "text": [
      "plot number:  1  plot name:  GREEN_AVANTGARDE\n"
     ]
    },
    {
     "data": {
      "image/png": "[encoded data removed]",
      "text/plain": [
       "<matplotlib.figure.Figure at 0x7f3c39cdf4e0>"
      ]
     },
     "metadata": {
      "needs_background": "light"
     },
     "output_type": "display_data"
    },
    {
     "name": "stdout",
     "output_type": "stream",
     "text": [
      "plot number:  2  plot name:  D19_BIO_OEKO\n"
     ]
    },
    {
     "data": {
      "image/png": "[encoded data removed]",
      "text/plain": [
       "<matplotlib.figure.Figure at 0x7f3c39cdf358>"
      ]
     },
     "metadata": {
      "needs_background": "light"
     },
     "output_type": "display_data"
    },
    {
     "name": "stdout",
     "output_type": "stream",
     "text": [
      "plot number:  3  plot name:  D19_GESAMT_ANZ_24\n"
     ]
    },
    {
     "data": {
      "image/png": "[encoded data removed]",
      "text/plain": [
       "<matplotlib.figure.Figure at 0x7f3c379b94e0>"
      ]
     },
     "metadata": {
      "needs_background": "light"
     },
     "output_type": "display_data"
    },
    {
     "name": "stdout",
     "output_type": "stream",
     "text": [
      "plot number:  4  plot name:  SEMIO_RAT\n"
     ]
    },
    {
     "data": {
      "image/png": "[encoded data removed]",
      "text/plain": [
       "<matplotlib.figure.Figure at 0x7f3c380bb2b0>"
      ]
     },
     "metadata": {
      "needs_background": "light"
     },
     "output_type": "display_data"
    },
    {
     "name": "stdout",
     "output_type": "stream",
     "text": [
      "plot number:  5  plot name:  ALTERSKATEGORIE_GROB\n"
     ]
    },
    {
     "data": {
      "image/png": "[encoded data removed]",
      "text/plain": [
       "<matplotlib.figure.Figure at 0x7f3c3789dcc0>"
      ]
     },
     "metadata": {
      "needs_background": "light"
     },
     "output_type": "display_data"
    },
    {
     "name": "stdout",
     "output_type": "stream",
     "text": [
      "plot number:  6  plot name:  FINANZ_HAUSBAUER\n"
     ]
    },
    {
     "data": {
      "image/png": "[encoded data removed]",
      "text/plain": [
       "<matplotlib.figure.Figure at 0x7f3c3803ac50>"
      ]
     },
     "metadata": {
      "needs_background": "light"
     },
     "output_type": "display_data"
    },
    {
     "name": "stdout",
     "output_type": "stream",
     "text": [
      "plot number:  7  plot name:  D19_HANDWERK\n"
     ]
    },
    {
     "data": {
      "image/png": "[encoded data removed]",
      "text/plain": [
       "<matplotlib.figure.Figure at 0x7f3c38f3edd8>"
      ]
     },
     "metadata": {
      "needs_background": "light"
     },
     "output_type": "display_data"
    },
    {
     "name": "stdout",
     "output_type": "stream",
     "text": [
      "plot number:  8  plot name:  D19_TELKO_ANZ_24\n"
     ]
    },
    {
     "data": {
      "image/png": "[encoded data removed]",
      "text/plain": [
       "<matplotlib.figure.Figure at 0x7f3c37fd0dd8>"
      ]
     },
     "metadata": {
      "needs_background": "light"
     },
     "output_type": "display_data"
    },
    {
     "name": "stdout",
     "output_type": "stream",
     "text": [
      "plot number:  9  plot name:  D19_TELKO_REST\n"
     ]
    },
    {
     "data": {
      "image/png": "[encoded data removed]",
      "text/plain": [
       "<matplotlib.figure.Figure at 0x7f3c37b78860>"
      ]
     },
     "metadata": {
      "needs_background": "light"
     },
     "output_type": "display_data"
    },
    {
     "name": "stdout",
     "output_type": "stream",
     "text": [
      "plot number:  10  plot name:  SEMIO_FAM\n"
     ]
    },
    {
     "data": {
      "image/png": "[encoded data removed]",
      "text/plain": [
       "<matplotlib.figure.Figure at 0x7f3c385d9908>"
      ]
     },
     "metadata": {
      "needs_background": "light"
     },
     "output_type": "display_data"
    },
    {
     "name": "stdout",
     "output_type": "stream",
     "text": [
      "plot number:  11  plot name:  D19_TELKO_MOBILE\n"
     ]
    },
    {
     "data": {
      "image/png": "[encoded data removed]",
      "text/plain": [
       "<matplotlib.figure.Figure at 0x7f3c385e4390>"
      ]
     },
     "metadata": {
      "needs_background": "light"
     },
     "output_type": "display_data"
    },
    {
     "name": "stdout",
     "output_type": "stream",
     "text": [
      "plot number:  12  plot name:  FINANZ_SPARER\n"
     ]
    },
    {
     "data": {
      "image/png": "[encoded data removed]",
      "text/plain": [
       "<matplotlib.figure.Figure at 0x7f3c38818f28>"
      ]
     },
     "metadata": {
      "needs_background": "light"
     },
     "output_type": "display_data"
    },
    {
     "name": "stdout",
     "output_type": "stream",
     "text": [
      "plot number:  13  plot name:  SEMIO_REL\n"
     ]
    },
    {
     "data": {
      "image/png": "[encoded data removed]",
      "text/plain": [
       "<matplotlib.figure.Figure at 0x7f3c37a94fd0>"
      ]
     },
     "metadata": {
      "needs_background": "light"
     },
     "output_type": "display_data"
    },
    {
     "name": "stdout",
     "output_type": "stream",
     "text": [
      "plot number:  14  plot name:  D19_TELKO_OFFLINE_DATUM\n"
     ]
    },
    {
     "data": {
      "image/png": "[encoded data removed]",
      "text/plain": [
       "<matplotlib.figure.Figure at 0x7f3c39c8abe0>"
      ]
     },
     "metadata": {
      "needs_background": "light"
     },
     "output_type": "display_data"
    },
    {
     "name": "stdout",
     "output_type": "stream",
     "text": [
      "plot number:  15  plot name:  GEBURTSJAHR\n",
      "skipped feature\n",
      "plot number:  15  plot name:  D19_BEKLEIDUNG_REST\n"
     ]
    },
    {
     "data": {
      "image/png": "[encoded data removed]",
      "text/plain": [
       "<matplotlib.figure.Figure at 0x7f3c380d8080>"
      ]
     },
     "metadata": {
      "needs_background": "light"
     },
     "output_type": "display_data"
    },
    {
     "data": {
      "image/png": "[encoded data removed]",
      "text/plain": [
       "<matplotlib.figure.Figure at 0x7f3c3aa41630>"
      ]
     },
     "metadata": {
      "needs_background": "light"
     },
     "output_type": "display_data"
    },
    {
     "name": "stdout",
     "output_type": "stream",
     "text": [
      "plot number:  16  plot name:  D19_SAMMELARTIKEL\n"
     ]
    },
    {
     "data": {
      "image/png": "[encoded data removed]",
      "text/plain": [
       "<matplotlib.figure.Figure at 0x7f3c37888278>"
      ]
     },
     "metadata": {
      "needs_background": "light"
     },
     "output_type": "display_data"
    },
    {
     "name": "stdout",
     "output_type": "stream",
     "text": [
      "plot number:  17  plot name:  D19_BANKEN_DIREKT\n"
     ]
    },
    {
     "data": {
      "image/png": "[encoded data removed]",
      "text/plain": [
       "<matplotlib.figure.Figure at 0x7f3c37fa30b8>"
      ]
     },
     "metadata": {
      "needs_background": "light"
     },
     "output_type": "display_data"
    },
    {
     "name": "stdout",
     "output_type": "stream",
     "text": [
      "plot number:  18  plot name:  D19_BANKEN_GROSS\n"
     ]
    },
    {
     "data": {
      "image/png": "[encoded data removed]",
      "text/plain": [
       "<matplotlib.figure.Figure at 0x7f3c38dcf8d0>"
      ]
     },
     "metadata": {
      "needs_background": "light"
     },
     "output_type": "display_data"
    },
    {
     "name": "stdout",
     "output_type": "stream",
     "text": [
      "plot number:  19  plot name:  D19_BEKLEIDUNG_GEH\n"
     ]
    },
    {
     "data": {
      "image/png": "[encoded data removed]",
      "text/plain": [
       "<matplotlib.figure.Figure at 0x7f3c37988a58>"
      ]
     },
     "metadata": {
      "needs_background": "light"
     },
     "output_type": "display_data"
    },
    {
     "name": "stdout",
     "output_type": "stream",
     "text": [
      "plot number:  20  plot name:  D19_VOLLSORTIMENT\n"
     ]
    },
    {
     "data": {
      "image/png": "[encoded data removed]",
      "text/plain": [
       "<matplotlib.figure.Figure at 0x7f3c381b1d68>"
      ]
     },
     "metadata": {
      "needs_background": "light"
     },
     "output_type": "display_data"
    },
    {
     "name": "stdout",
     "output_type": "stream",
     "text": [
      "plot number:  21  plot name:  SEMIO_KULT\n"
     ]
    },
    {
     "data": {
      "image/png": "[encoded data removed]",
      "text/plain": [
       "<matplotlib.figure.Figure at 0x7f3c38ec94a8>"
      ]
     },
     "metadata": {
      "needs_background": "light"
     },
     "output_type": "display_data"
    },
    {
     "name": "stdout",
     "output_type": "stream",
     "text": [
      "plot number:  22  plot name:  D19_ENERGIE\n"
     ]
    },
    {
     "data": {
      "image/png": "[encoded data removed]",
      "text/plain": [
       "<matplotlib.figure.Figure at 0x7f3c3a9f27b8>"
      ]
     },
     "metadata": {
      "needs_background": "light"
     },
     "output_type": "display_data"
    },
    {
     "name": "stdout",
     "output_type": "stream",
     "text": [
      "plot number:  23  plot name:  D19_TECHNIK\n"
     ]
    },
    {
     "data": {
      "image/png": "[encoded data removed]",
      "text/plain": [
       "<matplotlib.figure.Figure at 0x7f3c38d0f550>"
      ]
     },
     "metadata": {
      "needs_background": "light"
     },
     "output_type": "display_data"
    },
    {
     "name": "stdout",
     "output_type": "stream",
     "text": [
      "plot number:  24  plot name:  SEMIO_DOM\n"
     ]
    },
    {
     "data": {
      "image/png": "[encoded data removed]",
      "text/plain": [
       "<matplotlib.figure.Figure at 0x7f3c37caf080>"
      ]
     },
     "metadata": {
      "needs_background": "light"
     },
     "output_type": "display_data"
    },
    {
     "name": "stdout",
     "output_type": "stream",
     "text": [
      "plot number:  25  plot name:  D19_VERSI_OFFLINE_DATUM\n"
     ]
    },
    {
     "data": {
      "image/png": "[encoded data removed]",
      "text/plain": [
       "<matplotlib.figure.Figure at 0x7f3c37d01048>"
      ]
     },
     "metadata": {
      "needs_background": "light"
     },
     "output_type": "display_data"
    },
    {
     "name": "stdout",
     "output_type": "stream",
     "text": [
      "plot number:  26  plot name:  D19_VERSAND_ANZ_12\n"
     ]
    },
    {
     "data": {
      "image/png": "[encoded data removed]",
      "text/plain": [
       "<matplotlib.figure.Figure at 0x7f3c37d015c0>"
      ]
     },
     "metadata": {
      "needs_background": "light"
     },
     "output_type": "display_data"
    },
    {
     "name": "stdout",
     "output_type": "stream",
     "text": [
      "plot number:  27  plot name:  D19_GESAMT_ONLINE_DATUM\n"
     ]
    },
    {
     "data": {
      "image/png": "[encoded data removed]",
      "text/plain": [
       "<matplotlib.figure.Figure at 0x7f3c38f87c88>"
      ]
     },
     "metadata": {
      "needs_background": "light"
     },
     "output_type": "display_data"
    },
    {
     "name": "stdout",
     "output_type": "stream",
     "text": [
      "plot number:  28  plot name:  D19_BUCH_CD\n"
     ]
    },
    {
     "data": {
      "image/png": "[encoded data removed]",
      "text/plain": [
       "<matplotlib.figure.Figure at 0x7f3c387085f8>"
      ]
     },
     "metadata": {
      "needs_background": "light"
     },
     "output_type": "display_data"
    },
    {
     "name": "stdout",
     "output_type": "stream",
     "text": [
      "plot number:  29  plot name:  FINANZTYP\n"
     ]
    },
    {
     "data": {
      "image/png": "[encoded data removed]",
      "text/plain": [
       "<matplotlib.figure.Figure at 0x7f3c39c250b8>"
      ]
     },
     "metadata": {
      "needs_background": "light"
     },
     "output_type": "display_data"
    },
    {
     "name": "stdout",
     "output_type": "stream",
     "text": [
      "plot number:  30  plot name:  D19_BANKEN_LOKAL\n"
     ]
    },
    {
     "data": {
      "image/png": "[encoded data removed]",
      "text/plain": [
       "<matplotlib.figure.Figure at 0x7f3c39c4cd30>"
      ]
     },
     "metadata": {
      "needs_background": "light"
     },
     "output_type": "display_data"
    },
    {
     "name": "stdout",
     "output_type": "stream",
     "text": [
      "plot number:  31  plot name:  FINANZ_VORSORGER\n"
     ]
    },
    {
     "data": {
      "image/png": "[encoded data removed]",
      "text/plain": [
       "<matplotlib.figure.Figure at 0x7f3c39c1a1d0>"
      ]
     },
     "metadata": {
      "needs_background": "light"
     },
     "output_type": "display_data"
    },
    {
     "name": "stdout",
     "output_type": "stream",
     "text": [
      "plot number:  32  plot name:  D19_BANKEN_ANZ_24\n"
     ]
    },
    {
     "data": {
      "image/png": "[encoded data removed]",
      "text/plain": [
       "<matplotlib.figure.Figure at 0x7f3c38da4a20>"
      ]
     },
     "metadata": {
      "needs_background": "light"
     },
     "output_type": "display_data"
    },
    {
     "name": "stdout",
     "output_type": "stream",
     "text": [
      "plot number:  33  plot name:  SEMIO_LUST\n"
     ]
    },
    {
     "data": {
      "image/png": "[encoded data removed]",
      "text/plain": [
       "<matplotlib.figure.Figure at 0x7f3c38da41d0>"
      ]
     },
     "metadata": {
      "needs_background": "light"
     },
     "output_type": "display_data"
    },
    {
     "name": "stdout",
     "output_type": "stream",
     "text": [
      "plot number:  34  plot name:  D19_TELKO_DATUM\n"
     ]
    },
    {
     "data": {
      "image/png": "[encoded data removed]",
      "text/plain": [
       "<matplotlib.figure.Figure at 0x7f3c38f245f8>"
      ]
     },
     "metadata": {
      "needs_background": "light"
     },
     "output_type": "display_data"
    },
    {
     "name": "stdout",
     "output_type": "stream",
     "text": [
      "plot number:  35  plot name:  AGER_TYP\n"
     ]
    },
    {
     "data": {
      "image/png": "[encoded data removed]",
      "text/plain": [
       "<matplotlib.figure.Figure at 0x7f3c38f240f0>"
      ]
     },
     "metadata": {
      "needs_background": "light"
     },
     "output_type": "display_data"
    },
    {
     "name": "stdout",
     "output_type": "stream",
     "text": [
      "plot number:  36  plot name:  D19_TIERARTIKEL\n"
     ]
    },
    {
     "data": {
      "image/png": "[encoded data removed]",
      "text/plain": [
       "<matplotlib.figure.Figure at 0x7f3c37eeaa90>"
      ]
     },
     "metadata": {
      "needs_background": "light"
     },
     "output_type": "display_data"
    },
    {
     "name": "stdout",
     "output_type": "stream",
     "text": [
      "plot number:  37  plot name:  D19_TELKO_ONLINE_DATUM\n"
     ]
    },
    {
     "data": {
      "image/png": "[encoded data removed]",
      "text/plain": [
       "<matplotlib.figure.Figure at 0x7f3c38c69d30>"
      ]
     },
     "metadata": {
      "needs_background": "light"
     },
     "output_type": "display_data"
    },
    {
     "name": "stdout",
     "output_type": "stream",
     "text": [
      "plot number:  38  plot name:  D19_NAHRUNGSERGAENZUNG\n"
     ]
    },
    {
     "data": {
      "image/png": "[encoded data removed]",
      "text/plain": [
       "<matplotlib.figure.Figure at 0x7f3c39c3d0b8>"
      ]
     },
     "metadata": {
      "needs_background": "light"
     },
     "output_type": "display_data"
    },
    {
     "name": "stdout",
     "output_type": "stream",
     "text": [
      "plot number:  39  plot name:  NATIONALITAET_KZ\n"
     ]
    },
    {
     "data": {
      "image/png": "[encoded data removed]",
      "text/plain": [
       "<matplotlib.figure.Figure at 0x7f3c37b84dd8>"
      ]
     },
     "metadata": {
      "needs_background": "light"
     },
     "output_type": "display_data"
    },
    {
     "name": "stdout",
     "output_type": "stream",
     "text": [
      "plot number:  40  plot name:  ZABEOTYP\n"
     ]
    },
    {
     "data": {
      "image/png": "[encoded data removed]",
      "text/plain": [
       "<matplotlib.figure.Figure at 0x7f3c387a3908>"
      ]
     },
     "metadata": {
      "needs_background": "light"
     },
     "output_type": "display_data"
    },
    {
     "name": "stdout",
     "output_type": "stream",
     "text": [
      "plot number:  41  plot name:  SEMIO_SOZ\n"
     ]
    },
    {
     "data": {
      "image/png": "[encoded data removed]",
      "text/plain": [
       "<matplotlib.figure.Figure at 0x7f3c39d24dd8>"
      ]
     },
     "metadata": {
      "needs_background": "light"
     },
     "output_type": "display_data"
    },
    {
     "name": "stdout",
     "output_type": "stream",
     "text": [
      "plot number:  42  plot name:  FINANZ_MINIMALIST\n"
     ]
    },
    {
     "data": {
      "image/png": "[encoded data removed]",
      "text/plain": [
       "<matplotlib.figure.Figure at 0x7f3c38222320>"
      ]
     },
     "metadata": {
      "needs_background": "light"
     },
     "output_type": "display_data"
    },
    {
     "name": "stdout",
     "output_type": "stream",
     "text": [
      "plot number:  43  plot name:  D19_HAUS_DEKO\n"
     ]
    },
    {
     "data": {
      "image/png": "[encoded data removed]",
      "text/plain": [
       "<matplotlib.figure.Figure at 0x7f3c38c69c50>"
      ]
     },
     "metadata": {
      "needs_background": "light"
     },
     "output_type": "display_data"
    },
    {
     "name": "stdout",
     "output_type": "stream",
     "text": [
      "plot number:  44  plot name:  D19_TELKO_ANZ_12\n"
     ]
    },
    {
     "data": {
      "image/png": "[encoded data removed]",
      "text/plain": [
       "<matplotlib.figure.Figure at 0x7f3c39c3d320>"
      ]
     },
     "metadata": {
      "needs_background": "light"
     },
     "output_type": "display_data"
    },
    {
     "name": "stdout",
     "output_type": "stream",
     "text": [
      "plot number:  45  plot name:  D19_VERSAND_REST\n"
     ]
    },
    {
     "data": {
      "image/png": "[encoded data removed]",
      "text/plain": [
       "<matplotlib.figure.Figure at 0x7f3c3810a2e8>"
      ]
     },
     "metadata": {
      "needs_background": "light"
     },
     "output_type": "display_data"
    },
    {
     "name": "stdout",
     "output_type": "stream",
     "text": [
      "plot number:  46  plot name:  SEMIO_ERL\n"
     ]
    },
    {
     "data": {
      "image/png": "[encoded data removed]",
      "text/plain": [
       "<matplotlib.figure.Figure at 0x7f3c38457898>"
      ]
     },
     "metadata": {
      "needs_background": "light"
     },
     "output_type": "display_data"
    },
    {
     "name": "stdout",
     "output_type": "stream",
     "text": [
      "plot number:  47  plot name:  SEMIO_KRIT\n"
     ]
    },
    {
     "data": {
      "image/png": "[encoded data removed]",
      "text/plain": [
       "<matplotlib.figure.Figure at 0x7f3c38ef1588>"
      ]
     },
     "metadata": {
      "needs_background": "light"
     },
     "output_type": "display_data"
    },
    {
     "name": "stdout",
     "output_type": "stream",
     "text": [
      "plot number:  48  plot name:  D19_BILDUNG\n"
     ]
    },
    {
     "data": {
      "image/png": "[encoded data removed]",
      "text/plain": [
       "<matplotlib.figure.Figure at 0x7f3c39bf8e80>"
      ]
     },
     "metadata": {
      "needs_background": "light"
     },
     "output_type": "display_data"
    },
    {
     "name": "stdout",
     "output_type": "stream",
     "text": [
      "plot number:  49  plot name:  D19_DROGERIEARTIKEL\n"
     ]
    },
    {
     "data": {
      "image/png": "[encoded data removed]",
      "text/plain": [
       "<matplotlib.figure.Figure at 0x7f3c3831dda0>"
      ]
     },
     "metadata": {
      "needs_background": "light"
     },
     "output_type": "display_data"
    },
    {
     "name": "stdout",
     "output_type": "stream",
     "text": [
      "plot number:  50  plot name:  D19_VERSAND_DATUM\n"
     ]
    },
    {
     "data": {
      "image/png": "[encoded data removed]",
      "text/plain": [
       "<matplotlib.figure.Figure at 0x7f3c3a7f7198>"
      ]
     },
     "metadata": {
      "needs_background": "light"
     },
     "output_type": "display_data"
    },
    {
     "name": "stdout",
     "output_type": "stream",
     "text": [
      "plot number:  51  plot name:  D19_FREIZEIT\n"
     ]
    },
    {
     "data": {
      "image/png": "[encoded data removed]",
      "text/plain": [
       "<matplotlib.figure.Figure at 0x7f3c37943ef0>"
      ]
     },
     "metadata": {
      "needs_background": "light"
     },
     "output_type": "display_data"
    },
    {
     "name": "stdout",
     "output_type": "stream",
     "text": [
      "plot number:  52  plot name:  D19_SONSTIGE\n"
     ]
    },
    {
     "data": {
      "image/png": "[encoded data removed]",
      "text/plain": [
       "<matplotlib.figure.Figure at 0x7f3c38f35ef0>"
      ]
     },
     "metadata": {
      "needs_background": "light"
     },
     "output_type": "display_data"
    },
    {
     "name": "stdout",
     "output_type": "stream",
     "text": [
      "plot number:  53  plot name:  D19_KOSMETIK\n"
     ]
    },
    {
     "data": {
      "image/png": "[encoded data removed]",
      "text/plain": [
       "<matplotlib.figure.Figure at 0x7f3c3a98a0f0>"
      ]
     },
     "metadata": {
      "needs_background": "light"
     },
     "output_type": "display_data"
    },
    {
     "name": "stdout",
     "output_type": "stream",
     "text": [
      "plot number:  54  plot name:  SHOPPER_TYP\n"
     ]
    },
    {
     "data": {
      "image/png": "[encoded data removed]",
      "text/plain": [
       "<matplotlib.figure.Figure at 0x7f3c38ef1128>"
      ]
     },
     "metadata": {
      "needs_background": "light"
     },
     "output_type": "display_data"
    },
    {
     "name": "stdout",
     "output_type": "stream",
     "text": [
      "plot number:  55  plot name:  VERS_TYP\n"
     ]
    },
    {
     "data": {
      "image/png": "[encoded data removed]",
      "text/plain": [
       "<matplotlib.figure.Figure at 0x7f3c38ef1080>"
      ]
     },
     "metadata": {
      "needs_background": "light"
     },
     "output_type": "display_data"
    },
    {
     "name": "stdout",
     "output_type": "stream",
     "text": [
      "plot number:  56  plot name:  D19_BANKEN_REST\n"
     ]
    },
    {
     "data": {
      "image/png": "[encoded data removed]",
      "text/plain": [
       "<matplotlib.figure.Figure at 0x7f3c38d0f128>"
      ]
     },
     "metadata": {
      "needs_background": "light"
     },
     "output_type": "display_data"
    },
    {
     "name": "stdout",
     "output_type": "stream",
     "text": [
      "plot number:  57  plot name:  D19_VERSI_ONLINE_DATUM\n"
     ]
    },
    {
     "data": {
      "image/png": "[encoded data removed]",
      "text/plain": [
       "<matplotlib.figure.Figure at 0x7f3c3a7e5f98>"
      ]
     },
     "metadata": {
      "needs_background": "light"
     },
     "output_type": "display_data"
    },
    {
     "name": "stdout",
     "output_type": "stream",
     "text": [
      "plot number:  58  plot name:  D19_BANKEN_OFFLINE_DATUM\n"
     ]
    },
    {
     "data": {
      "image/png": "[encoded data removed]",
      "text/plain": [
       "<matplotlib.figure.Figure at 0x7f3c38f244a8>"
      ]
     },
     "metadata": {
      "needs_background": "light"
     },
     "output_type": "display_data"
    },
    {
     "name": "stdout",
     "output_type": "stream",
     "text": [
      "plot number:  59  plot name:  D19_BANKEN_ONLINE_DATUM\n"
     ]
    },
    {
     "data": {
      "image/png": "[encoded data removed]",
      "text/plain": [
       "<matplotlib.figure.Figure at 0x7f3c38efee80>"
      ]
     },
     "metadata": {
      "needs_background": "light"
     },
     "output_type": "display_data"
    },
    {
     "name": "stdout",
     "output_type": "stream",
     "text": [
      "plot number:  60  plot name:  D19_GESAMT_OFFLINE_DATUM\n"
     ]
    },
    {
     "data": {
      "image/png": "[encoded data removed]",
      "text/plain": [
       "<matplotlib.figure.Figure at 0x7f3c37f82358>"
      ]
     },
     "metadata": {
      "needs_background": "light"
     },
     "output_type": "display_data"
    },
    {
     "name": "stdout",
     "output_type": "stream",
     "text": [
      "plot number:  61  plot name:  D19_VERSAND_OFFLINE_DATUM\n"
     ]
    },
    {
     "data": {
      "image/png": "[encoded data removed]",
      "text/plain": [
       "<matplotlib.figure.Figure at 0x7f3c38da1668>"
      ]
     },
     "metadata": {
      "needs_background": "light"
     },
     "output_type": "display_data"
    },
    {
     "name": "stdout",
     "output_type": "stream",
     "text": [
      "plot number:  62  plot name:  SEMIO_TRADV\n"
     ]
    },
    {
     "data": {
      "image/png": "[encoded data removed]",
      "text/plain": [
       "<matplotlib.figure.Figure at 0x7f3c38221a20>"
      ]
     },
     "metadata": {
      "needs_background": "light"
     },
     "output_type": "display_data"
    },
    {
     "name": "stdout",
     "output_type": "stream",
     "text": [
      "plot number:  63  plot name:  D19_VERSI_ANZ_24\n"
     ]
    },
    {
     "data": {
      "image/png": "[encoded data removed]",
      "text/plain": [
       "<matplotlib.figure.Figure at 0x7f3c38221a90>"
      ]
     },
     "metadata": {
      "needs_background": "light"
     },
     "output_type": "display_data"
    },
    {
     "name": "stdout",
     "output_type": "stream",
     "text": [
      "plot number:  64  plot name:  FINANZ_UNAUFFAELLIGER\n"
     ]
    },
    {
     "data": {
      "image/png": "[encoded data removed]",
      "text/plain": [
       "<matplotlib.figure.Figure at 0x7f3c38425898>"
      ]
     },
     "metadata": {
      "needs_background": "light"
     },
     "output_type": "display_data"
    },
    {
     "name": "stdout",
     "output_type": "stream",
     "text": [
      "plot number:  65  plot name:  D19_REISEN\n"
     ]
    },
    {
     "data": {
      "image/png": "[encoded data removed]",
      "text/plain": [
       "<matplotlib.figure.Figure at 0x7f3c38419080>"
      ]
     },
     "metadata": {
      "needs_background": "light"
     },
     "output_type": "display_data"
    },
    {
     "name": "stdout",
     "output_type": "stream",
     "text": [
      "plot number:  66  plot name:  SEMIO_MAT\n"
     ]
    },
    {
     "data": {
      "image/png": "[encoded data removed]",
      "text/plain": [
       "<matplotlib.figure.Figure at 0x7f3c386f3898>"
      ]
     },
     "metadata": {
      "needs_background": "light"
     },
     "output_type": "display_data"
    },
    {
     "name": "stdout",
     "output_type": "stream",
     "text": [
      "plot number:  67  plot name:  D19_BANKEN_ANZ_12\n"
     ]
    },
    {
     "data": {
      "image/png": "[encoded data removed]",
      "text/plain": [
       "<matplotlib.figure.Figure at 0x7f3c37880ba8>"
      ]
     },
     "metadata": {
      "needs_background": "light"
     },
     "output_type": "display_data"
    },
    {
     "name": "stdout",
     "output_type": "stream",
     "text": [
      "plot number:  68  plot name:  D19_KINDERARTIKEL\n"
     ]
    },
    {
     "data": {
      "image/png": "[encoded data removed]",
      "text/plain": [
       "<matplotlib.figure.Figure at 0x7f3c38d0f048>"
      ]
     },
     "metadata": {
      "needs_background": "light"
     },
     "output_type": "display_data"
    },
    {
     "name": "stdout",
     "output_type": "stream",
     "text": [
      "plot number:  69  plot name:  D19_WEIN_FEINKOST\n"
     ]
    },
    {
     "data": {
      "image/png": "[encoded data removed]",
      "text/plain": [
       "<matplotlib.figure.Figure at 0x7f3c39d249b0>"
      ]
     },
     "metadata": {
      "needs_background": "light"
     },
     "output_type": "display_data"
    },
    {
     "name": "stdout",
     "output_type": "stream",
     "text": [
      "plot number:  70  plot name:  D19_LEBENSMITTEL\n"
     ]
    },
    {
     "data": {
      "image/png": "[encoded data removed]",
      "text/plain": [
       "<matplotlib.figure.Figure at 0x7f3c39bebcc0>"
      ]
     },
     "metadata": {
      "needs_background": "light"
     },
     "output_type": "display_data"
    },
    {
     "name": "stdout",
     "output_type": "stream",
     "text": [
      "plot number:  71  plot name:  FINANZ_ANLEGER\n"
     ]
    },
    {
     "data": {
      "image/png": "[encoded data removed]",
      "text/plain": [
       "<matplotlib.figure.Figure at 0x7f3c380cec50>"
      ]
     },
     "metadata": {
      "needs_background": "light"
     },
     "output_type": "display_data"
    },
    {
     "name": "stdout",
     "output_type": "stream",
     "text": [
      "plot number:  72  plot name:  D19_VERSICHERUNGEN\n"
     ]
    },
    {
     "data": {
      "image/png": "[encoded data removed]",
      "text/plain": [
       "<matplotlib.figure.Figure at 0x7f3c38fab198>"
      ]
     },
     "metadata": {
      "needs_background": "light"
     },
     "output_type": "display_data"
    },
    {
     "name": "stdout",
     "output_type": "stream",
     "text": [
      "plot number:  73  plot name:  D19_VERSAND_ANZ_24\n"
     ]
    },
    {
     "data": {
      "image/png": "[encoded data removed]",
      "text/plain": [
       "<matplotlib.figure.Figure at 0x7f3c37905f98>"
      ]
     },
     "metadata": {
      "needs_background": "light"
     },
     "output_type": "display_data"
    },
    {
     "name": "stdout",
     "output_type": "stream",
     "text": [
      "plot number:  74  plot name:  SEMIO_KAEM\n"
     ]
    },
    {
     "data": {
      "image/png": "[encoded data removed]",
      "text/plain": [
       "<matplotlib.figure.Figure at 0x7f3c37944710>"
      ]
     },
     "metadata": {
      "needs_background": "light"
     },
     "output_type": "display_data"
    },
    {
     "name": "stdout",
     "output_type": "stream",
     "text": [
      "plot number:  75  plot name:  D19_RATGEBER\n"
     ]
    },
    {
     "data": {
      "image/png": "[encoded data removed]",
      "text/plain": [
       "<matplotlib.figure.Figure at 0x7f3c383ecb70>"
      ]
     },
     "metadata": {
      "needs_background": "light"
     },
     "output_type": "display_data"
    },
    {
     "name": "stdout",
     "output_type": "stream",
     "text": [
      "plot number:  76  plot name:  D19_GESAMT_DATUM\n"
     ]
    },
    {
     "data": {
      "image/png": "[encoded data removed]",
      "text/plain": [
       "<matplotlib.figure.Figure at 0x7f3c383f0358>"
      ]
     },
     "metadata": {
      "needs_background": "light"
     },
     "output_type": "display_data"
    },
    {
     "name": "stdout",
     "output_type": "stream",
     "text": [
      "plot number:  77  plot name:  D19_VERSI_DATUM\n"
     ]
    },
    {
     "data": {
      "image/png": "[encoded data removed]",
      "text/plain": [
       "<matplotlib.figure.Figure at 0x7f3c3a85e4a8>"
      ]
     },
     "metadata": {
      "needs_background": "light"
     },
     "output_type": "display_data"
    },
    {
     "name": "stdout",
     "output_type": "stream",
     "text": [
      "plot number:  78  plot name:  D19_GARTEN\n"
     ]
    },
    {
     "data": {
      "image/png": "[encoded data removed]",
      "text/plain": [
       "<matplotlib.figure.Figure at 0x7f3c37c70470>"
      ]
     },
     "metadata": {
      "needs_background": "light"
     },
     "output_type": "display_data"
    },
    {
     "name": "stdout",
     "output_type": "stream",
     "text": [
      "plot number:  79  plot name:  HEALTH_TYP\n"
     ]
    },
    {
     "data": {
      "image/png": "[encoded data removed]",
      "text/plain": [
       "<matplotlib.figure.Figure at 0x7f3c37d93c18>"
      ]
     },
     "metadata": {
      "needs_background": "light"
     },
     "output_type": "display_data"
    },
    {
     "name": "stdout",
     "output_type": "stream",
     "text": [
      "plot number:  80  plot name:  SEMIO_PFLICHT\n"
     ]
    },
    {
     "data": {
      "image/png": "[encoded data removed]",
      "text/plain": [
       "<matplotlib.figure.Figure at 0x7f3c386f3d30>"
      ]
     },
     "metadata": {
      "needs_background": "light"
     },
     "output_type": "display_data"
    },
    {
     "name": "stdout",
     "output_type": "stream",
     "text": [
      "plot number:  81  plot name:  D19_VERSAND_ONLINE_DATUM\n"
     ]
    },
    {
     "data": {
      "image/png": "[encoded data removed]",
      "text/plain": [
       "<matplotlib.figure.Figure at 0x7f3c3a7429b0>"
      ]
     },
     "metadata": {
      "needs_background": "light"
     },
     "output_type": "display_data"
    },
    {
     "name": "stdout",
     "output_type": "stream",
     "text": [
      "plot number:  82  plot name:  PRAEGENDE_JUGENDJAHRE\n"
     ]
    },
    {
     "data": {
      "image/png": "[encoded data removed]",
      "text/plain": [
       "<matplotlib.figure.Figure at 0x7f3c38c752e8>"
      ]
     },
     "metadata": {
      "needs_background": "light"
     },
     "output_type": "display_data"
    },
    {
     "name": "stdout",
     "output_type": "stream",
     "text": [
      "plot number:  83  plot name:  D19_BANKEN_DATUM\n"
     ]
    },
    {
     "data": {
      "image/png": "[encoded data removed]",
      "text/plain": [
       "<matplotlib.figure.Figure at 0x7f3c38653320>"
      ]
     },
     "metadata": {
      "needs_background": "light"
     },
     "output_type": "display_data"
    },
    {
     "name": "stdout",
     "output_type": "stream",
     "text": [
      "plot number:  84  plot name:  ANREDE_KZ\n"
     ]
    },
    {
     "data": {
      "image/png": "[encoded data removed]",
      "text/plain": [
       "<matplotlib.figure.Figure at 0x7f3c3786e128>"
      ]
     },
     "metadata": {
      "needs_background": "light"
     },
     "output_type": "display_data"
    },
    {
     "name": "stdout",
     "output_type": "stream",
     "text": [
      "plot number:  85  plot name:  D19_VERSI_ANZ_12\n"
     ]
    },
    {
     "data": {
      "image/png": "[encoded data removed]",
      "text/plain": [
       "<matplotlib.figure.Figure at 0x7f3c3786e1d0>"
      ]
     },
     "metadata": {
      "needs_background": "light"
     },
     "output_type": "display_data"
    },
    {
     "name": "stdout",
     "output_type": "stream",
     "text": [
      "plot number:  86  plot name:  D19_DIGIT_SERV\n"
     ]
    },
    {
     "data": {
      "image/png": "[encoded data removed]",
      "text/plain": [
       "<matplotlib.figure.Figure at 0x7f3c38fba748>"
      ]
     },
     "metadata": {
      "needs_background": "light"
     },
     "output_type": "display_data"
    },
    {
     "name": "stdout",
     "output_type": "stream",
     "text": [
      "plot number:  87  plot name:  D19_KONSUMTYP_MAX\n"
     ]
    },
    {
     "data": {
      "image/png": "[encoded data removed]",
      "text/plain": [
       "<matplotlib.figure.Figure at 0x7f3c38509630>"
      ]
     },
     "metadata": {
      "needs_background": "light"
     },
     "output_type": "display_data"
    },
    {
     "name": "stdout",
     "output_type": "stream",
     "text": [
      "plot number:  88  plot name:  SEMIO_VERT\n"
     ]
    },
    {
     "data": {
      "image/png": "[encoded data removed]",
      "text/plain": [
       "<matplotlib.figure.Figure at 0x7f3c382b65c0>"
      ]
     },
     "metadata": {
      "needs_background": "light"
     },
     "output_type": "display_data"
    },
    {
     "name": "stdout",
     "output_type": "stream",
     "text": [
      "plot number:  89  plot name:  KOMBIALTER\n"
     ]
    },
    {
     "data": {
      "image/png": "[encoded data removed]",
      "text/plain": [
       "<matplotlib.figure.Figure at 0x7f3c38818908>"
      ]
     },
     "metadata": {
      "needs_background": "light"
     },
     "output_type": "display_data"
    },
    {
     "name": "stdout",
     "output_type": "stream",
     "text": [
      "plot number:  90  plot name:  D19_SCHUHE\n"
     ]
    },
    {
     "data": {
      "image/png": "[encoded data removed]",
      "text/plain": [
       "<matplotlib.figure.Figure at 0x7f3c39c8a898>"
      ]
     },
     "metadata": {
      "needs_background": "light"
     },
     "output_type": "display_data"
    }
   ],
   "source": [
    "counter = 0 \n",
    "for x in common:\n",
    "    try:\n",
    "        print('plot number: ',counter,' plot name: ',x)\n",
    "        plot_comparison(new_azdias[x], new_customers[x], x)\n",
    "        counter +=1 \n",
    "        \n",
    "    except ValueError:\n",
    "        print('skipped feature')\n",
    "      \n",
    "    "
   ]
  },
  {
   "cell_type": "code",
   "execution_count": 14,
   "metadata": {},
   "outputs": [],
   "source": [
    "#sns.heatmap(new_azdias.corr(method='spearman'))"
   ]
  },
  {
   "cell_type": "code",
   "execution_count": 15,
   "metadata": {},
   "outputs": [
    {
     "data": {
      "text/plain": [
       "Index(['LNR', 'AGER_TYP', 'D19_BANKEN_ANZ_12', 'D19_BANKEN_ANZ_24',\n",
       "       'D19_BANKEN_DATUM', 'D19_BANKEN_DIREKT', 'D19_BANKEN_GROSS',\n",
       "       'D19_BANKEN_LOKAL', 'D19_BANKEN_OFFLINE_DATUM',\n",
       "       'D19_BANKEN_ONLINE_DATUM', 'D19_BANKEN_REST', 'D19_BEKLEIDUNG_GEH',\n",
       "       'D19_BEKLEIDUNG_REST', 'D19_BILDUNG', 'D19_BIO_OEKO', 'D19_BUCH_CD',\n",
       "       'D19_DIGIT_SERV', 'D19_DROGERIEARTIKEL', 'D19_ENERGIE', 'D19_FREIZEIT',\n",
       "       'D19_GARTEN', 'D19_GESAMT_ANZ_12', 'D19_GESAMT_ANZ_24',\n",
       "       'D19_GESAMT_DATUM', 'D19_GESAMT_OFFLINE_DATUM',\n",
       "       'D19_GESAMT_ONLINE_DATUM', 'D19_HANDWERK', 'D19_HAUS_DEKO',\n",
       "       'D19_KINDERARTIKEL', 'D19_KONSUMTYP_MAX', 'D19_KOSMETIK',\n",
       "       'D19_LEBENSMITTEL', 'D19_NAHRUNGSERGAENZUNG', 'D19_RATGEBER',\n",
       "       'D19_REISEN', 'D19_SAMMELARTIKEL', 'D19_SCHUHE', 'D19_SONSTIGE',\n",
       "       'D19_TECHNIK', 'D19_TELKO_ANZ_12', 'D19_TELKO_ANZ_24',\n",
       "       'D19_TELKO_DATUM', 'D19_TELKO_MOBILE', 'D19_TELKO_OFFLINE_DATUM',\n",
       "       'D19_TELKO_ONLINE_DATUM', 'D19_TELKO_REST', 'D19_TIERARTIKEL',\n",
       "       'D19_VERSAND_ANZ_12', 'D19_VERSAND_ANZ_24', 'D19_VERSAND_DATUM',\n",
       "       'D19_VERSAND_OFFLINE_DATUM', 'D19_VERSAND_ONLINE_DATUM',\n",
       "       'D19_VERSAND_REST', 'D19_VERSI_ANZ_12', 'D19_VERSI_ANZ_24',\n",
       "       'D19_VERSI_DATUM', 'D19_VERSI_OFFLINE_DATUM', 'D19_VERSI_ONLINE_DATUM',\n",
       "       'D19_VERSICHERUNGEN', 'D19_VOLLSORTIMENT', 'D19_WEIN_FEINKOST',\n",
       "       'FINANZ_ANLEGER', 'FINANZ_HAUSBAUER', 'FINANZ_MINIMALIST',\n",
       "       'FINANZ_SPARER', 'FINANZ_UNAUFFAELLIGER', 'FINANZ_VORSORGER',\n",
       "       'FINANZTYP', 'GEBURTSJAHR', 'GREEN_AVANTGARDE', 'HEALTH_TYP',\n",
       "       'KOMBIALTER', 'NATIONALITAET_KZ', 'PRAEGENDE_JUGENDJAHRE', 'SEMIO_DOM',\n",
       "       'SEMIO_ERL', 'SEMIO_FAM', 'SEMIO_KAEM', 'SEMIO_KRIT', 'SEMIO_KULT',\n",
       "       'SEMIO_LUST', 'SEMIO_MAT', 'SEMIO_PFLICHT', 'SEMIO_RAT', 'SEMIO_REL',\n",
       "       'SEMIO_SOZ', 'SEMIO_TRADV', 'SEMIO_VERT', 'SHOPPER_TYP', 'VERS_TYP',\n",
       "       'ZABEOTYP', 'PRODUCT_GROUP', 'CUSTOMER_GROUP', 'ONLINE_PURCHASE',\n",
       "       'ANREDE_KZ', 'ALTERSKATEGORIE_GROB'],\n",
       "      dtype='object')"
      ]
     },
     "execution_count": 15,
     "metadata": {},
     "output_type": "execute_result"
    }
   ],
   "source": [
    "customers.columns"
   ]
  },
  {
   "cell_type": "code",
   "execution_count": 16,
   "metadata": {},
   "outputs": [
    {
     "name": "stdout",
     "output_type": "stream",
     "text": [
      "Number of features:  19  |  [ 0.26803505  0.10986728  0.09207648  0.07688947] | Sum  0.546868272679\n",
      "Number of features:  29  |  [ 0.36650601  0.07711225  0.05705073  0.04788864] | Sum  0.548557629485\n",
      "Number of features:  39  |  [ 0.32364487  0.07195682  0.04661946  0.0383421 ] | Sum  0.480563242089\n",
      "Number of features:  49  |  [ 0.33622782  0.07368787  0.04247567  0.03323218] | Sum  0.485623535917\n",
      "Number of features:  59  |  [ 0.33896538  0.07234305  0.03783467  0.03159525] | Sum  0.480738350346\n",
      "Number of features:  69  |  [ 0.32926782  0.07418289  0.04145564  0.02942643] | Sum  0.47433277891\n",
      "Number of features:  79  |  [ 0.32485673  0.07082858  0.0456384   0.03541472] | Sum  0.476738425412\n",
      "Number of features:  89  |  [ 0.32019912  0.07563053  0.04405737  0.04080261] | Sum  0.480689636077\n"
     ]
    }
   ],
   "source": [
    "#PCA analysis \n",
    "\n",
    "from sklearn.decomposition import PCA\n",
    "\n",
    "#variable not sclaed\n",
    "new_customers.drop('GEBURTSJAHR', inplace = True, axis = 1)\n",
    "\n",
    "for x in range(20,len(new_customers.columns),10):\n",
    "        \n",
    "        pca = PCA(n_components = 4)\n",
    "\n",
    "        data = pd.get_dummies(new_customers.iloc[:,1:x])\n",
    "\n",
    "        pca.fit_transform(data) \n",
    "\n",
    "        print('Number of features: ', len(data.columns),\" | \",pca.explained_variance_ratio_,'|', 'Sum ', sum(pca.explained_variance_ratio_))\n",
    "        \n",
    "        name_col = data.columns\n"
   ]
  },
  {
   "cell_type": "code",
   "execution_count": 17,
   "metadata": {},
   "outputs": [],
   "source": [
    "a = pd.DataFrame(name_col)"
   ]
  },
  {
   "cell_type": "code",
   "execution_count": 18,
   "metadata": {},
   "outputs": [],
   "source": [
    "b = pd.DataFrame(pca.components_).transpose()"
   ]
  },
  {
   "cell_type": "code",
   "execution_count": 19,
   "metadata": {},
   "outputs": [
    {
     "data": {
      "text/plain": [
       "(89, 4)"
      ]
     },
     "execution_count": 19,
     "metadata": {},
     "output_type": "execute_result"
    }
   ],
   "source": [
    "b.shape"
   ]
  },
  {
   "cell_type": "code",
   "execution_count": 20,
   "metadata": {},
   "outputs": [
    {
     "data": {
      "text/html": [
       "<div>\n",
       "<style>\n",
       "    .dataframe thead tr:only-child th {\n",
       "        text-align: right;\n",
       "    }\n",
       "\n",
       "    .dataframe thead th {\n",
       "        text-align: left;\n",
       "    }\n",
       "\n",
       "    .dataframe tbody tr th {\n",
       "        vertical-align: top;\n",
       "    }\n",
       "</style>\n",
       "<table border=\"1\" class=\"dataframe\">\n",
       "  <thead>\n",
       "    <tr style=\"text-align: right;\">\n",
       "      <th></th>\n",
       "      <th>pca1</th>\n",
       "      <th>pca2</th>\n",
       "      <th>pca3</th>\n",
       "      <th>pca4</th>\n",
       "    </tr>\n",
       "  </thead>\n",
       "  <tbody>\n",
       "    <tr>\n",
       "      <th>count</th>\n",
       "      <td>89.000000</td>\n",
       "      <td>89.000000</td>\n",
       "      <td>89.000000</td>\n",
       "      <td>89.000000</td>\n",
       "    </tr>\n",
       "    <tr>\n",
       "      <th>mean</th>\n",
       "      <td>0.016268</td>\n",
       "      <td>0.000905</td>\n",
       "      <td>0.029853</td>\n",
       "      <td>0.020635</td>\n",
       "    </tr>\n",
       "    <tr>\n",
       "      <th>std</th>\n",
       "      <td>0.105337</td>\n",
       "      <td>0.106596</td>\n",
       "      <td>0.102285</td>\n",
       "      <td>0.104561</td>\n",
       "    </tr>\n",
       "    <tr>\n",
       "      <th>min</th>\n",
       "      <td>-0.280719</td>\n",
       "      <td>-0.311242</td>\n",
       "      <td>-0.529732</td>\n",
       "      <td>-0.350857</td>\n",
       "    </tr>\n",
       "    <tr>\n",
       "      <th>25%</th>\n",
       "      <td>-0.036858</td>\n",
       "      <td>-0.060419</td>\n",
       "      <td>-0.007239</td>\n",
       "      <td>-0.013028</td>\n",
       "    </tr>\n",
       "    <tr>\n",
       "      <th>50%</th>\n",
       "      <td>0.036671</td>\n",
       "      <td>0.009418</td>\n",
       "      <td>0.020240</td>\n",
       "      <td>0.018417</td>\n",
       "    </tr>\n",
       "    <tr>\n",
       "      <th>75%</th>\n",
       "      <td>0.085445</td>\n",
       "      <td>0.062697</td>\n",
       "      <td>0.086852</td>\n",
       "      <td>0.057438</td>\n",
       "    </tr>\n",
       "    <tr>\n",
       "      <th>max</th>\n",
       "      <td>0.251537</td>\n",
       "      <td>0.196513</td>\n",
       "      <td>0.263241</td>\n",
       "      <td>0.334430</td>\n",
       "    </tr>\n",
       "  </tbody>\n",
       "</table>\n",
       "</div>"
      ],
      "text/plain": [
       "            pca1       pca2       pca3       pca4\n",
       "count  89.000000  89.000000  89.000000  89.000000\n",
       "mean    0.016268   0.000905   0.029853   0.020635\n",
       "std     0.105337   0.106596   0.102285   0.104561\n",
       "min    -0.280719  -0.311242  -0.529732  -0.350857\n",
       "25%    -0.036858  -0.060419  -0.007239  -0.013028\n",
       "50%     0.036671   0.009418   0.020240   0.018417\n",
       "75%     0.085445   0.062697   0.086852   0.057438\n",
       "max     0.251537   0.196513   0.263241   0.334430"
      ]
     },
     "execution_count": 20,
     "metadata": {},
     "output_type": "execute_result"
    }
   ],
   "source": [
    "pca_table = pd.merge(a, b, left_index=True, right_index=True)\n",
    "\n",
    "pca_table.columns = ['feature', 'pca1', 'pca2', 'pca3', 'pca4']\n",
    "\n",
    "pca_table.describe()"
   ]
  },
  {
   "cell_type": "code",
   "execution_count": 21,
   "metadata": {},
   "outputs": [
    {
     "data": {
      "text/html": [
       "<div>\n",
       "<style>\n",
       "    .dataframe thead tr:only-child th {\n",
       "        text-align: right;\n",
       "    }\n",
       "\n",
       "    .dataframe thead th {\n",
       "        text-align: left;\n",
       "    }\n",
       "\n",
       "    .dataframe tbody tr th {\n",
       "        vertical-align: top;\n",
       "    }\n",
       "</style>\n",
       "<table border=\"1\" class=\"dataframe\">\n",
       "  <thead>\n",
       "    <tr style=\"text-align: right;\">\n",
       "      <th></th>\n",
       "      <th>feature</th>\n",
       "      <th>pca1</th>\n",
       "    </tr>\n",
       "  </thead>\n",
       "  <tbody>\n",
       "    <tr>\n",
       "      <th>71</th>\n",
       "      <td>PRAEGENDE_JUGENDJAHRE</td>\n",
       "      <td>0.251537</td>\n",
       "    </tr>\n",
       "    <tr>\n",
       "      <th>36</th>\n",
       "      <td>D19_SONSTIGE</td>\n",
       "      <td>0.180514</td>\n",
       "    </tr>\n",
       "    <tr>\n",
       "      <th>37</th>\n",
       "      <td>D19_TECHNIK</td>\n",
       "      <td>0.173716</td>\n",
       "    </tr>\n",
       "    <tr>\n",
       "      <th>85</th>\n",
       "      <td>SEMIO_VERT</td>\n",
       "      <td>0.164436</td>\n",
       "    </tr>\n",
       "    <tr>\n",
       "      <th>14</th>\n",
       "      <td>D19_BUCH_CD</td>\n",
       "      <td>0.162009</td>\n",
       "    </tr>\n",
       "    <tr>\n",
       "      <th>58</th>\n",
       "      <td>D19_VOLLSORTIMENT</td>\n",
       "      <td>0.160446</td>\n",
       "    </tr>\n",
       "    <tr>\n",
       "      <th>21</th>\n",
       "      <td>D19_GESAMT_ANZ_24</td>\n",
       "      <td>0.138150</td>\n",
       "    </tr>\n",
       "    <tr>\n",
       "      <th>29</th>\n",
       "      <td>D19_KOSMETIK</td>\n",
       "      <td>0.132869</td>\n",
       "    </tr>\n",
       "    <tr>\n",
       "      <th>33</th>\n",
       "      <td>D19_REISEN</td>\n",
       "      <td>0.131963</td>\n",
       "    </tr>\n",
       "    <tr>\n",
       "      <th>26</th>\n",
       "      <td>D19_HAUS_DEKO</td>\n",
       "      <td>0.130132</td>\n",
       "    </tr>\n",
       "  </tbody>\n",
       "</table>\n",
       "</div>"
      ],
      "text/plain": [
       "                  feature      pca1\n",
       "71  PRAEGENDE_JUGENDJAHRE  0.251537\n",
       "36           D19_SONSTIGE  0.180514\n",
       "37            D19_TECHNIK  0.173716\n",
       "85             SEMIO_VERT  0.164436\n",
       "14            D19_BUCH_CD  0.162009\n",
       "58      D19_VOLLSORTIMENT  0.160446\n",
       "21      D19_GESAMT_ANZ_24  0.138150\n",
       "29           D19_KOSMETIK  0.132869\n",
       "33             D19_REISEN  0.131963\n",
       "26          D19_HAUS_DEKO  0.130132"
      ]
     },
     "execution_count": 21,
     "metadata": {},
     "output_type": "execute_result"
    }
   ],
   "source": [
    "pca_table[['feature','pca1']].sort_values(by = 'pca1', ascending = False)[:10]"
   ]
  },
  {
   "cell_type": "code",
   "execution_count": 22,
   "metadata": {},
   "outputs": [
    {
     "data": {
      "text/html": [
       "<div>\n",
       "<style>\n",
       "    .dataframe thead tr:only-child th {\n",
       "        text-align: right;\n",
       "    }\n",
       "\n",
       "    .dataframe thead th {\n",
       "        text-align: left;\n",
       "    }\n",
       "\n",
       "    .dataframe tbody tr th {\n",
       "        vertical-align: top;\n",
       "    }\n",
       "</style>\n",
       "<table border=\"1\" class=\"dataframe\">\n",
       "  <thead>\n",
       "    <tr style=\"text-align: right;\">\n",
       "      <th></th>\n",
       "      <th>feature</th>\n",
       "      <th>pca2</th>\n",
       "    </tr>\n",
       "  </thead>\n",
       "  <tbody>\n",
       "    <tr>\n",
       "      <th>60</th>\n",
       "      <td>FINANZ_ANLEGER</td>\n",
       "      <td>0.196513</td>\n",
       "    </tr>\n",
       "    <tr>\n",
       "      <th>82</th>\n",
       "      <td>SEMIO_REL</td>\n",
       "      <td>0.190226</td>\n",
       "    </tr>\n",
       "    <tr>\n",
       "      <th>28</th>\n",
       "      <td>D19_KONSUMTYP_MAX</td>\n",
       "      <td>0.189650</td>\n",
       "    </tr>\n",
       "    <tr>\n",
       "      <th>64</th>\n",
       "      <td>FINANZ_UNAUFFAELLIGER</td>\n",
       "      <td>0.165413</td>\n",
       "    </tr>\n",
       "    <tr>\n",
       "      <th>69</th>\n",
       "      <td>KOMBIALTER</td>\n",
       "      <td>0.163089</td>\n",
       "    </tr>\n",
       "    <tr>\n",
       "      <th>21</th>\n",
       "      <td>D19_GESAMT_ANZ_24</td>\n",
       "      <td>0.156639</td>\n",
       "    </tr>\n",
       "    <tr>\n",
       "      <th>47</th>\n",
       "      <td>D19_VERSAND_ANZ_24</td>\n",
       "      <td>0.154424</td>\n",
       "    </tr>\n",
       "    <tr>\n",
       "      <th>63</th>\n",
       "      <td>FINANZ_SPARER</td>\n",
       "      <td>0.154230</td>\n",
       "    </tr>\n",
       "    <tr>\n",
       "      <th>80</th>\n",
       "      <td>SEMIO_PFLICHT</td>\n",
       "      <td>0.144673</td>\n",
       "    </tr>\n",
       "    <tr>\n",
       "      <th>76</th>\n",
       "      <td>SEMIO_KRIT</td>\n",
       "      <td>0.139651</td>\n",
       "    </tr>\n",
       "  </tbody>\n",
       "</table>\n",
       "</div>"
      ],
      "text/plain": [
       "                  feature      pca2\n",
       "60         FINANZ_ANLEGER  0.196513\n",
       "82              SEMIO_REL  0.190226\n",
       "28      D19_KONSUMTYP_MAX  0.189650\n",
       "64  FINANZ_UNAUFFAELLIGER  0.165413\n",
       "69             KOMBIALTER  0.163089\n",
       "21      D19_GESAMT_ANZ_24  0.156639\n",
       "47     D19_VERSAND_ANZ_24  0.154424\n",
       "63          FINANZ_SPARER  0.154230\n",
       "80          SEMIO_PFLICHT  0.144673\n",
       "76             SEMIO_KRIT  0.139651"
      ]
     },
     "execution_count": 22,
     "metadata": {},
     "output_type": "execute_result"
    }
   ],
   "source": [
    "pca_table[['feature','pca2']].sort_values(by = 'pca2', ascending = False)[:10]"
   ]
  },
  {
   "cell_type": "code",
   "execution_count": 23,
   "metadata": {},
   "outputs": [
    {
     "data": {
      "text/html": [
       "<div>\n",
       "<style>\n",
       "    .dataframe thead tr:only-child th {\n",
       "        text-align: right;\n",
       "    }\n",
       "\n",
       "    .dataframe thead th {\n",
       "        text-align: left;\n",
       "    }\n",
       "\n",
       "    .dataframe tbody tr th {\n",
       "        vertical-align: top;\n",
       "    }\n",
       "</style>\n",
       "<table border=\"1\" class=\"dataframe\">\n",
       "  <thead>\n",
       "    <tr style=\"text-align: right;\">\n",
       "      <th></th>\n",
       "      <th>feature</th>\n",
       "      <th>pca3</th>\n",
       "    </tr>\n",
       "  </thead>\n",
       "  <tbody>\n",
       "    <tr>\n",
       "      <th>29</th>\n",
       "      <td>D19_KOSMETIK</td>\n",
       "      <td>0.263241</td>\n",
       "    </tr>\n",
       "    <tr>\n",
       "      <th>33</th>\n",
       "      <td>D19_REISEN</td>\n",
       "      <td>0.233996</td>\n",
       "    </tr>\n",
       "    <tr>\n",
       "      <th>34</th>\n",
       "      <td>D19_SAMMELARTIKEL</td>\n",
       "      <td>0.224274</td>\n",
       "    </tr>\n",
       "    <tr>\n",
       "      <th>25</th>\n",
       "      <td>D19_HANDWERK</td>\n",
       "      <td>0.214345</td>\n",
       "    </tr>\n",
       "    <tr>\n",
       "      <th>69</th>\n",
       "      <td>KOMBIALTER</td>\n",
       "      <td>0.203023</td>\n",
       "    </tr>\n",
       "    <tr>\n",
       "      <th>12</th>\n",
       "      <td>D19_BILDUNG</td>\n",
       "      <td>0.171021</td>\n",
       "    </tr>\n",
       "    <tr>\n",
       "      <th>26</th>\n",
       "      <td>D19_HAUS_DEKO</td>\n",
       "      <td>0.163533</td>\n",
       "    </tr>\n",
       "    <tr>\n",
       "      <th>14</th>\n",
       "      <td>D19_BUCH_CD</td>\n",
       "      <td>0.158081</td>\n",
       "    </tr>\n",
       "    <tr>\n",
       "      <th>59</th>\n",
       "      <td>D19_WEIN_FEINKOST</td>\n",
       "      <td>0.149182</td>\n",
       "    </tr>\n",
       "    <tr>\n",
       "      <th>32</th>\n",
       "      <td>D19_RATGEBER</td>\n",
       "      <td>0.148516</td>\n",
       "    </tr>\n",
       "  </tbody>\n",
       "</table>\n",
       "</div>"
      ],
      "text/plain": [
       "              feature      pca3\n",
       "29       D19_KOSMETIK  0.263241\n",
       "33         D19_REISEN  0.233996\n",
       "34  D19_SAMMELARTIKEL  0.224274\n",
       "25       D19_HANDWERK  0.214345\n",
       "69         KOMBIALTER  0.203023\n",
       "12        D19_BILDUNG  0.171021\n",
       "26      D19_HAUS_DEKO  0.163533\n",
       "14        D19_BUCH_CD  0.158081\n",
       "59  D19_WEIN_FEINKOST  0.149182\n",
       "32       D19_RATGEBER  0.148516"
      ]
     },
     "execution_count": 23,
     "metadata": {},
     "output_type": "execute_result"
    }
   ],
   "source": [
    "pca_table[['feature','pca3']].sort_values(by = 'pca3', ascending = False)[:10]"
   ]
  },
  {
   "cell_type": "code",
   "execution_count": 24,
   "metadata": {},
   "outputs": [
    {
     "data": {
      "text/html": [
       "<div>\n",
       "<style>\n",
       "    .dataframe thead tr:only-child th {\n",
       "        text-align: right;\n",
       "    }\n",
       "\n",
       "    .dataframe thead th {\n",
       "        text-align: left;\n",
       "    }\n",
       "\n",
       "    .dataframe tbody tr th {\n",
       "        vertical-align: top;\n",
       "    }\n",
       "</style>\n",
       "<table border=\"1\" class=\"dataframe\">\n",
       "  <thead>\n",
       "    <tr style=\"text-align: right;\">\n",
       "      <th></th>\n",
       "      <th>feature</th>\n",
       "      <th>pca4</th>\n",
       "    </tr>\n",
       "  </thead>\n",
       "  <tbody>\n",
       "    <tr>\n",
       "      <th>74</th>\n",
       "      <td>SEMIO_FAM</td>\n",
       "      <td>0.334430</td>\n",
       "    </tr>\n",
       "    <tr>\n",
       "      <th>77</th>\n",
       "      <td>SEMIO_KULT</td>\n",
       "      <td>0.327416</td>\n",
       "    </tr>\n",
       "    <tr>\n",
       "      <th>82</th>\n",
       "      <td>SEMIO_REL</td>\n",
       "      <td>0.295939</td>\n",
       "    </tr>\n",
       "    <tr>\n",
       "      <th>79</th>\n",
       "      <td>SEMIO_MAT</td>\n",
       "      <td>0.253575</td>\n",
       "    </tr>\n",
       "    <tr>\n",
       "      <th>85</th>\n",
       "      <td>SEMIO_VERT</td>\n",
       "      <td>0.239268</td>\n",
       "    </tr>\n",
       "    <tr>\n",
       "      <th>37</th>\n",
       "      <td>D19_TECHNIK</td>\n",
       "      <td>0.150482</td>\n",
       "    </tr>\n",
       "    <tr>\n",
       "      <th>83</th>\n",
       "      <td>SEMIO_SOZ</td>\n",
       "      <td>0.143731</td>\n",
       "    </tr>\n",
       "    <tr>\n",
       "      <th>28</th>\n",
       "      <td>D19_KONSUMTYP_MAX</td>\n",
       "      <td>0.123449</td>\n",
       "    </tr>\n",
       "    <tr>\n",
       "      <th>84</th>\n",
       "      <td>SEMIO_TRADV</td>\n",
       "      <td>0.101766</td>\n",
       "    </tr>\n",
       "    <tr>\n",
       "      <th>34</th>\n",
       "      <td>D19_SAMMELARTIKEL</td>\n",
       "      <td>0.101203</td>\n",
       "    </tr>\n",
       "  </tbody>\n",
       "</table>\n",
       "</div>"
      ],
      "text/plain": [
       "              feature      pca4\n",
       "74          SEMIO_FAM  0.334430\n",
       "77         SEMIO_KULT  0.327416\n",
       "82          SEMIO_REL  0.295939\n",
       "79          SEMIO_MAT  0.253575\n",
       "85         SEMIO_VERT  0.239268\n",
       "37        D19_TECHNIK  0.150482\n",
       "83          SEMIO_SOZ  0.143731\n",
       "28  D19_KONSUMTYP_MAX  0.123449\n",
       "84        SEMIO_TRADV  0.101766\n",
       "34  D19_SAMMELARTIKEL  0.101203"
      ]
     },
     "execution_count": 24,
     "metadata": {},
     "output_type": "execute_result"
    }
   ],
   "source": [
    "pca_table[['feature','pca4']].sort_values(by = 'pca4', ascending = False)[:10]"
   ]
  },
  {
   "cell_type": "code",
   "execution_count": 25,
   "metadata": {},
   "outputs": [
    {
     "data": {
      "text/plain": [
       "['PRAEGENDE_JUGENDJAHRE',\n",
       " 'D19_SONSTIGE',\n",
       " 'D19_TECHNIK',\n",
       " 'SEMIO_VERT',\n",
       " 'D19_BUCH_CD',\n",
       " 'D19_VOLLSORTIMENT',\n",
       " 'D19_GESAMT_ANZ_24',\n",
       " 'D19_KOSMETIK',\n",
       " 'D19_REISEN',\n",
       " 'D19_HAUS_DEKO']"
      ]
     },
     "execution_count": 25,
     "metadata": {},
     "output_type": "execute_result"
    }
   ],
   "source": [
    "pca1_feature_list = list(pca_table[['feature','pca1']].sort_values(by = 'pca1', ascending = False)[:10]['feature'])\n",
    "pca1_feature_list"
   ]
  },
  {
   "cell_type": "code",
   "execution_count": 26,
   "metadata": {},
   "outputs": [],
   "source": [
    "# k-means clustering \n",
    "\n",
    "from sklearn.cluster import KMeans\n",
    "\n",
    "kmeans = KMeans(n_clusters = 4, max_iter =200)\n",
    "\n",
    "pred = kmeans.fit_predict(pca_table[['pca1','pca2']])"
   ]
  },
  {
   "cell_type": "code",
   "execution_count": 27,
   "metadata": {},
   "outputs": [],
   "source": [
    "main_comp = pca_table[['pca1','pca2']]"
   ]
  },
  {
   "cell_type": "code",
   "execution_count": 28,
   "metadata": {},
   "outputs": [],
   "source": [
    "def draw_clusters(dataset, predictions, cmap='viridis'):\n",
    "    fig = plt.figure()\n",
    "\n",
    "    clustered = pd.concat([dataset.reset_index(), pd.DataFrame({'group':predictions})], axis=1)\n",
    "    plt.scatter(pca_table['pca1'], pca_table['pca2'] , c=clustered['group'], cmap=cmap)\n",
    "    #plt.axis([-.005,.005,-.3,.3]) #[-.01,.02,0,0.2]\n",
    "    plt.xlabel('First Component')\n",
    "    plt.ylabel('Second Component')"
   ]
  },
  {
   "cell_type": "code",
   "execution_count": 29,
   "metadata": {},
   "outputs": [
    {
     "data": {
      "image/png": "[encoded data removed]",
      "text/plain": [
       "<matplotlib.figure.Figure at 0x7f3c3a8b6d30>"
      ]
     },
     "metadata": {
      "needs_background": "light"
     },
     "output_type": "display_data"
    }
   ],
   "source": [
    "draw_clusters(main_comp, pred, cmap='viridis')"
   ]
  },
  {
   "cell_type": "code",
   "execution_count": 30,
   "metadata": {},
   "outputs": [
    {
     "data": {
      "image/png": "[encoded data removed]",
      "text/plain": [
       "<matplotlib.figure.Figure at 0x7f3c3ab4e5c0>"
      ]
     },
     "metadata": {
      "needs_background": "light"
     },
     "output_type": "display_data"
    }
   ],
   "source": [
    "from scipy.cluster.hierarchy import dendrogram, ward, single \n",
    "\n",
    "Y = pca_table[['pca1','pca2','pca3', 'pca4']]\n",
    "\n",
    "linkage_matrix = ward(Y.iloc[:891211]) \n",
    "\n",
    "dendrogram(linkage_matrix)\n",
    "\n",
    "plt.show()"
   ]
  },
  {
   "cell_type": "markdown",
   "metadata": {},
   "source": [
    "## Part 2: Supervised Learning Model\n",
    "\n",
    "Now that you've found which parts of the population are more likely to be customers of the mail-order company, it's time to build a prediction model. Each of the rows in the \"MAILOUT\" data files represents an individual that was targeted for a mailout campaign. Ideally, we should be able to use the demographic information from each individual to decide whether or not it will be worth it to include that person in the campaign.\n",
    "\n",
    "The \"MAILOUT\" data has been split into two approximately equal parts, each with almost 43 000 data rows. In this part, you can verify your model with the \"TRAIN\" partition, which includes a column, \"RESPONSE\", that states whether or not a person became a customer of the company following the campaign. In the next part, you'll need to create predictions on the \"TEST\" partition, where the \"RESPONSE\" column has been withheld."
   ]
  },
  {
   "cell_type": "code",
   "execution_count": 31,
   "metadata": {},
   "outputs": [
    {
     "name": "stderr",
     "output_type": "stream",
     "text": [
      "/opt/conda/lib/python3.6/site-packages/IPython/core/interactiveshell.py:2785: DtypeWarning: Columns (18,19) have mixed types. Specify dtype option on import or set low_memory=False.\n",
      "  interactivity=interactivity, compiler=compiler, result=result)\n"
     ]
    }
   ],
   "source": [
    "mailout_train = pd.read_csv('../../data/Term2/capstone/arvato_data/Udacity_MAILOUT_052018_TRAIN.csv', sep=';')"
   ]
  },
  {
   "cell_type": "code",
   "execution_count": 32,
   "metadata": {},
   "outputs": [
    {
     "data": {
      "text/html": [
       "<div>\n",
       "<style>\n",
       "    .dataframe thead tr:only-child th {\n",
       "        text-align: right;\n",
       "    }\n",
       "\n",
       "    .dataframe thead th {\n",
       "        text-align: left;\n",
       "    }\n",
       "\n",
       "    .dataframe tbody tr th {\n",
       "        vertical-align: top;\n",
       "    }\n",
       "</style>\n",
       "<table border=\"1\" class=\"dataframe\">\n",
       "  <thead>\n",
       "    <tr style=\"text-align: right;\">\n",
       "      <th></th>\n",
       "      <th>LNR</th>\n",
       "      <th>AGER_TYP</th>\n",
       "      <th>AKT_DAT_KL</th>\n",
       "      <th>ALTER_HH</th>\n",
       "      <th>ALTER_KIND1</th>\n",
       "      <th>ALTER_KIND2</th>\n",
       "      <th>ALTER_KIND3</th>\n",
       "      <th>ALTER_KIND4</th>\n",
       "      <th>ALTERSKATEGORIE_FEIN</th>\n",
       "      <th>ANZ_HAUSHALTE_AKTIV</th>\n",
       "      <th>...</th>\n",
       "      <th>VK_DHT4A</th>\n",
       "      <th>VK_DISTANZ</th>\n",
       "      <th>VK_ZG11</th>\n",
       "      <th>W_KEIT_KIND_HH</th>\n",
       "      <th>WOHNDAUER_2008</th>\n",
       "      <th>WOHNLAGE</th>\n",
       "      <th>ZABEOTYP</th>\n",
       "      <th>RESPONSE</th>\n",
       "      <th>ANREDE_KZ</th>\n",
       "      <th>ALTERSKATEGORIE_GROB</th>\n",
       "    </tr>\n",
       "  </thead>\n",
       "  <tbody>\n",
       "    <tr>\n",
       "      <th>0</th>\n",
       "      <td>1763</td>\n",
       "      <td>2</td>\n",
       "      <td>1.0</td>\n",
       "      <td>8.0</td>\n",
       "      <td>NaN</td>\n",
       "      <td>NaN</td>\n",
       "      <td>NaN</td>\n",
       "      <td>NaN</td>\n",
       "      <td>8.0</td>\n",
       "      <td>15.0</td>\n",
       "      <td>...</td>\n",
       "      <td>5.0</td>\n",
       "      <td>2.0</td>\n",
       "      <td>1.0</td>\n",
       "      <td>6.0</td>\n",
       "      <td>9.0</td>\n",
       "      <td>3.0</td>\n",
       "      <td>3</td>\n",
       "      <td>0</td>\n",
       "      <td>2</td>\n",
       "      <td>4</td>\n",
       "    </tr>\n",
       "    <tr>\n",
       "      <th>1</th>\n",
       "      <td>1771</td>\n",
       "      <td>1</td>\n",
       "      <td>4.0</td>\n",
       "      <td>13.0</td>\n",
       "      <td>NaN</td>\n",
       "      <td>NaN</td>\n",
       "      <td>NaN</td>\n",
       "      <td>NaN</td>\n",
       "      <td>13.0</td>\n",
       "      <td>1.0</td>\n",
       "      <td>...</td>\n",
       "      <td>1.0</td>\n",
       "      <td>2.0</td>\n",
       "      <td>1.0</td>\n",
       "      <td>4.0</td>\n",
       "      <td>9.0</td>\n",
       "      <td>7.0</td>\n",
       "      <td>1</td>\n",
       "      <td>0</td>\n",
       "      <td>2</td>\n",
       "      <td>3</td>\n",
       "    </tr>\n",
       "    <tr>\n",
       "      <th>2</th>\n",
       "      <td>1776</td>\n",
       "      <td>1</td>\n",
       "      <td>1.0</td>\n",
       "      <td>9.0</td>\n",
       "      <td>NaN</td>\n",
       "      <td>NaN</td>\n",
       "      <td>NaN</td>\n",
       "      <td>NaN</td>\n",
       "      <td>7.0</td>\n",
       "      <td>0.0</td>\n",
       "      <td>...</td>\n",
       "      <td>6.0</td>\n",
       "      <td>4.0</td>\n",
       "      <td>2.0</td>\n",
       "      <td>NaN</td>\n",
       "      <td>9.0</td>\n",
       "      <td>2.0</td>\n",
       "      <td>3</td>\n",
       "      <td>0</td>\n",
       "      <td>1</td>\n",
       "      <td>4</td>\n",
       "    </tr>\n",
       "    <tr>\n",
       "      <th>3</th>\n",
       "      <td>1460</td>\n",
       "      <td>2</td>\n",
       "      <td>1.0</td>\n",
       "      <td>6.0</td>\n",
       "      <td>NaN</td>\n",
       "      <td>NaN</td>\n",
       "      <td>NaN</td>\n",
       "      <td>NaN</td>\n",
       "      <td>6.0</td>\n",
       "      <td>4.0</td>\n",
       "      <td>...</td>\n",
       "      <td>8.0</td>\n",
       "      <td>11.0</td>\n",
       "      <td>11.0</td>\n",
       "      <td>6.0</td>\n",
       "      <td>9.0</td>\n",
       "      <td>1.0</td>\n",
       "      <td>3</td>\n",
       "      <td>0</td>\n",
       "      <td>2</td>\n",
       "      <td>4</td>\n",
       "    </tr>\n",
       "    <tr>\n",
       "      <th>4</th>\n",
       "      <td>1783</td>\n",
       "      <td>2</td>\n",
       "      <td>1.0</td>\n",
       "      <td>9.0</td>\n",
       "      <td>NaN</td>\n",
       "      <td>NaN</td>\n",
       "      <td>NaN</td>\n",
       "      <td>NaN</td>\n",
       "      <td>9.0</td>\n",
       "      <td>53.0</td>\n",
       "      <td>...</td>\n",
       "      <td>2.0</td>\n",
       "      <td>2.0</td>\n",
       "      <td>1.0</td>\n",
       "      <td>6.0</td>\n",
       "      <td>9.0</td>\n",
       "      <td>3.0</td>\n",
       "      <td>3</td>\n",
       "      <td>0</td>\n",
       "      <td>1</td>\n",
       "      <td>3</td>\n",
       "    </tr>\n",
       "  </tbody>\n",
       "</table>\n",
       "<p>5 rows × 367 columns</p>\n",
       "</div>"
      ],
      "text/plain": [
       "    LNR  AGER_TYP  AKT_DAT_KL  ALTER_HH  ALTER_KIND1  ALTER_KIND2  \\\n",
       "0  1763         2         1.0       8.0          NaN          NaN   \n",
       "1  1771         1         4.0      13.0          NaN          NaN   \n",
       "2  1776         1         1.0       9.0          NaN          NaN   \n",
       "3  1460         2         1.0       6.0          NaN          NaN   \n",
       "4  1783         2         1.0       9.0          NaN          NaN   \n",
       "\n",
       "   ALTER_KIND3  ALTER_KIND4  ALTERSKATEGORIE_FEIN  ANZ_HAUSHALTE_AKTIV  \\\n",
       "0          NaN          NaN                   8.0                 15.0   \n",
       "1          NaN          NaN                  13.0                  1.0   \n",
       "2          NaN          NaN                   7.0                  0.0   \n",
       "3          NaN          NaN                   6.0                  4.0   \n",
       "4          NaN          NaN                   9.0                 53.0   \n",
       "\n",
       "          ...           VK_DHT4A  VK_DISTANZ  VK_ZG11  W_KEIT_KIND_HH  \\\n",
       "0         ...                5.0         2.0      1.0             6.0   \n",
       "1         ...                1.0         2.0      1.0             4.0   \n",
       "2         ...                6.0         4.0      2.0             NaN   \n",
       "3         ...                8.0        11.0     11.0             6.0   \n",
       "4         ...                2.0         2.0      1.0             6.0   \n",
       "\n",
       "   WOHNDAUER_2008  WOHNLAGE  ZABEOTYP RESPONSE ANREDE_KZ ALTERSKATEGORIE_GROB  \n",
       "0             9.0       3.0         3        0         2                    4  \n",
       "1             9.0       7.0         1        0         2                    3  \n",
       "2             9.0       2.0         3        0         1                    4  \n",
       "3             9.0       1.0         3        0         2                    4  \n",
       "4             9.0       3.0         3        0         1                    3  \n",
       "\n",
       "[5 rows x 367 columns]"
      ]
     },
     "execution_count": 32,
     "metadata": {},
     "output_type": "execute_result"
    }
   ],
   "source": [
    "mailout_train.head()"
   ]
  },
  {
   "cell_type": "code",
   "execution_count": 33,
   "metadata": {},
   "outputs": [],
   "source": [
    "response = mailout_train['RESPONSE']"
   ]
  },
  {
   "cell_type": "code",
   "execution_count": 34,
   "metadata": {},
   "outputs": [],
   "source": [
    "new_mailout_train = trim_df(mailout_train, .0001)"
   ]
  },
  {
   "cell_type": "code",
   "execution_count": 35,
   "metadata": {},
   "outputs": [
    {
     "data": {
      "text/html": [
       "<div>\n",
       "<style>\n",
       "    .dataframe thead tr:only-child th {\n",
       "        text-align: right;\n",
       "    }\n",
       "\n",
       "    .dataframe thead th {\n",
       "        text-align: left;\n",
       "    }\n",
       "\n",
       "    .dataframe tbody tr th {\n",
       "        vertical-align: top;\n",
       "    }\n",
       "</style>\n",
       "<table border=\"1\" class=\"dataframe\">\n",
       "  <thead>\n",
       "    <tr style=\"text-align: right;\">\n",
       "      <th></th>\n",
       "      <th>LNR</th>\n",
       "      <th>AGER_TYP</th>\n",
       "      <th>D19_BANKEN_ANZ_12</th>\n",
       "      <th>D19_BANKEN_ANZ_24</th>\n",
       "      <th>D19_BANKEN_DATUM</th>\n",
       "      <th>D19_BANKEN_DIREKT</th>\n",
       "      <th>D19_BANKEN_GROSS</th>\n",
       "      <th>D19_BANKEN_LOKAL</th>\n",
       "      <th>D19_BANKEN_OFFLINE_DATUM</th>\n",
       "      <th>D19_BANKEN_ONLINE_DATUM</th>\n",
       "      <th>...</th>\n",
       "      <th>SEMIO_REL</th>\n",
       "      <th>SEMIO_SOZ</th>\n",
       "      <th>SEMIO_TRADV</th>\n",
       "      <th>SEMIO_VERT</th>\n",
       "      <th>SHOPPER_TYP</th>\n",
       "      <th>VERS_TYP</th>\n",
       "      <th>ZABEOTYP</th>\n",
       "      <th>RESPONSE</th>\n",
       "      <th>ANREDE_KZ</th>\n",
       "      <th>ALTERSKATEGORIE_GROB</th>\n",
       "    </tr>\n",
       "  </thead>\n",
       "  <tbody>\n",
       "    <tr>\n",
       "      <th>0</th>\n",
       "      <td>1763</td>\n",
       "      <td>2</td>\n",
       "      <td>0</td>\n",
       "      <td>0</td>\n",
       "      <td>10</td>\n",
       "      <td>0</td>\n",
       "      <td>0</td>\n",
       "      <td>0</td>\n",
       "      <td>10</td>\n",
       "      <td>10</td>\n",
       "      <td>...</td>\n",
       "      <td>1</td>\n",
       "      <td>5</td>\n",
       "      <td>1</td>\n",
       "      <td>3</td>\n",
       "      <td>3</td>\n",
       "      <td>2</td>\n",
       "      <td>3</td>\n",
       "      <td>0</td>\n",
       "      <td>2</td>\n",
       "      <td>4</td>\n",
       "    </tr>\n",
       "    <tr>\n",
       "      <th>1</th>\n",
       "      <td>1771</td>\n",
       "      <td>1</td>\n",
       "      <td>1</td>\n",
       "      <td>1</td>\n",
       "      <td>5</td>\n",
       "      <td>0</td>\n",
       "      <td>0</td>\n",
       "      <td>3</td>\n",
       "      <td>10</td>\n",
       "      <td>10</td>\n",
       "      <td>...</td>\n",
       "      <td>3</td>\n",
       "      <td>1</td>\n",
       "      <td>3</td>\n",
       "      <td>4</td>\n",
       "      <td>2</td>\n",
       "      <td>1</td>\n",
       "      <td>1</td>\n",
       "      <td>0</td>\n",
       "      <td>2</td>\n",
       "      <td>3</td>\n",
       "    </tr>\n",
       "    <tr>\n",
       "      <th>2</th>\n",
       "      <td>1776</td>\n",
       "      <td>1</td>\n",
       "      <td>0</td>\n",
       "      <td>1</td>\n",
       "      <td>7</td>\n",
       "      <td>0</td>\n",
       "      <td>0</td>\n",
       "      <td>0</td>\n",
       "      <td>10</td>\n",
       "      <td>7</td>\n",
       "      <td>...</td>\n",
       "      <td>5</td>\n",
       "      <td>3</td>\n",
       "      <td>1</td>\n",
       "      <td>7</td>\n",
       "      <td>3</td>\n",
       "      <td>1</td>\n",
       "      <td>3</td>\n",
       "      <td>0</td>\n",
       "      <td>1</td>\n",
       "      <td>4</td>\n",
       "    </tr>\n",
       "    <tr>\n",
       "      <th>3</th>\n",
       "      <td>1460</td>\n",
       "      <td>2</td>\n",
       "      <td>0</td>\n",
       "      <td>0</td>\n",
       "      <td>10</td>\n",
       "      <td>0</td>\n",
       "      <td>0</td>\n",
       "      <td>0</td>\n",
       "      <td>10</td>\n",
       "      <td>10</td>\n",
       "      <td>...</td>\n",
       "      <td>2</td>\n",
       "      <td>5</td>\n",
       "      <td>3</td>\n",
       "      <td>2</td>\n",
       "      <td>1</td>\n",
       "      <td>2</td>\n",
       "      <td>3</td>\n",
       "      <td>0</td>\n",
       "      <td>2</td>\n",
       "      <td>4</td>\n",
       "    </tr>\n",
       "    <tr>\n",
       "      <th>4</th>\n",
       "      <td>1783</td>\n",
       "      <td>2</td>\n",
       "      <td>0</td>\n",
       "      <td>0</td>\n",
       "      <td>10</td>\n",
       "      <td>0</td>\n",
       "      <td>0</td>\n",
       "      <td>0</td>\n",
       "      <td>10</td>\n",
       "      <td>10</td>\n",
       "      <td>...</td>\n",
       "      <td>4</td>\n",
       "      <td>6</td>\n",
       "      <td>2</td>\n",
       "      <td>7</td>\n",
       "      <td>1</td>\n",
       "      <td>1</td>\n",
       "      <td>3</td>\n",
       "      <td>0</td>\n",
       "      <td>1</td>\n",
       "      <td>3</td>\n",
       "    </tr>\n",
       "  </tbody>\n",
       "</table>\n",
       "<p>5 rows × 94 columns</p>\n",
       "</div>"
      ],
      "text/plain": [
       "    LNR  AGER_TYP  D19_BANKEN_ANZ_12  D19_BANKEN_ANZ_24  D19_BANKEN_DATUM  \\\n",
       "0  1763         2                  0                  0                10   \n",
       "1  1771         1                  1                  1                 5   \n",
       "2  1776         1                  0                  1                 7   \n",
       "3  1460         2                  0                  0                10   \n",
       "4  1783         2                  0                  0                10   \n",
       "\n",
       "   D19_BANKEN_DIREKT  D19_BANKEN_GROSS  D19_BANKEN_LOKAL  \\\n",
       "0                  0                 0                 0   \n",
       "1                  0                 0                 3   \n",
       "2                  0                 0                 0   \n",
       "3                  0                 0                 0   \n",
       "4                  0                 0                 0   \n",
       "\n",
       "   D19_BANKEN_OFFLINE_DATUM  D19_BANKEN_ONLINE_DATUM          ...           \\\n",
       "0                        10                       10          ...            \n",
       "1                        10                       10          ...            \n",
       "2                        10                        7          ...            \n",
       "3                        10                       10          ...            \n",
       "4                        10                       10          ...            \n",
       "\n",
       "   SEMIO_REL  SEMIO_SOZ  SEMIO_TRADV  SEMIO_VERT  SHOPPER_TYP  VERS_TYP  \\\n",
       "0          1          5            1           3            3         2   \n",
       "1          3          1            3           4            2         1   \n",
       "2          5          3            1           7            3         1   \n",
       "3          2          5            3           2            1         2   \n",
       "4          4          6            2           7            1         1   \n",
       "\n",
       "   ZABEOTYP  RESPONSE  ANREDE_KZ  ALTERSKATEGORIE_GROB  \n",
       "0         3         0          2                     4  \n",
       "1         1         0          2                     3  \n",
       "2         3         0          1                     4  \n",
       "3         3         0          2                     4  \n",
       "4         3         0          1                     3  \n",
       "\n",
       "[5 rows x 94 columns]"
      ]
     },
     "execution_count": 35,
     "metadata": {},
     "output_type": "execute_result"
    }
   ],
   "source": [
    "new_mailout_train.head()"
   ]
  },
  {
   "cell_type": "code",
   "execution_count": 36,
   "metadata": {},
   "outputs": [],
   "source": [
    "features = new_mailout_train.drop(['LNR', 'RESPONSE', 'GEBURTSJAHR' ], axis = 1)"
   ]
  },
  {
   "cell_type": "code",
   "execution_count": 37,
   "metadata": {},
   "outputs": [
    {
     "data": {
      "text/plain": [
       "(42962, 91)"
      ]
     },
     "execution_count": 37,
     "metadata": {},
     "output_type": "execute_result"
    }
   ],
   "source": [
    "features.shape"
   ]
  },
  {
   "cell_type": "code",
   "execution_count": 38,
   "metadata": {},
   "outputs": [],
   "source": [
    "from sklearn.model_selection import train_test_split \n",
    "\n",
    "xtrain, xother, ytrain, yother = train_test_split(features, response, test_size = .25, random_state = 1)\n",
    "\n",
    "xvalid, xtest, yvalid, ytest = train_test_split(xother, yother, test_size = .5, random_state = 2)"
   ]
  },
  {
   "cell_type": "code",
   "execution_count": 39,
   "metadata": {},
   "outputs": [],
   "source": [
    "def pca_data(df, x):\n",
    "\n",
    "    pca = PCA(n_components = x)\n",
    "\n",
    "    data = pd.get_dummies(df)\n",
    "\n",
    "    pca.fit_transform(data) \n",
    "\n",
    "    print('Number of components: ', x,'Sum ', sum(pca.explained_variance_ratio_))\n"
   ]
  },
  {
   "cell_type": "code",
   "execution_count": 40,
   "metadata": {},
   "outputs": [
    {
     "name": "stdout",
     "output_type": "stream",
     "text": [
      "Number of components:  1 Sum  0.272585465998\n",
      "Number of components:  11 Sum  0.610119134983\n",
      "Number of components:  21 Sum  0.758676032185\n",
      "Number of components:  31 Sum  0.85090553804\n",
      "Number of components:  41 Sum  0.916226913357\n",
      "Number of components:  51 Sum  0.956790916094\n",
      "Number of components:  61 Sum  0.981243528797\n",
      "Number of components:  71 Sum  0.99348326828\n",
      "Number of components:  81 Sum  0.998546689514\n"
     ]
    }
   ],
   "source": [
    "for x in range(1,features.shape[1],10):\n",
    "    pca_data(features, x)"
   ]
  },
  {
   "cell_type": "code",
   "execution_count": 41,
   "metadata": {},
   "outputs": [],
   "source": [
    "from sklearn.decomposition import RandomizedPCA\n",
    "\n",
    "def pca_transform(df, x):\n",
    "    pca = RandomizedPCA(n_components=x, whiten=True).fit(df)\n",
    "    transformed_pca = pca.transform(df)\n",
    "    return transformed_pca"
   ]
  },
  {
   "cell_type": "code",
   "execution_count": 42,
   "metadata": {},
   "outputs": [
    {
     "name": "stderr",
     "output_type": "stream",
     "text": [
      "/opt/conda/lib/python3.6/site-packages/sklearn/utils/deprecation.py:58: DeprecationWarning: Class RandomizedPCA is deprecated; RandomizedPCA was deprecated in 0.18 and will be removed in 0.20. Use PCA(svd_solver='randomized') instead. The new implementation DOES NOT store whiten ``components_``. Apply transform to get them.\n",
      "  warnings.warn(msg, category=DeprecationWarning)\n",
      "/opt/conda/lib/python3.6/site-packages/sklearn/utils/deprecation.py:58: DeprecationWarning: Class RandomizedPCA is deprecated; RandomizedPCA was deprecated in 0.18 and will be removed in 0.20. Use PCA(svd_solver='randomized') instead. The new implementation DOES NOT store whiten ``components_``. Apply transform to get them.\n",
      "  warnings.warn(msg, category=DeprecationWarning)\n",
      "/opt/conda/lib/python3.6/site-packages/sklearn/utils/deprecation.py:58: DeprecationWarning: Class RandomizedPCA is deprecated; RandomizedPCA was deprecated in 0.18 and will be removed in 0.20. Use PCA(svd_solver='randomized') instead. The new implementation DOES NOT store whiten ``components_``. Apply transform to get them.\n",
      "  warnings.warn(msg, category=DeprecationWarning)\n"
     ]
    }
   ],
   "source": [
    "xtrain_pca = pca_transform(xtrain, 81)\n",
    "xvalid_pca = pca_transform(xvalid, 81)\n",
    "xtest_pca = pca_transform(xtest, 81)"
   ]
  },
  {
   "cell_type": "code",
   "execution_count": 43,
   "metadata": {},
   "outputs": [
    {
     "name": "stderr",
     "output_type": "stream",
     "text": [
      "Using TensorFlow backend.\n"
     ]
    }
   ],
   "source": [
    "import keras\n",
    "\n",
    "num_classes = 2\n",
    "ytrain_cat = keras.utils.to_categorical(ytrain, num_classes)\n",
    "\n",
    "yvalid_cat = keras.utils.to_categorical(yvalid, num_classes)\n",
    "\n",
    "ytest_cat = keras.utils.to_categorical(ytest, num_classes)"
   ]
  },
  {
   "cell_type": "code",
   "execution_count": 44,
   "metadata": {},
   "outputs": [
    {
     "data": {
      "text/plain": [
       "62"
      ]
     },
     "execution_count": 44,
     "metadata": {},
     "output_type": "execute_result"
    }
   ],
   "source": [
    "sum(ytest)"
   ]
  },
  {
   "cell_type": "code",
   "execution_count": 45,
   "metadata": {},
   "outputs": [
    {
     "data": {
      "text/plain": [
       "62"
      ]
     },
     "execution_count": 45,
     "metadata": {},
     "output_type": "execute_result"
    }
   ],
   "source": [
    "sum(np.argmax(ytest_cat, axis =1))"
   ]
  },
  {
   "cell_type": "code",
   "execution_count": 46,
   "metadata": {},
   "outputs": [
    {
     "data": {
      "text/plain": [
       "0"
      ]
     },
     "execution_count": 46,
     "metadata": {},
     "output_type": "execute_result"
    }
   ],
   "source": [
    "ytest.iloc[20]"
   ]
  },
  {
   "cell_type": "code",
   "execution_count": 47,
   "metadata": {},
   "outputs": [
    {
     "data": {
      "text/plain": [
       "array([ 1.,  0.])"
      ]
     },
     "execution_count": 47,
     "metadata": {},
     "output_type": "execute_result"
    }
   ],
   "source": [
    "ytest_cat[20]"
   ]
  },
  {
   "cell_type": "code",
   "execution_count": 48,
   "metadata": {},
   "outputs": [
    {
     "name": "stdout",
     "output_type": "stream",
     "text": [
      "_________________________________________________________________\n",
      "Layer (type)                 Output Shape              Param #   \n",
      "=================================================================\n",
      "dense_1 (Dense)              (None, 200)               16400     \n",
      "_________________________________________________________________\n",
      "dropout_1 (Dropout)          (None, 200)               0         \n",
      "_________________________________________________________________\n",
      "dense_2 (Dense)              (None, 100)               20100     \n",
      "_________________________________________________________________\n",
      "dropout_2 (Dropout)          (None, 100)               0         \n",
      "_________________________________________________________________\n",
      "dense_3 (Dense)              (None, 50)                5050      \n",
      "_________________________________________________________________\n",
      "dropout_3 (Dropout)          (None, 50)                0         \n",
      "_________________________________________________________________\n",
      "dense_4 (Dense)              (None, 2)                 102       \n",
      "=================================================================\n",
      "Total params: 41,652\n",
      "Trainable params: 41,652\n",
      "Non-trainable params: 0\n",
      "_________________________________________________________________\n",
      "_________________________________________________________________\n",
      "Layer (type)                 Output Shape              Param #   \n",
      "=================================================================\n",
      "dense_1 (Dense)              (None, 200)               16400     \n",
      "_________________________________________________________________\n",
      "dropout_1 (Dropout)          (None, 200)               0         \n",
      "_________________________________________________________________\n",
      "dense_2 (Dense)              (None, 100)               20100     \n",
      "_________________________________________________________________\n",
      "dropout_2 (Dropout)          (None, 100)               0         \n",
      "_________________________________________________________________\n",
      "dense_3 (Dense)              (None, 50)                5050      \n",
      "_________________________________________________________________\n",
      "dropout_3 (Dropout)          (None, 50)                0         \n",
      "_________________________________________________________________\n",
      "dense_4 (Dense)              (None, 2)                 102       \n",
      "=================================================================\n",
      "Total params: 41,652\n",
      "Trainable params: 41,652\n",
      "Non-trainable params: 0\n",
      "_________________________________________________________________\n"
     ]
    }
   ],
   "source": [
    "from keras import metrics\n",
    "from keras.models import Sequential\n",
    "from keras.layers import Dense, Dropout, Activation\n",
    "from keras.optimizers import Adam\n",
    "\n",
    "model = Sequential()\n",
    "\n",
    "model.add(Dense(200, activation = 'relu', input_shape=(81,)))\n",
    "model.add(Dropout(0.6))\n",
    "\n",
    "model.add(Dense(100, activation='relu'))\n",
    "model.add(Dropout(0.6))\n",
    "\n",
    "model.add(Dense(50, activation='relu'))\n",
    "model.add(Dropout(0.6))\n",
    "\n",
    "model.add(Dense(2, activation='softmax'))\n",
    "model.summary()\n",
    "\n",
    "adam = Adam(lr=0.0001, decay=0.0001)\n",
    "\n",
    "model.compile(loss = 'binary_crossentropy', optimizer = 'adam', metrics = ['accuracy'])\n",
    "\n",
    "model.summary()"
   ]
  },
  {
   "cell_type": "code",
   "execution_count": 49,
   "metadata": {},
   "outputs": [
    {
     "name": "stdout",
     "output_type": "stream",
     "text": [
      "Train on 32221 samples, validate on 5370 samples\n",
      "Epoch 1/200\n",
      "31880/32221 [============================>.] - ETA: 0s - loss: 2.1916 - acc: 0.4417Epoch 00001: val_loss improved from inf to 0.81548, saving model to model.weights.best.hdf5\n",
      "32221/32221 [==============================] - 5s 142us/step - loss: 2.1850 - acc: 0.4409 - val_loss: 0.8155 - val_acc: 0.0790\n",
      "Epoch 2/200\n",
      "32080/32221 [============================>.] - ETA: 0s - loss: 1.6460 - acc: 0.2153Epoch 00002: val_loss did not improve\n",
      "32221/32221 [==============================] - 4s 126us/step - loss: 1.6496 - acc: 0.2150 - val_loss: 0.8960 - val_acc: 0.0145\n",
      "Epoch 3/200\n",
      "31920/32221 [============================>.] - ETA: 0s - loss: 1.6404 - acc: 0.1898Epoch 00003: val_loss did not improve\n",
      "32221/32221 [==============================] - 4s 130us/step - loss: 1.6431 - acc: 0.1899 - val_loss: 0.8247 - val_acc: 0.1352\n",
      "Epoch 4/200\n",
      "31920/32221 [============================>.] - ETA: 0s - loss: 1.6825 - acc: 0.2856Epoch 00004: val_loss improved from 0.81548 to 0.74993, saving model to model.weights.best.hdf5\n",
      "32221/32221 [==============================] - 4s 136us/step - loss: 1.6903 - acc: 0.2869 - val_loss: 0.7499 - val_acc: 0.3410\n",
      "Epoch 5/200\n",
      "31900/32221 [============================>.] - ETA: 0s - loss: 1.6357 - acc: 0.2971Epoch 00005: val_loss improved from 0.74993 to 0.56652, saving model to model.weights.best.hdf5\n",
      "32221/32221 [==============================] - 5s 146us/step - loss: 1.6341 - acc: 0.2973 - val_loss: 0.5665 - val_acc: 0.6957\n",
      "Epoch 6/200\n",
      "31980/32221 [============================>.] - ETA: 0s - loss: 1.7685 - acc: 0.4037Epoch 00006: val_loss did not improve\n",
      "32221/32221 [==============================] - 4s 128us/step - loss: 1.7680 - acc: 0.4030 - val_loss: 0.9126 - val_acc: 0.2335\n",
      "Epoch 7/200\n",
      "31860/32221 [============================>.] - ETA: 0s - loss: 1.7295 - acc: 0.3270Epoch 00007: val_loss did not improve\n",
      "32221/32221 [==============================] - 4s 125us/step - loss: 1.7305 - acc: 0.3283 - val_loss: 0.6824 - val_acc: 0.4819\n",
      "Epoch 8/200\n",
      "32080/32221 [============================>.] - ETA: 0s - loss: 1.6427 - acc: 0.3491Epoch 00008: val_loss did not improve\n",
      "32221/32221 [==============================] - 4s 128us/step - loss: 1.6392 - acc: 0.3492 - val_loss: 0.7682 - val_acc: 0.4182\n",
      "Epoch 9/200\n",
      "31900/32221 [============================>.] - ETA: 0s - loss: 1.6565 - acc: 0.3485Epoch 00009: val_loss did not improve\n",
      "32221/32221 [==============================] - 4s 133us/step - loss: 1.6692 - acc: 0.3489 - val_loss: 0.7024 - val_acc: 0.4067\n",
      "Epoch 10/200\n",
      "32020/32221 [============================>.] - ETA: 0s - loss: 1.6224 - acc: 0.3965Epoch 00010: val_loss did not improve\n",
      "32221/32221 [==============================] - 4s 136us/step - loss: 1.6184 - acc: 0.3964 - val_loss: 0.8652 - val_acc: 0.2371\n",
      "Epoch 11/200\n",
      "31920/32221 [============================>.] - ETA: 0s - loss: 1.8589 - acc: 0.3985Epoch 00011: val_loss did not improve\n",
      "32221/32221 [==============================] - 4s 132us/step - loss: 1.8597 - acc: 0.3967 - val_loss: 1.1514 - val_acc: 0.0899\n",
      "Epoch 12/200\n",
      "32160/32221 [============================>.] - ETA: 0s - loss: 1.7776 - acc: 0.3683Epoch 00012: val_loss did not improve\n",
      "32221/32221 [==============================] - 4s 134us/step - loss: 1.7757 - acc: 0.3685 - val_loss: 0.6354 - val_acc: 0.5348\n",
      "Epoch 13/200\n",
      "32220/32221 [============================>.] - ETA: 0s - loss: 1.6830 - acc: 0.4271Epoch 00013: val_loss did not improve\n",
      "32221/32221 [==============================] - 4s 134us/step - loss: 1.6829 - acc: 0.4271 - val_loss: 0.8213 - val_acc: 0.4196\n",
      "Epoch 14/200\n",
      "32120/32221 [============================>.] - ETA: 0s - loss: 1.5916 - acc: 0.3810Epoch 00014: val_loss did not improve\n",
      "32221/32221 [==============================] - 5s 140us/step - loss: 1.5926 - acc: 0.3816 - val_loss: 0.6384 - val_acc: 0.5875\n",
      "Epoch 15/200\n",
      "32040/32221 [============================>.] - ETA: 0s - loss: 1.7151 - acc: 0.4209Epoch 00015: val_loss did not improve\n",
      "32221/32221 [==============================] - 4s 136us/step - loss: 1.7260 - acc: 0.4198 - val_loss: 1.0087 - val_acc: 0.1519\n",
      "Epoch 16/200\n",
      "31900/32221 [============================>.] - ETA: 0s - loss: 1.9847 - acc: 0.4634Epoch 00016: val_loss did not improve\n",
      "32221/32221 [==============================] - 4s 129us/step - loss: 1.9847 - acc: 0.4635 - val_loss: 0.6371 - val_acc: 0.4927\n",
      "Epoch 17/200\n",
      "31900/32221 [============================>.] - ETA: 0s - loss: 1.7048 - acc: 0.3996Epoch 00017: val_loss did not improve\n",
      "32221/32221 [==============================] - 4s 127us/step - loss: 1.7099 - acc: 0.3997 - val_loss: 0.9201 - val_acc: 0.3471\n",
      "Epoch 18/200\n",
      "32220/32221 [============================>.] - ETA: 0s - loss: 1.7126 - acc: 0.4005Epoch 00018: val_loss did not improve\n",
      "32221/32221 [==============================] - 4s 127us/step - loss: 1.7126 - acc: 0.4005 - val_loss: 0.8665 - val_acc: 0.3547\n",
      "Epoch 19/200\n",
      "32160/32221 [============================>.] - ETA: 0s - loss: 1.5934 - acc: 0.4442Epoch 00019: val_loss did not improve\n",
      "32221/32221 [==============================] - 4s 129us/step - loss: 1.5938 - acc: 0.4441 - val_loss: 0.8823 - val_acc: 0.3529\n",
      "Epoch 20/200\n",
      "31920/32221 [============================>.] - ETA: 0s - loss: 1.5726 - acc: 0.4053Epoch 00020: val_loss did not improve\n",
      "32221/32221 [==============================] - 4s 127us/step - loss: 1.5703 - acc: 0.4047 - val_loss: 0.9117 - val_acc: 0.3188\n",
      "Epoch 21/200\n",
      "32080/32221 [============================>.] - ETA: 0s - loss: 1.8645 - acc: 0.4576Epoch 00021: val_loss did not improve\n",
      "32221/32221 [==============================] - 4s 125us/step - loss: 1.8639 - acc: 0.4576 - val_loss: 0.8561 - val_acc: 0.3939\n",
      "Epoch 22/200\n",
      "31840/32221 [============================>.] - ETA: 0s - loss: 1.5395 - acc: 0.4516Epoch 00022: val_loss did not improve\n",
      "32221/32221 [==============================] - 4s 127us/step - loss: 1.5302 - acc: 0.4523 - val_loss: 0.7457 - val_acc: 0.5164\n",
      "Epoch 23/200\n",
      "32020/32221 [============================>.] - ETA: 0s - loss: 1.6866 - acc: 0.4584Epoch 00023: val_loss did not improve\n",
      "32221/32221 [==============================] - 4s 129us/step - loss: 1.6940 - acc: 0.4587 - val_loss: 0.6534 - val_acc: 0.4827\n",
      "Epoch 24/200\n",
      "32160/32221 [============================>.] - ETA: 0s - loss: 1.3905 - acc: 0.4926Epoch 00024: val_loss did not improve\n",
      "32221/32221 [==============================] - 4s 129us/step - loss: 1.3900 - acc: 0.4927 - val_loss: 0.7100 - val_acc: 0.5112\n",
      "Epoch 25/200\n",
      "32220/32221 [============================>.] - ETA: 0s - loss: 1.7408 - acc: 0.5266Epoch 00025: val_loss did not improve\n",
      "32221/32221 [==============================] - 4s 125us/step - loss: 1.7408 - acc: 0.5266 - val_loss: 0.6687 - val_acc: 0.6155\n",
      "Epoch 26/200\n",
      "31840/32221 [============================>.] - ETA: 0s - loss: 2.0436 - acc: 0.5320Epoch 00026: val_loss did not improve\n",
      "32221/32221 [==============================] - 4s 122us/step - loss: 2.0328 - acc: 0.5308 - val_loss: 0.7913 - val_acc: 0.5507\n",
      "Epoch 27/200\n",
      "32040/32221 [============================>.] - ETA: 0s - loss: 1.4806 - acc: 0.5027Epoch 00027: val_loss did not improve\n",
      "32221/32221 [==============================] - 4s 126us/step - loss: 1.4810 - acc: 0.5025 - val_loss: 0.8707 - val_acc: 0.4764\n",
      "Epoch 28/200\n",
      "31820/32221 [============================>.] - ETA: 0s - loss: 1.7336 - acc: 0.4946Epoch 00028: val_loss did not improve\n",
      "32221/32221 [==============================] - 4s 127us/step - loss: 1.7275 - acc: 0.4937 - val_loss: 0.7960 - val_acc: 0.4583\n",
      "Epoch 29/200\n",
      "31940/32221 [============================>.] - ETA: 0s - loss: 1.4178 - acc: 0.5014Epoch 00029: val_loss did not improve\n",
      "32221/32221 [==============================] - 4s 125us/step - loss: 1.4149 - acc: 0.5019 - val_loss: 0.6750 - val_acc: 0.5937\n",
      "Epoch 30/200\n",
      "32200/32221 [============================>.] - ETA: 0s - loss: 1.4326 - acc: 0.5091Epoch 00030: val_loss did not improve\n",
      "32221/32221 [==============================] - 4s 126us/step - loss: 1.4322 - acc: 0.5090 - val_loss: 0.7941 - val_acc: 0.4570\n",
      "Epoch 31/200\n",
      "32120/32221 [============================>.] - ETA: 0s - loss: 1.4110 - acc: 0.5104Epoch 00031: val_loss did not improve\n",
      "32221/32221 [==============================] - 4s 126us/step - loss: 1.4093 - acc: 0.5106 - val_loss: 0.6798 - val_acc: 0.5980\n"
     ]
    },
    {
     "name": "stdout",
     "output_type": "stream",
     "text": [
      "Epoch 32/200\n",
      "32020/32221 [============================>.] - ETA: 0s - loss: 1.4816 - acc: 0.5277Epoch 00032: val_loss did not improve\n",
      "32221/32221 [==============================] - 4s 128us/step - loss: 1.4829 - acc: 0.5279 - val_loss: 0.7648 - val_acc: 0.5194\n",
      "Epoch 33/200\n",
      "32020/32221 [============================>.] - ETA: 0s - loss: 1.4197 - acc: 0.5347Epoch 00033: val_loss did not improve\n",
      "32221/32221 [==============================] - 4s 129us/step - loss: 1.4162 - acc: 0.5352 - val_loss: 0.6544 - val_acc: 0.5629\n",
      "Epoch 34/200\n",
      "32060/32221 [============================>.] - ETA: 0s - loss: 1.6170 - acc: 0.5449Epoch 00034: val_loss did not improve\n",
      "32221/32221 [==============================] - 4s 126us/step - loss: 1.6142 - acc: 0.5447 - val_loss: 0.9039 - val_acc: 0.4568\n",
      "Epoch 35/200\n",
      "32180/32221 [============================>.] - ETA: 0s - loss: 1.6107 - acc: 0.5312Epoch 00035: val_loss did not improve\n",
      "32221/32221 [==============================] - 4s 129us/step - loss: 1.6109 - acc: 0.5313 - val_loss: 0.8237 - val_acc: 0.4994\n",
      "Epoch 36/200\n",
      "31960/32221 [============================>.] - ETA: 0s - loss: 1.6032 - acc: 0.5455Epoch 00036: val_loss did not improve\n",
      "32221/32221 [==============================] - 4s 127us/step - loss: 1.5979 - acc: 0.5462 - val_loss: 0.7299 - val_acc: 0.5676\n",
      "Epoch 37/200\n",
      "31880/32221 [============================>.] - ETA: 0s - loss: 2.1253 - acc: 0.5715Epoch 00037: val_loss did not improve\n",
      "32221/32221 [==============================] - 4s 128us/step - loss: 2.1148 - acc: 0.5721 - val_loss: 0.7322 - val_acc: 0.6047\n",
      "Epoch 38/200\n",
      "31820/32221 [============================>.] - ETA: 0s - loss: 1.8174 - acc: 0.5910Epoch 00038: val_loss did not improve\n",
      "32221/32221 [==============================] - 4s 127us/step - loss: 1.8161 - acc: 0.5911 - val_loss: 0.8746 - val_acc: 0.5309\n",
      "Epoch 39/200\n",
      "31880/32221 [============================>.] - ETA: 0s - loss: 1.7756 - acc: 0.5548Epoch 00039: val_loss did not improve\n",
      "32221/32221 [==============================] - 4s 125us/step - loss: 1.7768 - acc: 0.5541 - val_loss: 0.8756 - val_acc: 0.4978\n",
      "Epoch 40/200\n",
      "31840/32221 [============================>.] - ETA: 0s - loss: 1.6682 - acc: 0.5351Epoch 00040: val_loss did not improve\n",
      "32221/32221 [==============================] - 4s 127us/step - loss: 1.6611 - acc: 0.5349 - val_loss: 0.8543 - val_acc: 0.5285\n",
      "Epoch 41/200\n",
      "31940/32221 [============================>.] - ETA: 0s - loss: 1.6157 - acc: 0.5532Epoch 00041: val_loss did not improve\n",
      "32221/32221 [==============================] - 5s 144us/step - loss: 1.6104 - acc: 0.5533 - val_loss: 0.8465 - val_acc: 0.5246\n",
      "Epoch 42/200\n",
      "31920/32221 [============================>.] - ETA: 0s - loss: 1.4443 - acc: 0.5613Epoch 00042: val_loss did not improve\n",
      "32221/32221 [==============================] - 4s 130us/step - loss: 1.4448 - acc: 0.5617 - val_loss: 0.8448 - val_acc: 0.5305\n",
      "Epoch 43/200\n",
      "31820/32221 [============================>.] - ETA: 0s - loss: 1.5567 - acc: 0.5589Epoch 00043: val_loss did not improve\n",
      "32221/32221 [==============================] - 4s 124us/step - loss: 1.5533 - acc: 0.5582 - val_loss: 0.8741 - val_acc: 0.5061\n",
      "Epoch 44/200\n",
      "32120/32221 [============================>.] - ETA: 0s - loss: 1.4763 - acc: 0.5534Epoch 00044: val_loss did not improve\n",
      "32221/32221 [==============================] - 4s 124us/step - loss: 1.4753 - acc: 0.5535 - val_loss: 0.8658 - val_acc: 0.4823\n",
      "Epoch 45/200\n",
      "31980/32221 [============================>.] - ETA: 0s - loss: 1.2476 - acc: 0.5615Epoch 00045: val_loss did not improve\n",
      "32221/32221 [==============================] - 4s 126us/step - loss: 1.2546 - acc: 0.5619 - val_loss: 0.7087 - val_acc: 0.5849\n",
      "Epoch 46/200\n",
      "32120/32221 [============================>.] - ETA: 0s - loss: 1.4504 - acc: 0.5748Epoch 00046: val_loss did not improve\n",
      "32221/32221 [==============================] - 4s 129us/step - loss: 1.4518 - acc: 0.5752 - val_loss: 0.7146 - val_acc: 0.5730\n",
      "Epoch 47/200\n",
      "31940/32221 [============================>.] - ETA: 0s - loss: 1.2429 - acc: 0.6063Epoch 00047: val_loss did not improve\n",
      "32221/32221 [==============================] - 4s 125us/step - loss: 1.2451 - acc: 0.6058 - val_loss: 0.7045 - val_acc: 0.6035\n",
      "Epoch 48/200\n",
      "31860/32221 [============================>.] - ETA: 0s - loss: 2.1373 - acc: 0.6153Epoch 00048: val_loss did not improve\n",
      "32221/32221 [==============================] - 4s 129us/step - loss: 2.1333 - acc: 0.6156 - val_loss: 0.7339 - val_acc: 0.6160\n",
      "Epoch 49/200\n",
      "32140/32221 [============================>.] - ETA: 0s - loss: 1.6814 - acc: 0.5983Epoch 00049: val_loss did not improve\n",
      "32221/32221 [==============================] - 4s 124us/step - loss: 1.6800 - acc: 0.5984 - val_loss: 0.7449 - val_acc: 0.6227\n",
      "Epoch 50/200\n",
      "32160/32221 [============================>.] - ETA: 0s - loss: 1.7330 - acc: 0.5838Epoch 00050: val_loss did not improve\n",
      "32221/32221 [==============================] - 4s 123us/step - loss: 1.7316 - acc: 0.5837 - val_loss: 0.8689 - val_acc: 0.5570\n",
      "Epoch 51/200\n",
      "32040/32221 [============================>.] - ETA: 0s - loss: 1.7571 - acc: 0.6073Epoch 00051: val_loss did not improve\n",
      "32221/32221 [==============================] - 4s 125us/step - loss: 1.7547 - acc: 0.6068 - val_loss: 0.8118 - val_acc: 0.5745\n",
      "Epoch 52/200\n",
      "31880/32221 [============================>.] - ETA: 0s - loss: 1.3771 - acc: 0.5818Epoch 00052: val_loss did not improve\n",
      "32221/32221 [==============================] - 4s 127us/step - loss: 1.4135 - acc: 0.5818 - val_loss: 0.7917 - val_acc: 0.5642\n",
      "Epoch 53/200\n",
      "32040/32221 [============================>.] - ETA: 0s - loss: 1.4662 - acc: 0.5773Epoch 00053: val_loss did not improve\n",
      "32221/32221 [==============================] - 4s 126us/step - loss: 1.4661 - acc: 0.5767 - val_loss: 0.8169 - val_acc: 0.5304\n",
      "Epoch 54/200\n",
      "31900/32221 [============================>.] - ETA: 0s - loss: 1.8068 - acc: 0.6298Epoch 00054: val_loss did not improve\n",
      "32221/32221 [==============================] - 4s 127us/step - loss: 1.8018 - acc: 0.6297 - val_loss: 0.7346 - val_acc: 0.6086\n",
      "Epoch 55/200\n",
      "32040/32221 [============================>.] - ETA: 0s - loss: 1.4742 - acc: 0.5766Epoch 00055: val_loss did not improve\n",
      "32221/32221 [==============================] - 4s 135us/step - loss: 1.4710 - acc: 0.5764 - val_loss: 0.7947 - val_acc: 0.5430\n",
      "Epoch 56/200\n",
      "32080/32221 [============================>.] - ETA: 0s - loss: 1.2798 - acc: 0.6121Epoch 00056: val_loss did not improve\n",
      "32221/32221 [==============================] - 5s 146us/step - loss: 1.2821 - acc: 0.6122 - val_loss: 0.7453 - val_acc: 0.5980\n",
      "Epoch 57/200\n",
      "32160/32221 [============================>.] - ETA: 0s - loss: 1.4779 - acc: 0.6094Epoch 00057: val_loss did not improve\n",
      "32221/32221 [==============================] - 5s 145us/step - loss: 1.4765 - acc: 0.6093 - val_loss: 0.7219 - val_acc: 0.6304\n",
      "Epoch 58/200\n",
      "32160/32221 [============================>.] - ETA: 0s - loss: 1.2754 - acc: 0.6234Epoch 00058: val_loss did not improve\n",
      "32221/32221 [==============================] - 4s 129us/step - loss: 1.2758 - acc: 0.6236 - val_loss: 0.6867 - val_acc: 0.6322\n",
      "Epoch 59/200\n",
      "31820/32221 [============================>.] - ETA: 0s - loss: 1.5739 - acc: 0.6372Epoch 00059: val_loss did not improve\n",
      "32221/32221 [==============================] - 4s 132us/step - loss: 1.6037 - acc: 0.6380 - val_loss: 0.7277 - val_acc: 0.6114\n",
      "Epoch 60/200\n",
      "32160/32221 [============================>.] - ETA: 0s - loss: 1.4130 - acc: 0.6345Epoch 00060: val_loss did not improve\n",
      "32221/32221 [==============================] - 4s 134us/step - loss: 1.4114 - acc: 0.6346 - val_loss: 0.7257 - val_acc: 0.6156\n",
      "Epoch 61/200\n",
      "32220/32221 [============================>.] - ETA: 0s - loss: 1.5372 - acc: 0.6466Epoch 00061: val_loss did not improve\n",
      "32221/32221 [==============================] - 5s 154us/step - loss: 1.5372 - acc: 0.6465 - val_loss: 0.7185 - val_acc: 0.6486\n",
      "Epoch 62/200\n",
      "32180/32221 [============================>.] - ETA: 0s - loss: 1.9746 - acc: 0.6705Epoch 00062: val_loss did not improve\n",
      "32221/32221 [==============================] - 4s 134us/step - loss: 1.9733 - acc: 0.6706 - val_loss: 0.7809 - val_acc: 0.6534\n",
      "Epoch 63/200\n",
      "32100/32221 [============================>.] - ETA: 0s - loss: 1.6613 - acc: 0.6439Epoch 00063: val_loss did not improve\n",
      "32221/32221 [==============================] - 4s 128us/step - loss: 1.6584 - acc: 0.6438 - val_loss: 0.8248 - val_acc: 0.6045\n"
     ]
    },
    {
     "name": "stdout",
     "output_type": "stream",
     "text": [
      "Epoch 64/200\n",
      "31920/32221 [============================>.] - ETA: 0s - loss: 1.8884 - acc: 0.6888Epoch 00064: val_loss did not improve\n",
      "32221/32221 [==============================] - 4s 136us/step - loss: 1.8800 - acc: 0.6885 - val_loss: 0.7623 - val_acc: 0.6695\n",
      "Epoch 65/200\n",
      "31800/32221 [============================>.] - ETA: 0s - loss: 1.7478 - acc: 0.6438Epoch 00065: val_loss did not improve\n",
      "32221/32221 [==============================] - 4s 132us/step - loss: 1.7945 - acc: 0.6440 - val_loss: 0.9253 - val_acc: 0.5561\n",
      "Epoch 66/200\n",
      "31920/32221 [============================>.] - ETA: 0s - loss: 1.3927 - acc: 0.6408Epoch 00066: val_loss did not improve\n",
      "32221/32221 [==============================] - 4s 127us/step - loss: 1.3893 - acc: 0.6407 - val_loss: 0.7336 - val_acc: 0.6430\n",
      "Epoch 67/200\n",
      "31880/32221 [============================>.] - ETA: 0s - loss: 1.5968 - acc: 0.6471Epoch 00067: val_loss did not improve\n",
      "32221/32221 [==============================] - 4s 125us/step - loss: 1.5889 - acc: 0.6468 - val_loss: 0.7707 - val_acc: 0.6365\n",
      "Epoch 68/200\n",
      "31980/32221 [============================>.] - ETA: 0s - loss: 1.3390 - acc: 0.6569Epoch 00068: val_loss did not improve\n",
      "32221/32221 [==============================] - 4s 126us/step - loss: 1.3330 - acc: 0.6573 - val_loss: 0.6486 - val_acc: 0.6641\n",
      "Epoch 69/200\n",
      "32180/32221 [============================>.] - ETA: 0s - loss: 1.5576 - acc: 0.6494Epoch 00069: val_loss did not improve\n",
      "32221/32221 [==============================] - 4s 126us/step - loss: 1.5588 - acc: 0.6495 - val_loss: 0.7508 - val_acc: 0.6421\n",
      "Epoch 70/200\n",
      "32120/32221 [============================>.] - ETA: 0s - loss: 1.5231 - acc: 0.6557Epoch 00070: val_loss did not improve\n",
      "32221/32221 [==============================] - 4s 130us/step - loss: 1.5746 - acc: 0.6560 - val_loss: 0.6927 - val_acc: 0.6728\n",
      "Epoch 71/200\n",
      "31960/32221 [============================>.] - ETA: 0s - loss: 1.4833 - acc: 0.6501Epoch 00071: val_loss did not improve\n",
      "32221/32221 [==============================] - 4s 127us/step - loss: 1.4795 - acc: 0.6504 - val_loss: 0.7147 - val_acc: 0.6713\n",
      "Epoch 72/200\n",
      "32060/32221 [============================>.] - ETA: 0s - loss: 2.0320 - acc: 0.6657Epoch 00072: val_loss did not improve\n",
      "32221/32221 [==============================] - 4s 128us/step - loss: 2.0288 - acc: 0.6656 - val_loss: 0.7449 - val_acc: 0.6516\n",
      "Epoch 73/200\n",
      "32100/32221 [============================>.] - ETA: 0s - loss: 1.4240 - acc: 0.6431Epoch 00073: val_loss did not improve\n",
      "32221/32221 [==============================] - 4s 132us/step - loss: 1.4214 - acc: 0.6432 - val_loss: 0.7697 - val_acc: 0.6220\n",
      "Epoch 74/200\n",
      "32160/32221 [============================>.] - ETA: 0s - loss: 1.6846 - acc: 0.6436Epoch 00074: val_loss did not improve\n",
      "32221/32221 [==============================] - 4s 128us/step - loss: 1.6823 - acc: 0.6437 - val_loss: 0.7493 - val_acc: 0.6277\n",
      "Epoch 75/200\n",
      "32020/32221 [============================>.] - ETA: 0s - loss: 1.6050 - acc: 0.6618Epoch 00075: val_loss did not improve\n",
      "32221/32221 [==============================] - 4s 129us/step - loss: 1.6055 - acc: 0.6619 - val_loss: 0.7303 - val_acc: 0.6672\n",
      "Epoch 76/200\n",
      "32180/32221 [============================>.] - ETA: 0s - loss: 1.3475 - acc: 0.6554Epoch 00076: val_loss did not improve\n",
      "32221/32221 [==============================] - 4s 131us/step - loss: 1.3473 - acc: 0.6553 - val_loss: 0.7679 - val_acc: 0.6229\n",
      "Epoch 77/200\n",
      "32040/32221 [============================>.] - ETA: 0s - loss: 1.4246 - acc: 0.6511Epoch 00077: val_loss did not improve\n",
      "32221/32221 [==============================] - 5s 142us/step - loss: 1.4222 - acc: 0.6508 - val_loss: 0.7438 - val_acc: 0.6358\n",
      "Epoch 78/200\n",
      "32140/32221 [============================>.] - ETA: 0s - loss: 1.2227 - acc: 0.6530Epoch 00078: val_loss did not improve\n",
      "32221/32221 [==============================] - 4s 126us/step - loss: 1.2222 - acc: 0.6528 - val_loss: 0.7146 - val_acc: 0.6365\n",
      "Epoch 79/200\n",
      "32220/32221 [============================>.] - ETA: 0s - loss: 1.3381 - acc: 0.6498Epoch 00079: val_loss did not improve\n",
      "32221/32221 [==============================] - 4s 127us/step - loss: 1.3381 - acc: 0.6498 - val_loss: 0.6944 - val_acc: 0.6561\n",
      "Epoch 80/200\n",
      "31880/32221 [============================>.] - ETA: 0s - loss: 1.3802 - acc: 0.6533Epoch 00080: val_loss did not improve\n",
      "32221/32221 [==============================] - 4s 128us/step - loss: 1.3752 - acc: 0.6533 - val_loss: 0.6805 - val_acc: 0.6616\n",
      "Epoch 81/200\n",
      "31840/32221 [============================>.] - ETA: 0s - loss: 1.8441 - acc: 0.6666Epoch 00081: val_loss did not improve\n",
      "32221/32221 [==============================] - 4s 132us/step - loss: 1.8561 - acc: 0.6673 - val_loss: 0.6567 - val_acc: 0.6639\n",
      "Epoch 82/200\n",
      "31840/32221 [============================>.] - ETA: 0s - loss: 4.5526 - acc: 0.7095Epoch 00082: val_loss did not improve\n",
      "32221/32221 [==============================] - 4s 129us/step - loss: 4.5234 - acc: 0.7083 - val_loss: 0.7229 - val_acc: 0.6827\n",
      "Epoch 83/200\n",
      "32120/32221 [============================>.] - ETA: 0s - loss: 2.7948 - acc: 0.6538Epoch 00083: val_loss did not improve\n",
      "32221/32221 [==============================] - 4s 124us/step - loss: 2.7892 - acc: 0.6538 - val_loss: 0.7591 - val_acc: 0.6743\n",
      "Epoch 84/200\n",
      "32100/32221 [============================>.] - ETA: 0s - loss: 2.0127 - acc: 0.6761Epoch 00084: val_loss did not improve\n",
      "32221/32221 [==============================] - 4s 136us/step - loss: 2.0166 - acc: 0.6760 - val_loss: 0.7978 - val_acc: 0.6425\n",
      "Epoch 85/200\n",
      "31820/32221 [============================>.] - ETA: 0s - loss: 1.4158 - acc: 0.6563Epoch 00085: val_loss did not improve\n",
      "32221/32221 [==============================] - 4s 129us/step - loss: 1.4075 - acc: 0.6565 - val_loss: 0.7294 - val_acc: 0.6648\n",
      "Epoch 86/200\n",
      "32160/32221 [============================>.] - ETA: 0s - loss: 1.7236 - acc: 0.6783Epoch 00086: val_loss did not improve\n",
      "32221/32221 [==============================] - 4s 134us/step - loss: 1.7217 - acc: 0.6783 - val_loss: 0.7377 - val_acc: 0.6583\n",
      "Epoch 87/200\n",
      "31920/32221 [============================>.] - ETA: 0s - loss: 2.4390 - acc: 0.6828Epoch 00087: val_loss did not improve\n",
      "32221/32221 [==============================] - 4s 129us/step - loss: 2.4845 - acc: 0.6832 - val_loss: 0.7314 - val_acc: 0.6430\n",
      "Epoch 88/200\n",
      "31960/32221 [============================>.] - ETA: 0s - loss: 2.5450 - acc: 0.6753Epoch 00088: val_loss did not improve\n",
      "32221/32221 [==============================] - 4s 125us/step - loss: 2.5429 - acc: 0.6739 - val_loss: 0.9795 - val_acc: 0.5490\n",
      "Epoch 89/200\n",
      "32080/32221 [============================>.] - ETA: 0s - loss: 1.7621 - acc: 0.6581Epoch 00089: val_loss did not improve\n",
      "32221/32221 [==============================] - 4s 131us/step - loss: 1.7573 - acc: 0.6584 - val_loss: 0.7545 - val_acc: 0.6689\n",
      "Epoch 90/200\n",
      "31820/32221 [============================>.] - ETA: 0s - loss: 1.7929 - acc: 0.6534Epoch 00090: val_loss did not improve\n",
      "32221/32221 [==============================] - 4s 128us/step - loss: 1.7818 - acc: 0.6529 - val_loss: 0.8248 - val_acc: 0.6093\n",
      "Epoch 91/200\n",
      "31840/32221 [============================>.] - ETA: 0s - loss: 1.6814 - acc: 0.6672Epoch 00091: val_loss did not improve\n",
      "32221/32221 [==============================] - 4s 129us/step - loss: 1.6757 - acc: 0.6669 - val_loss: 0.7993 - val_acc: 0.6238\n",
      "Epoch 92/200\n",
      "32120/32221 [============================>.] - ETA: 0s - loss: 1.4271 - acc: 0.6579Epoch 00092: val_loss did not improve\n",
      "32221/32221 [==============================] - 4s 129us/step - loss: 1.4250 - acc: 0.6581 - val_loss: 0.7013 - val_acc: 0.6547\n",
      "Epoch 93/200\n",
      "32060/32221 [============================>.] - ETA: 0s - loss: 1.5770 - acc: 0.6727Epoch 00093: val_loss did not improve\n",
      "32221/32221 [==============================] - 4s 129us/step - loss: 1.6110 - acc: 0.6725 - val_loss: 0.7666 - val_acc: 0.6313\n",
      "Epoch 94/200\n",
      "32160/32221 [============================>.] - ETA: 0s - loss: 1.7061 - acc: 0.6597Epoch 00094: val_loss did not improve\n",
      "32221/32221 [==============================] - 4s 129us/step - loss: 1.7048 - acc: 0.6596 - val_loss: 0.7625 - val_acc: 0.6372\n",
      "Epoch 95/200\n",
      "31860/32221 [============================>.] - ETA: 0s - loss: 1.3436 - acc: 0.6384Epoch 00095: val_loss did not improve\n",
      "32221/32221 [==============================] - 4s 133us/step - loss: 1.3366 - acc: 0.6386 - val_loss: 0.7413 - val_acc: 0.6324\n"
     ]
    },
    {
     "name": "stdout",
     "output_type": "stream",
     "text": [
      "Epoch 96/200\n",
      "32060/32221 [============================>.] - ETA: 0s - loss: 1.3457 - acc: 0.6709Epoch 00096: val_loss did not improve\n",
      "32221/32221 [==============================] - 4s 128us/step - loss: 1.3434 - acc: 0.6706 - val_loss: 0.7203 - val_acc: 0.6512\n",
      "Epoch 97/200\n",
      "31960/32221 [============================>.] - ETA: 0s - loss: 1.6017 - acc: 0.6838Epoch 00097: val_loss did not improve\n",
      "32221/32221 [==============================] - 4s 129us/step - loss: 1.5995 - acc: 0.6841 - val_loss: 0.7128 - val_acc: 0.6723\n",
      "Epoch 98/200\n",
      "32140/32221 [============================>.] - ETA: 0s - loss: 1.2583 - acc: 0.7045Epoch 00098: val_loss did not improve\n",
      "32221/32221 [==============================] - 4s 126us/step - loss: 1.2594 - acc: 0.7046 - val_loss: 0.6793 - val_acc: 0.6810\n",
      "Epoch 99/200\n",
      "32100/32221 [============================>.] - ETA: 0s - loss: 2.1414 - acc: 0.6896Epoch 00099: val_loss did not improve\n",
      "32221/32221 [==============================] - 4s 128us/step - loss: 2.1387 - acc: 0.6893 - val_loss: 0.7505 - val_acc: 0.6603\n",
      "Epoch 100/200\n",
      "32220/32221 [============================>.] - ETA: 0s - loss: 1.5189 - acc: 0.6752Epoch 00100: val_loss did not improve\n",
      "32221/32221 [==============================] - 4s 126us/step - loss: 1.5188 - acc: 0.6752 - val_loss: 0.6375 - val_acc: 0.7000\n",
      "Epoch 101/200\n",
      "31780/32221 [============================>.] - ETA: 0s - loss: 1.2443 - acc: 0.6820Epoch 00101: val_loss did not improve\n",
      "32221/32221 [==============================] - 4s 125us/step - loss: 1.2407 - acc: 0.6821 - val_loss: 0.6865 - val_acc: 0.6791\n",
      "Epoch 102/200\n",
      "31820/32221 [============================>.] - ETA: 0s - loss: 1.3660 - acc: 0.6800Epoch 00102: val_loss did not improve\n",
      "32221/32221 [==============================] - 4s 125us/step - loss: 1.3758 - acc: 0.6803 - val_loss: 0.6716 - val_acc: 0.6968\n",
      "Epoch 103/200\n",
      "32160/32221 [============================>.] - ETA: 0s - loss: 1.5107 - acc: 0.6924Epoch 00103: val_loss did not improve\n",
      "32221/32221 [==============================] - 4s 128us/step - loss: 1.5094 - acc: 0.6924 - val_loss: 0.6340 - val_acc: 0.7194\n",
      "Epoch 104/200\n",
      "32040/32221 [============================>.] - ETA: 0s - loss: 1.5192 - acc: 0.6880Epoch 00104: val_loss did not improve\n",
      "32221/32221 [==============================] - 4s 128us/step - loss: 1.5175 - acc: 0.6880 - val_loss: 0.6858 - val_acc: 0.6803\n",
      "Epoch 105/200\n",
      "31880/32221 [============================>.] - ETA: 0s - loss: 1.6686 - acc: 0.6951Epoch 00105: val_loss did not improve\n",
      "32221/32221 [==============================] - 4s 136us/step - loss: 1.7185 - acc: 0.6947 - val_loss: 0.7032 - val_acc: 0.6778\n",
      "Epoch 106/200\n",
      "32200/32221 [============================>.] - ETA: 0s - loss: 1.2271 - acc: 0.6857Epoch 00106: val_loss did not improve\n",
      "32221/32221 [==============================] - 4s 134us/step - loss: 1.2267 - acc: 0.6857 - val_loss: 0.6972 - val_acc: 0.6838\n",
      "Epoch 107/200\n",
      "32040/32221 [============================>.] - ETA: 0s - loss: 1.2212 - acc: 0.6881Epoch 00107: val_loss did not improve\n",
      "32221/32221 [==============================] - 4s 133us/step - loss: 1.2185 - acc: 0.6882 - val_loss: 0.6782 - val_acc: 0.6890\n",
      "Epoch 108/200\n",
      "31920/32221 [============================>.] - ETA: 0s - loss: 1.2722 - acc: 0.6878Epoch 00108: val_loss did not improve\n",
      "32221/32221 [==============================] - 4s 122us/step - loss: 1.2808 - acc: 0.6865 - val_loss: 0.7244 - val_acc: 0.6462\n",
      "Epoch 109/200\n",
      "31980/32221 [============================>.] - ETA: 0s - loss: 1.3548 - acc: 0.6902Epoch 00109: val_loss did not improve\n",
      "32221/32221 [==============================] - 4s 125us/step - loss: 1.3505 - acc: 0.6903 - val_loss: 0.6681 - val_acc: 0.6946\n",
      "Epoch 110/200\n",
      "31800/32221 [============================>.] - ETA: 0s - loss: 1.1775 - acc: 0.7042Epoch 00110: val_loss did not improve\n",
      "32221/32221 [==============================] - 4s 127us/step - loss: 1.1702 - acc: 0.7044 - val_loss: 0.6628 - val_acc: 0.7076\n",
      "Epoch 111/200\n",
      "32020/32221 [============================>.] - ETA: 0s - loss: 2.1087 - acc: 0.7084Epoch 00111: val_loss did not improve\n",
      "32221/32221 [==============================] - 4s 126us/step - loss: 2.1004 - acc: 0.7083 - val_loss: 0.6874 - val_acc: 0.7091\n",
      "Epoch 112/200\n",
      "31860/32221 [============================>.] - ETA: 0s - loss: 1.6413 - acc: 0.7073Epoch 00112: val_loss did not improve\n",
      "32221/32221 [==============================] - 4s 127us/step - loss: 1.6345 - acc: 0.7072 - val_loss: 0.7184 - val_acc: 0.6801\n",
      "Epoch 113/200\n",
      "31880/32221 [============================>.] - ETA: 0s - loss: 2.0939 - acc: 0.7059Epoch 00113: val_loss did not improve\n",
      "32221/32221 [==============================] - 5s 143us/step - loss: 2.1435 - acc: 0.7058 - val_loss: 0.6931 - val_acc: 0.6797\n",
      "Epoch 114/200\n",
      "32120/32221 [============================>.] - ETA: 0s - loss: 2.0127 - acc: 0.7117Epoch 00114: val_loss did not improve\n",
      "32221/32221 [==============================] - 4s 129us/step - loss: 2.0089 - acc: 0.7117 - val_loss: 0.6976 - val_acc: 0.6888\n",
      "Epoch 115/200\n",
      "32020/32221 [============================>.] - ETA: 0s - loss: 1.9537 - acc: 0.6963Epoch 00115: val_loss did not improve\n",
      "32221/32221 [==============================] - 4s 126us/step - loss: 1.9502 - acc: 0.6961 - val_loss: 0.6889 - val_acc: 0.6974\n",
      "Epoch 116/200\n",
      "32120/32221 [============================>.] - ETA: 0s - loss: 1.6126 - acc: 0.6992Epoch 00116: val_loss improved from 0.56652 to 0.56079, saving model to model.weights.best.hdf5\n",
      "32221/32221 [==============================] - 4s 128us/step - loss: 1.6095 - acc: 0.6996 - val_loss: 0.5608 - val_acc: 0.7164\n",
      "Epoch 117/200\n",
      "31880/32221 [============================>.] - ETA: 0s - loss: 1.5165 - acc: 0.7010Epoch 00117: val_loss did not improve\n",
      "32221/32221 [==============================] - 4s 128us/step - loss: 1.5074 - acc: 0.7015 - val_loss: 0.6530 - val_acc: 0.7006\n",
      "Epoch 118/200\n",
      "31980/32221 [============================>.] - ETA: 0s - loss: 1.9845 - acc: 0.7021Epoch 00118: val_loss did not improve\n",
      "32221/32221 [==============================] - 4s 138us/step - loss: 2.0039 - acc: 0.6999 - val_loss: 0.7819 - val_acc: 0.6475\n",
      "Epoch 119/200\n",
      "32060/32221 [============================>.] - ETA: 0s - loss: 2.1866 - acc: 0.7021Epoch 00119: val_loss did not improve\n",
      "32221/32221 [==============================] - 4s 131us/step - loss: 2.1810 - acc: 0.7019 - val_loss: 0.7142 - val_acc: 0.6700\n",
      "Epoch 120/200\n",
      "32060/32221 [============================>.] - ETA: 0s - loss: 1.9569 - acc: 0.6901Epoch 00120: val_loss did not improve\n",
      "32221/32221 [==============================] - 4s 131us/step - loss: 1.9525 - acc: 0.6900 - val_loss: 0.7634 - val_acc: 0.6622\n",
      "Epoch 121/200\n",
      "32180/32221 [============================>.] - ETA: 0s - loss: 1.3436 - acc: 0.6787Epoch 00121: val_loss did not improve\n",
      "32221/32221 [==============================] - 4s 134us/step - loss: 1.3433 - acc: 0.6786 - val_loss: 0.7053 - val_acc: 0.6728\n",
      "Epoch 122/200\n",
      "32060/32221 [============================>.] - ETA: 0s - loss: 1.8972 - acc: 0.6983Epoch 00122: val_loss did not improve\n",
      "32221/32221 [==============================] - 4s 136us/step - loss: 1.9297 - acc: 0.6986 - val_loss: 0.6655 - val_acc: 0.6983\n",
      "Epoch 123/200\n",
      "31940/32221 [============================>.] - ETA: 0s - loss: 1.6977 - acc: 0.6942Epoch 00123: val_loss did not improve\n",
      "32221/32221 [==============================] - 4s 136us/step - loss: 1.7461 - acc: 0.6940 - val_loss: 0.6788 - val_acc: 0.6948\n",
      "Epoch 124/200\n",
      "32120/32221 [============================>.] - ETA: 0s - loss: 2.1886 - acc: 0.6771Epoch 00124: val_loss did not improve\n",
      "32221/32221 [==============================] - 4s 131us/step - loss: 2.1865 - acc: 0.6771 - val_loss: 0.6700 - val_acc: 0.6762\n",
      "Epoch 125/200\n",
      "31880/32221 [============================>.] - ETA: 0s - loss: 1.9133 - acc: 0.6926Epoch 00125: val_loss did not improve\n",
      "32221/32221 [==============================] - 4s 127us/step - loss: 1.9070 - acc: 0.6920 - val_loss: 0.7464 - val_acc: 0.6512\n",
      "Epoch 126/200\n",
      "32020/32221 [============================>.] - ETA: 0s - loss: 1.4960 - acc: 0.6885Epoch 00126: val_loss did not improve\n",
      "32221/32221 [==============================] - 4s 131us/step - loss: 1.4921 - acc: 0.6887 - val_loss: 0.6852 - val_acc: 0.6713\n",
      "Epoch 127/200\n"
     ]
    },
    {
     "name": "stdout",
     "output_type": "stream",
     "text": [
      "32200/32221 [============================>.] - ETA: 0s - loss: 1.3620 - acc: 0.6905Epoch 00127: val_loss did not improve\n",
      "32221/32221 [==============================] - 4s 127us/step - loss: 1.3621 - acc: 0.6905 - val_loss: 0.6228 - val_acc: 0.7058\n",
      "Epoch 128/200\n",
      "31960/32221 [============================>.] - ETA: 0s - loss: 1.6406 - acc: 0.6970Epoch 00128: val_loss did not improve\n",
      "32221/32221 [==============================] - 4s 133us/step - loss: 1.6346 - acc: 0.6968 - val_loss: 0.7241 - val_acc: 0.6492\n",
      "Epoch 129/200\n",
      "32140/32221 [============================>.] - ETA: 0s - loss: 2.7545 - acc: 0.6900Epoch 00129: val_loss did not improve\n",
      "32221/32221 [==============================] - 5s 155us/step - loss: 2.7492 - acc: 0.6903 - val_loss: 0.8004 - val_acc: 0.6419\n",
      "Epoch 130/200\n",
      "32160/32221 [============================>.] - ETA: 0s - loss: 2.3513 - acc: 0.6881Epoch 00130: val_loss did not improve\n",
      "32221/32221 [==============================] - 5s 161us/step - loss: 2.3486 - acc: 0.6881 - val_loss: 0.7397 - val_acc: 0.6564\n",
      "Epoch 131/200\n",
      "31900/32221 [============================>.] - ETA: 0s - loss: 2.1547 - acc: 0.6911Epoch 00131: val_loss did not improve\n",
      "32221/32221 [==============================] - 4s 137us/step - loss: 2.1952 - acc: 0.6911 - val_loss: 0.7096 - val_acc: 0.6644\n",
      "Epoch 132/200\n",
      "31860/32221 [============================>.] - ETA: 0s - loss: 1.9070 - acc: 0.6815Epoch 00132: val_loss did not improve\n",
      "32221/32221 [==============================] - 4s 129us/step - loss: 1.9054 - acc: 0.6813 - val_loss: 0.7298 - val_acc: 0.6436\n",
      "Epoch 133/200\n",
      "31980/32221 [============================>.] - ETA: 0s - loss: 2.3984 - acc: 0.6759Epoch 00133: val_loss did not improve\n",
      "32221/32221 [==============================] - 5s 146us/step - loss: 2.4037 - acc: 0.6761 - val_loss: 0.6956 - val_acc: 0.6708\n",
      "Epoch 134/200\n",
      "31840/32221 [============================>.] - ETA: 0s - loss: 1.9400 - acc: 0.6677Epoch 00134: val_loss did not improve\n",
      "32221/32221 [==============================] - 5s 147us/step - loss: 1.9310 - acc: 0.6676 - val_loss: 0.7409 - val_acc: 0.6276\n",
      "Epoch 135/200\n",
      "31960/32221 [============================>.] - ETA: 0s - loss: 2.0333 - acc: 0.6593Epoch 00135: val_loss did not improve\n",
      "32221/32221 [==============================] - 4s 132us/step - loss: 2.0246 - acc: 0.6595 - val_loss: 0.7303 - val_acc: 0.6235\n",
      "Epoch 136/200\n",
      "32040/32221 [============================>.] - ETA: 0s - loss: 1.6609 - acc: 0.6592Epoch 00136: val_loss did not improve\n",
      "32221/32221 [==============================] - 4s 135us/step - loss: 1.7110 - acc: 0.6595 - val_loss: 0.7298 - val_acc: 0.6246\n",
      "Epoch 137/200\n",
      "32200/32221 [============================>.] - ETA: 0s - loss: 1.7189 - acc: 0.6767Epoch 00137: val_loss did not improve\n",
      "32221/32221 [==============================] - 4s 134us/step - loss: 1.7186 - acc: 0.6767 - val_loss: 0.7363 - val_acc: 0.6315\n",
      "Epoch 138/200\n",
      "32160/32221 [============================>.] - ETA: 0s - loss: 1.8121 - acc: 0.6640Epoch 00138: val_loss did not improve\n",
      "32221/32221 [==============================] - 4s 134us/step - loss: 1.8101 - acc: 0.6642 - val_loss: 0.7349 - val_acc: 0.6415\n",
      "Epoch 139/200\n",
      "31840/32221 [============================>.] - ETA: 0s - loss: 1.7874 - acc: 0.6834Epoch 00139: val_loss did not improve\n",
      "32221/32221 [==============================] - 4s 132us/step - loss: 1.7761 - acc: 0.6838 - val_loss: 0.6839 - val_acc: 0.6752\n",
      "Epoch 140/200\n",
      "32120/32221 [============================>.] - ETA: 0s - loss: 1.9666 - acc: 0.6740Epoch 00140: val_loss did not improve\n",
      "32221/32221 [==============================] - 4s 134us/step - loss: 1.9628 - acc: 0.6740 - val_loss: 0.7115 - val_acc: 0.6575\n",
      "Epoch 141/200\n",
      "31900/32221 [============================>.] - ETA: 0s - loss: 2.9817 - acc: 0.6969Epoch 00141: val_loss did not improve\n",
      "32221/32221 [==============================] - 4s 130us/step - loss: 3.0165 - acc: 0.6966 - val_loss: 0.7237 - val_acc: 0.6655\n",
      "Epoch 142/200\n",
      "32040/32221 [============================>.] - ETA: 0s - loss: 2.3314 - acc: 0.6908Epoch 00142: val_loss did not improve\n",
      "32221/32221 [==============================] - 4s 135us/step - loss: 2.3238 - acc: 0.6909 - val_loss: 0.7495 - val_acc: 0.6507\n",
      "Epoch 143/200\n",
      "32140/32221 [============================>.] - ETA: 0s - loss: 4.5098 - acc: 0.7053Epoch 00143: val_loss did not improve\n",
      "32221/32221 [==============================] - 4s 133us/step - loss: 4.5010 - acc: 0.7054 - val_loss: 0.7632 - val_acc: 0.6538\n",
      "Epoch 144/200\n",
      "31820/32221 [============================>.] - ETA: 0s - loss: 2.7535 - acc: 0.6886Epoch 00144: val_loss did not improve\n",
      "32221/32221 [==============================] - 4s 132us/step - loss: 2.7491 - acc: 0.6882 - val_loss: 0.7637 - val_acc: 0.6445\n",
      "Epoch 145/200\n",
      "32220/32221 [============================>.] - ETA: 0s - loss: 1.6726 - acc: 0.6701Epoch 00145: val_loss did not improve\n",
      "32221/32221 [==============================] - 4s 127us/step - loss: 1.6726 - acc: 0.6701 - val_loss: 0.7721 - val_acc: 0.6242\n",
      "Epoch 146/200\n",
      "32040/32221 [============================>.] - ETA: 0s - loss: 3.4091 - acc: 0.6837Epoch 00146: val_loss improved from 0.56079 to 0.31725, saving model to model.weights.best.hdf5\n",
      "32221/32221 [==============================] - 4s 131us/step - loss: 3.3938 - acc: 0.6838 - val_loss: 0.3172 - val_acc: 0.8376\n",
      "Epoch 147/200\n",
      "31880/32221 [============================>.] - ETA: 0s - loss: 3.0284 - acc: 0.7020Epoch 00147: val_loss did not improve\n",
      "32221/32221 [==============================] - 5s 150us/step - loss: 3.0044 - acc: 0.7017 - val_loss: 0.7187 - val_acc: 0.6641\n",
      "Epoch 148/200\n",
      "32180/32221 [============================>.] - ETA: 0s - loss: 3.4710 - acc: 0.6995Epoch 00148: val_loss did not improve\n",
      "32221/32221 [==============================] - 4s 135us/step - loss: 3.5059 - acc: 0.6993 - val_loss: 0.7918 - val_acc: 0.6525\n",
      "Epoch 149/200\n",
      "31940/32221 [============================>.] - ETA: 0s - loss: 3.0722 - acc: 0.7108Epoch 00149: val_loss did not improve\n",
      "32221/32221 [==============================] - 4s 133us/step - loss: 3.0521 - acc: 0.7110 - val_loss: 0.7497 - val_acc: 0.6680\n",
      "Epoch 150/200\n",
      "32200/32221 [============================>.] - ETA: 0s - loss: 3.8210 - acc: 0.7180Epoch 00150: val_loss did not improve\n",
      "32221/32221 [==============================] - 4s 129us/step - loss: 3.8191 - acc: 0.7180 - val_loss: 0.7672 - val_acc: 0.6641\n",
      "Epoch 151/200\n",
      "32000/32221 [============================>.] - ETA: 0s - loss: 2.1294 - acc: 0.6826Epoch 00151: val_loss did not improve\n",
      "32221/32221 [==============================] - 4s 130us/step - loss: 2.1197 - acc: 0.6826 - val_loss: 0.7330 - val_acc: 0.6544\n",
      "Epoch 152/200\n",
      "31920/32221 [============================>.] - ETA: 0s - loss: 2.6264 - acc: 0.6729Epoch 00152: val_loss did not improve\n",
      "32221/32221 [==============================] - 4s 133us/step - loss: 2.6642 - acc: 0.6733 - val_loss: 0.7229 - val_acc: 0.6601\n",
      "Epoch 153/200\n",
      "31980/32221 [============================>.] - ETA: 0s - loss: 2.2122 - acc: 0.6790Epoch 00153: val_loss did not improve\n",
      "32221/32221 [==============================] - 4s 138us/step - loss: 2.2407 - acc: 0.6792 - val_loss: 0.8136 - val_acc: 0.6158\n",
      "Epoch 154/200\n",
      "32080/32221 [============================>.] - ETA: 0s - loss: 1.9335 - acc: 0.6710Epoch 00154: val_loss did not improve\n",
      "32221/32221 [==============================] - 5s 143us/step - loss: 1.9296 - acc: 0.6714 - val_loss: 0.7135 - val_acc: 0.6467\n",
      "Epoch 155/200\n",
      "31920/32221 [============================>.] - ETA: 0s - loss: 3.9547 - acc: 0.7050Epoch 00155: val_loss did not improve\n",
      "32221/32221 [==============================] - 4s 138us/step - loss: 3.9817 - acc: 0.7054 - val_loss: 0.7379 - val_acc: 0.6615\n",
      "Epoch 156/200\n",
      "31940/32221 [============================>.] - ETA: 0s - loss: 3.3577 - acc: 0.7111Epoch 00156: val_loss did not improve\n",
      "32221/32221 [==============================] - 4s 130us/step - loss: 3.3416 - acc: 0.7108 - val_loss: 0.7617 - val_acc: 0.6453\n",
      "Epoch 157/200\n",
      "32060/32221 [============================>.] - ETA: 0s - loss: 3.3362 - acc: 0.7172Epoch 00157: val_loss did not improve\n",
      "32221/32221 [==============================] - 4s 125us/step - loss: 3.3234 - acc: 0.7170 - val_loss: 0.7435 - val_acc: 0.6566\n",
      "Epoch 158/200\n"
     ]
    },
    {
     "name": "stdout",
     "output_type": "stream",
     "text": [
      "31880/32221 [============================>.] - ETA: 0s - loss: 4.4984 - acc: 0.7305Epoch 00158: val_loss did not improve\n",
      "32221/32221 [==============================] - 4s 136us/step - loss: 4.4599 - acc: 0.7306 - val_loss: 0.7771 - val_acc: 0.6661\n",
      "Epoch 159/200\n",
      "32040/32221 [============================>.] - ETA: 0s - loss: 3.9541 - acc: 0.7073Epoch 00159: val_loss did not improve\n",
      "32221/32221 [==============================] - 4s 135us/step - loss: 3.9874 - acc: 0.7075 - val_loss: 0.7829 - val_acc: 0.6549\n",
      "Epoch 160/200\n",
      "31920/32221 [============================>.] - ETA: 0s - loss: 3.1579 - acc: 0.7103Epoch 00160: val_loss did not improve\n",
      "32221/32221 [==============================] - 4s 129us/step - loss: 3.1355 - acc: 0.7107 - val_loss: 0.7744 - val_acc: 0.6581\n",
      "Epoch 161/200\n",
      "32040/32221 [============================>.] - ETA: 0s - loss: 2.6778 - acc: 0.7102Epoch 00161: val_loss did not improve\n",
      "32221/32221 [==============================] - 4s 133us/step - loss: 2.6672 - acc: 0.7102 - val_loss: 0.7212 - val_acc: 0.6717\n",
      "Epoch 162/200\n",
      "32200/32221 [============================>.] - ETA: 0s - loss: 2.5628 - acc: 0.7043Epoch 00162: val_loss did not improve\n",
      "32221/32221 [==============================] - 4s 129us/step - loss: 2.5615 - acc: 0.7043 - val_loss: 0.7021 - val_acc: 0.6762\n",
      "Epoch 163/200\n",
      "32020/32221 [============================>.] - ETA: 0s - loss: 2.7266 - acc: 0.7056Epoch 00163: val_loss did not improve\n",
      "32221/32221 [==============================] - 4s 136us/step - loss: 2.7179 - acc: 0.7052 - val_loss: 0.7172 - val_acc: 0.6689\n",
      "Epoch 164/200\n",
      "31840/32221 [============================>.] - ETA: 0s - loss: 2.4690 - acc: 0.6992Epoch 00164: val_loss did not improve\n",
      "32221/32221 [==============================] - 5s 140us/step - loss: 2.4505 - acc: 0.6990 - val_loss: 0.7015 - val_acc: 0.6706\n",
      "Epoch 165/200\n",
      "32100/32221 [============================>.] - ETA: 0s - loss: 2.4623 - acc: 0.7164Epoch 00165: val_loss did not improve\n",
      "32221/32221 [==============================] - 4s 129us/step - loss: 2.4559 - acc: 0.7162 - val_loss: 0.6659 - val_acc: 0.6912\n",
      "Epoch 166/200\n",
      "31900/32221 [============================>.] - ETA: 0s - loss: 3.7796 - acc: 0.7213Epoch 00166: val_loss did not improve\n",
      "32221/32221 [==============================] - 4s 128us/step - loss: 3.7993 - acc: 0.7217 - val_loss: 0.7459 - val_acc: 0.6702\n",
      "Epoch 167/200\n",
      "32220/32221 [============================>.] - ETA: 0s - loss: 2.7137 - acc: 0.7062Epoch 00167: val_loss did not improve\n",
      "32221/32221 [==============================] - 4s 134us/step - loss: 2.7137 - acc: 0.7062 - val_loss: 0.7221 - val_acc: 0.6674\n",
      "Epoch 168/200\n",
      "31860/32221 [============================>.] - ETA: 0s - loss: 2.5173 - acc: 0.7033Epoch 00168: val_loss did not improve\n",
      "32221/32221 [==============================] - 4s 125us/step - loss: 2.4978 - acc: 0.7037 - val_loss: 0.6741 - val_acc: 0.7007\n",
      "Epoch 169/200\n",
      "31820/32221 [============================>.] - ETA: 0s - loss: 2.9316 - acc: 0.6971Epoch 00169: val_loss did not improve\n",
      "32221/32221 [==============================] - 4s 128us/step - loss: 2.9039 - acc: 0.6972 - val_loss: 0.6978 - val_acc: 0.6829\n",
      "Epoch 170/200\n",
      "32140/32221 [============================>.] - ETA: 0s - loss: 4.4594 - acc: 0.7502Epoch 00170: val_loss did not improve\n",
      "32221/32221 [==============================] - 4s 124us/step - loss: 4.4498 - acc: 0.7502 - val_loss: 0.6749 - val_acc: 0.7045\n",
      "Epoch 171/200\n",
      "32020/32221 [============================>.] - ETA: 0s - loss: 5.9702 - acc: 0.7586Epoch 00171: val_loss did not improve\n",
      "32221/32221 [==============================] - 4s 127us/step - loss: 5.9373 - acc: 0.7586 - val_loss: 0.7694 - val_acc: 0.6870\n",
      "Epoch 172/200\n",
      "31960/32221 [============================>.] - ETA: 0s - loss: 5.5858 - acc: 0.7368Epoch 00172: val_loss did not improve\n",
      "32221/32221 [==============================] - 4s 130us/step - loss: 5.6013 - acc: 0.7370 - val_loss: 0.7421 - val_acc: 0.6976\n",
      "Epoch 173/200\n",
      "31980/32221 [============================>.] - ETA: 0s - loss: 4.7812 - acc: 0.7297Epoch 00173: val_loss did not improve\n",
      "32221/32221 [==============================] - 4s 128us/step - loss: 4.7516 - acc: 0.7301 - val_loss: 0.7112 - val_acc: 0.7047\n",
      "Epoch 174/200\n",
      "31860/32221 [============================>.] - ETA: 0s - loss: 3.6648 - acc: 0.7110Epoch 00174: val_loss did not improve\n",
      "32221/32221 [==============================] - 4s 132us/step - loss: 3.6331 - acc: 0.7110 - val_loss: 0.7468 - val_acc: 0.6605\n",
      "Epoch 175/200\n",
      "32060/32221 [============================>.] - ETA: 0s - loss: 3.2654 - acc: 0.7062Epoch 00175: val_loss did not improve\n",
      "32221/32221 [==============================] - 4s 130us/step - loss: 3.2636 - acc: 0.7063 - val_loss: 0.7282 - val_acc: 0.6616\n",
      "Epoch 176/200\n",
      "31940/32221 [============================>.] - ETA: 0s - loss: 3.4480 - acc: 0.6925Epoch 00176: val_loss did not improve\n",
      "32221/32221 [==============================] - 4s 125us/step - loss: 3.4270 - acc: 0.6926 - val_loss: 0.7560 - val_acc: 0.6445\n",
      "Epoch 177/200\n",
      "31900/32221 [============================>.] - ETA: 0s - loss: 2.7775 - acc: 0.6917Epoch 00177: val_loss did not improve\n",
      "32221/32221 [==============================] - 4s 129us/step - loss: 2.7614 - acc: 0.6919 - val_loss: 0.7548 - val_acc: 0.6363\n",
      "Epoch 178/200\n",
      "31980/32221 [============================>.] - ETA: 0s - loss: 2.9201 - acc: 0.6872Epoch 00178: val_loss did not improve\n",
      "32221/32221 [==============================] - 4s 128us/step - loss: 2.9041 - acc: 0.6873 - val_loss: 0.7337 - val_acc: 0.6408\n",
      "Epoch 179/200\n",
      "32080/32221 [============================>.] - ETA: 0s - loss: 3.2589 - acc: 0.6988Epoch 00179: val_loss did not improve\n",
      "32221/32221 [==============================] - 4s 128us/step - loss: 3.3028 - acc: 0.6989 - val_loss: 0.7104 - val_acc: 0.6570\n",
      "Epoch 180/200\n",
      "31960/32221 [============================>.] - ETA: 0s - loss: 4.7337 - acc: 0.7319Epoch 00180: val_loss did not improve\n",
      "32221/32221 [==============================] - 4s 126us/step - loss: 4.7024 - acc: 0.7318 - val_loss: 0.7392 - val_acc: 0.6685\n",
      "Epoch 181/200\n",
      "31940/32221 [============================>.] - ETA: 0s - loss: 4.1978 - acc: 0.7173Epoch 00181: val_loss did not improve\n",
      "32221/32221 [==============================] - 4s 133us/step - loss: 4.2212 - acc: 0.7175 - val_loss: 0.7385 - val_acc: 0.6709\n",
      "Epoch 182/200\n",
      "32120/32221 [============================>.] - ETA: 0s - loss: 3.1545 - acc: 0.7213Epoch 00182: val_loss did not improve\n",
      "32221/32221 [==============================] - 4s 128us/step - loss: 3.1462 - acc: 0.7213 - val_loss: 0.7274 - val_acc: 0.6721\n",
      "Epoch 183/200\n",
      "32020/32221 [============================>.] - ETA: 0s - loss: 3.4759 - acc: 0.7059Epoch 00183: val_loss did not improve\n",
      "32221/32221 [==============================] - 5s 140us/step - loss: 3.4591 - acc: 0.7063 - val_loss: 0.7698 - val_acc: 0.6616\n",
      "Epoch 184/200\n",
      "31980/32221 [============================>.] - ETA: 0s - loss: 2.9536 - acc: 0.6937Epoch 00184: val_loss did not improve\n",
      "32221/32221 [==============================] - 4s 125us/step - loss: 2.9377 - acc: 0.6932 - val_loss: 0.7309 - val_acc: 0.6521\n",
      "Epoch 185/200\n",
      "32080/32221 [============================>.] - ETA: 0s - loss: 4.2303 - acc: 0.7091Epoch 00185: val_loss did not improve\n",
      "32221/32221 [==============================] - 4s 124us/step - loss: 4.2140 - acc: 0.7093 - val_loss: 0.6704 - val_acc: 0.6836\n",
      "Epoch 186/200\n",
      "31920/32221 [============================>.] - ETA: 0s - loss: 5.9221 - acc: 0.7576Epoch 00186: val_loss did not improve\n",
      "32221/32221 [==============================] - 4s 125us/step - loss: 5.9302 - acc: 0.7574 - val_loss: 0.8060 - val_acc: 0.6499\n",
      "Epoch 187/200\n",
      "31880/32221 [============================>.] - ETA: 0s - loss: 4.0503 - acc: 0.7120Epoch 00187: val_loss did not improve\n",
      "32221/32221 [==============================] - 4s 132us/step - loss: 4.0156 - acc: 0.7121 - val_loss: 0.7796 - val_acc: 0.6493\n",
      "Epoch 188/200\n",
      "32040/32221 [============================>.] - ETA: 0s - loss: 4.7110 - acc: 0.7265Epoch 00188: val_loss did not improve\n",
      "32221/32221 [==============================] - 4s 131us/step - loss: 4.6914 - acc: 0.7260 - val_loss: 0.8286 - val_acc: 0.6345\n",
      "Epoch 189/200\n"
     ]
    },
    {
     "name": "stdout",
     "output_type": "stream",
     "text": [
      "32020/32221 [============================>.] - ETA: 0s - loss: 3.8869 - acc: 0.7009Epoch 00189: val_loss did not improve\n",
      "32221/32221 [==============================] - 4s 130us/step - loss: 3.8690 - acc: 0.7009 - val_loss: 0.7716 - val_acc: 0.6508\n",
      "Epoch 190/200\n",
      "31920/32221 [============================>.] - ETA: 0s - loss: 3.8842 - acc: 0.7173Epoch 00190: val_loss did not improve\n",
      "32221/32221 [==============================] - 4s 130us/step - loss: 3.8564 - acc: 0.7170 - val_loss: 0.7241 - val_acc: 0.6650\n",
      "Epoch 191/200\n",
      "32200/32221 [============================>.] - ETA: 0s - loss: 2.7447 - acc: 0.6976Epoch 00191: val_loss did not improve\n",
      "32221/32221 [==============================] - 4s 127us/step - loss: 2.7435 - acc: 0.6975 - val_loss: 0.7277 - val_acc: 0.6475\n",
      "Epoch 192/200\n",
      "32040/32221 [============================>.] - ETA: 0s - loss: 2.5191 - acc: 0.7195Epoch 00192: val_loss did not improve\n",
      "32221/32221 [==============================] - 4s 137us/step - loss: 2.5118 - acc: 0.7191 - val_loss: 0.6980 - val_acc: 0.6788\n",
      "Epoch 193/200\n",
      "31920/32221 [============================>.] - ETA: 0s - loss: 4.5495 - acc: 0.7340Epoch 00193: val_loss did not improve\n",
      "32221/32221 [==============================] - 4s 129us/step - loss: 4.5332 - acc: 0.7341 - val_loss: 0.7333 - val_acc: 0.6693\n",
      "Epoch 194/200\n",
      "31920/32221 [============================>.] - ETA: 0s - loss: 4.4048 - acc: 0.7418Epoch 00194: val_loss did not improve\n",
      "32221/32221 [==============================] - 4s 128us/step - loss: 4.3796 - acc: 0.7409 - val_loss: 0.7423 - val_acc: 0.6730\n",
      "Epoch 195/200\n",
      "32140/32221 [============================>.] - ETA: 0s - loss: 3.3960 - acc: 0.7147Epoch 00195: val_loss did not improve\n",
      "32221/32221 [==============================] - 4s 129us/step - loss: 3.3899 - acc: 0.7148 - val_loss: 0.7645 - val_acc: 0.6624\n",
      "Epoch 196/200\n",
      "31880/32221 [============================>.] - ETA: 0s - loss: 4.3726 - acc: 0.7338Epoch 00196: val_loss did not improve\n",
      "32221/32221 [==============================] - 4s 132us/step - loss: 4.3367 - acc: 0.7338 - val_loss: 0.7473 - val_acc: 0.6754\n",
      "Epoch 197/200\n",
      "31960/32221 [============================>.] - ETA: 0s - loss: 3.3754 - acc: 0.7222Epoch 00197: val_loss did not improve\n",
      "32221/32221 [==============================] - 4s 125us/step - loss: 3.3536 - acc: 0.7219 - val_loss: 0.7940 - val_acc: 0.6536\n",
      "Epoch 198/200\n",
      "32180/32221 [============================>.] - ETA: 0s - loss: 3.3841 - acc: 0.7177Epoch 00198: val_loss did not improve\n",
      "32221/32221 [==============================] - 4s 129us/step - loss: 3.3814 - acc: 0.7175 - val_loss: 0.7284 - val_acc: 0.6728\n",
      "Epoch 199/200\n",
      "32160/32221 [============================>.] - ETA: 0s - loss: 3.8581 - acc: 0.7211Epoch 00199: val_loss did not improve\n",
      "32221/32221 [==============================] - 4s 128us/step - loss: 3.8528 - acc: 0.7211 - val_loss: 0.7704 - val_acc: 0.6553\n",
      "Epoch 200/200\n",
      "32020/32221 [============================>.] - ETA: 0s - loss: 3.1067 - acc: 0.7205Epoch 00200: val_loss did not improve\n",
      "32221/32221 [==============================] - 4s 128us/step - loss: 3.0955 - acc: 0.7207 - val_loss: 0.7049 - val_acc: 0.6899\n"
     ]
    }
   ],
   "source": [
    "from keras.callbacks import ModelCheckpoint  \n",
    "\n",
    "checkpointer = ModelCheckpoint(filepath='model.weights.best.hdf5', verbose=1, \n",
    "                               save_best_only=True)\n",
    "class_weight = {0: 1,\n",
    "                1: 110}\n",
    "\n",
    "predict = model.fit(xtrain_pca, ytrain_cat, validation_data=(xvalid_pca, yvalid_cat),\n",
    "          epochs=200, batch_size=20, callbacks=[checkpointer], verbose=1, class_weight=class_weight)"
   ]
  },
  {
   "cell_type": "code",
   "execution_count": 50,
   "metadata": {},
   "outputs": [
    {
     "data": {
      "text/plain": [
       "{'val_loss': [0.8154828314230651,\n",
       "  0.89596595977271731,\n",
       "  0.82472072211501768,\n",
       "  0.74993326965879015,\n",
       "  0.56652437663833077,\n",
       "  0.91261015923995548,\n",
       "  0.68242594882762631,\n",
       "  0.76818037721253862,\n",
       "  0.70236665465534287,\n",
       "  0.86518698486757895,\n",
       "  1.1513555833525275,\n",
       "  0.63540261162503919,\n",
       "  0.82128657786317827,\n",
       "  0.63842806314400902,\n",
       "  1.0086754160886371,\n",
       "  0.63714247830975212,\n",
       "  0.92013536596209422,\n",
       "  0.86652239962885058,\n",
       "  0.88232831071430962,\n",
       "  0.9117024828379825,\n",
       "  0.8560920507548242,\n",
       "  0.74568379302708576,\n",
       "  0.65343360172747678,\n",
       "  0.70998138200415362,\n",
       "  0.6686803797325831,\n",
       "  0.79133452755334877,\n",
       "  0.87068551545702544,\n",
       "  0.79601448319255752,\n",
       "  0.67497803379037524,\n",
       "  0.7940911598489715,\n",
       "  0.67982319302621053,\n",
       "  0.76479956479933897,\n",
       "  0.65438278466185595,\n",
       "  0.90393321207781741,\n",
       "  0.8236531728472789,\n",
       "  0.72991361969898094,\n",
       "  0.73216192998699636,\n",
       "  0.87460906023863749,\n",
       "  0.87559404841570432,\n",
       "  0.85427190760216454,\n",
       "  0.84652845209093286,\n",
       "  0.84483001873701868,\n",
       "  0.87406702736458519,\n",
       "  0.86583506716918235,\n",
       "  0.70867726062485181,\n",
       "  0.71457291154444103,\n",
       "  0.7044619662024677,\n",
       "  0.73386955527619946,\n",
       "  0.74491283014499943,\n",
       "  0.86885747840728622,\n",
       "  0.81176437889841457,\n",
       "  0.79171073803022585,\n",
       "  0.81692370267331715,\n",
       "  0.73459792447933714,\n",
       "  0.79474397711247702,\n",
       "  0.74530931102940934,\n",
       "  0.72193395880569511,\n",
       "  0.68667341127741932,\n",
       "  0.72769485255859423,\n",
       "  0.72571759467018382,\n",
       "  0.71850330272977359,\n",
       "  0.78093161807157918,\n",
       "  0.82476668739674031,\n",
       "  0.76233606886819305,\n",
       "  0.92532589326801695,\n",
       "  0.73355700705526483,\n",
       "  0.77073205527424593,\n",
       "  0.64864291614216352,\n",
       "  0.75079412927618683,\n",
       "  0.69274456463268574,\n",
       "  0.71466585399940252,\n",
       "  0.74491656781130888,\n",
       "  0.76969171935619585,\n",
       "  0.74932665415316324,\n",
       "  0.73033738447079222,\n",
       "  0.76793236123116992,\n",
       "  0.74376595297783221,\n",
       "  0.71455219293661842,\n",
       "  0.69437596468286145,\n",
       "  0.68054913988881494,\n",
       "  0.65666453601372754,\n",
       "  0.72294577184780129,\n",
       "  0.75912641475820009,\n",
       "  0.79782299145195956,\n",
       "  0.72941562078296585,\n",
       "  0.73774486685820351,\n",
       "  0.731402157460733,\n",
       "  0.97951975747859676,\n",
       "  0.75453476421881871,\n",
       "  0.82478722552569439,\n",
       "  0.79926690581346582,\n",
       "  0.70129059474339472,\n",
       "  0.76660024886690703,\n",
       "  0.7625476323914484,\n",
       "  0.74125432196720131,\n",
       "  0.72027416319154491,\n",
       "  0.7128422073811792,\n",
       "  0.67932650213800994,\n",
       "  0.75051748619399261,\n",
       "  0.63747773508869066,\n",
       "  0.68647763108074999,\n",
       "  0.67160093298553036,\n",
       "  0.63397626449601996,\n",
       "  0.68577255316952757,\n",
       "  0.70315886975666664,\n",
       "  0.6971969391380608,\n",
       "  0.67821591276696269,\n",
       "  0.72443252801895142,\n",
       "  0.66806322730231327,\n",
       "  0.66279473376340703,\n",
       "  0.68742782839190641,\n",
       "  0.71840339095732353,\n",
       "  0.69310897903864188,\n",
       "  0.69763645541887154,\n",
       "  0.68891094545911813,\n",
       "  0.56078863798686962,\n",
       "  0.65303494754695135,\n",
       "  0.78186980288066454,\n",
       "  0.71422272997264868,\n",
       "  0.76337222561059825,\n",
       "  0.70530621648925718,\n",
       "  0.66554454355494808,\n",
       "  0.67884248302183536,\n",
       "  0.67004798312654268,\n",
       "  0.74636364873894101,\n",
       "  0.6851707079779058,\n",
       "  0.6228290090070312,\n",
       "  0.72413505153172064,\n",
       "  0.80040725754847963,\n",
       "  0.73973498145184258,\n",
       "  0.70961128029647347,\n",
       "  0.72977755881943074,\n",
       "  0.69561623754418422,\n",
       "  0.74088942478766429,\n",
       "  0.73027416880570306,\n",
       "  0.72980946915664713,\n",
       "  0.73627621018686773,\n",
       "  0.73485850140424636,\n",
       "  0.68386507716922751,\n",
       "  0.71148558957823094,\n",
       "  0.72366473516791863,\n",
       "  0.74948268895708647,\n",
       "  0.76315173736801312,\n",
       "  0.76374540748542918,\n",
       "  0.7720699471246375,\n",
       "  0.31724580494232574,\n",
       "  0.71873771297976075,\n",
       "  0.79177220898300571,\n",
       "  0.74972889764985851,\n",
       "  0.76719576556034375,\n",
       "  0.73301870765743748,\n",
       "  0.7228987843242215,\n",
       "  0.81360487270843607,\n",
       "  0.71348521363135819,\n",
       "  0.7379243707551415,\n",
       "  0.76165384858902163,\n",
       "  0.74346320178477676,\n",
       "  0.77713241571043679,\n",
       "  0.78285880511699446,\n",
       "  0.77444788136517762,\n",
       "  0.7211890773400248,\n",
       "  0.7021081402648095,\n",
       "  0.71718222055466263,\n",
       "  0.70145147556033216,\n",
       "  0.66586817137799892,\n",
       "  0.7458773574790114,\n",
       "  0.72206155689401996,\n",
       "  0.67408742628591711,\n",
       "  0.69784857891846852,\n",
       "  0.67488906821699801,\n",
       "  0.76944650381588753,\n",
       "  0.74208939757919568,\n",
       "  0.71124103950363327,\n",
       "  0.74682075155528649,\n",
       "  0.72815057042620945,\n",
       "  0.75598464860429981,\n",
       "  0.75476048390070594,\n",
       "  0.73365290893078738,\n",
       "  0.71036552764072991,\n",
       "  0.73924182873784716,\n",
       "  0.73845848415228599,\n",
       "  0.72735521015563709,\n",
       "  0.76981174604519786,\n",
       "  0.7309423521216577,\n",
       "  0.67037982223087178,\n",
       "  0.80599964647319733,\n",
       "  0.77956167612661864,\n",
       "  0.82859527898234364,\n",
       "  0.77158374293556431,\n",
       "  0.72407730881062304,\n",
       "  0.72765244260513584,\n",
       "  0.69796817366475494,\n",
       "  0.73332954151642615,\n",
       "  0.74229393638743335,\n",
       "  0.76451573289195474,\n",
       "  0.74729323113000612,\n",
       "  0.7939727010562655,\n",
       "  0.72841740299703017,\n",
       "  0.77037240323407685,\n",
       "  0.70492092071853762],\n",
       " 'val_acc': [0.078957171135996526,\n",
       "  0.014525139895120368,\n",
       "  0.13519553349004779,\n",
       "  0.3409683447698863,\n",
       "  0.69571694459773081,\n",
       "  0.23351955656621265,\n",
       "  0.48193668675378271,\n",
       "  0.4182495361044864,\n",
       "  0.40670391179107868,\n",
       "  0.23705773097176791,\n",
       "  0.089944136112206918,\n",
       "  0.53482309300140296,\n",
       "  0.41955307389659813,\n",
       "  0.58752327727316922,\n",
       "  0.15186220007208029,\n",
       "  0.4927374318769302,\n",
       "  0.34711359589737001,\n",
       "  0.35474860478102382,\n",
       "  0.3528864071244856,\n",
       "  0.31880819574137198,\n",
       "  0.39385475078164089,\n",
       "  0.51638733724642061,\n",
       "  0.48268156483408681,\n",
       "  0.51117318657745414,\n",
       "  0.61545623836126628,\n",
       "  0.55065177195121007,\n",
       "  0.47635009454726285,\n",
       "  0.45828678096805869,\n",
       "  0.59366853021820609,\n",
       "  0.45698324174687849,\n",
       "  0.59795158446612084,\n",
       "  0.51936685422945283,\n",
       "  0.5629422734014593,\n",
       "  0.45679702300377178,\n",
       "  0.49944134303533388,\n",
       "  0.56759776671727502,\n",
       "  0.60465549334911439,\n",
       "  0.53091247826537158,\n",
       "  0.49776536603657673,\n",
       "  0.52849162118838933,\n",
       "  0.52458100661885143,\n",
       "  0.53054003880898604,\n",
       "  0.50614525269529675,\n",
       "  0.48230912709813323,\n",
       "  0.58491620315963777,\n",
       "  0.5729981397228312,\n",
       "  0.60353817747735894,\n",
       "  0.61601489976575696,\n",
       "  0.62271881142364094,\n",
       "  0.55698324076734218,\n",
       "  0.57448789721538673,\n",
       "  0.56424581183179578,\n",
       "  0.53035381924728664,\n",
       "  0.60856611008306682,\n",
       "  0.54301675976543673,\n",
       "  0.59795158396664061,\n",
       "  0.63035381933608314,\n",
       "  0.6322160162295265,\n",
       "  0.61135940589496318,\n",
       "  0.61564245903292181,\n",
       "  0.64860335242148881,\n",
       "  0.65344506613147102,\n",
       "  0.60446927434239306,\n",
       "  0.66945996342202585,\n",
       "  0.55605214279235182,\n",
       "  0.64301675835579242,\n",
       "  0.63649906970047199,\n",
       "  0.66405959069395859,\n",
       "  0.64208566015881086,\n",
       "  0.67281191875148749,\n",
       "  0.67132215981598897,\n",
       "  0.65158286751759564,\n",
       "  0.62197392834853416,\n",
       "  0.6277467402000001,\n",
       "  0.66722532635072529,\n",
       "  0.62290502815495208,\n",
       "  0.63575419067670513,\n",
       "  0.63649906892350261,\n",
       "  0.65605214188218786,\n",
       "  0.66163873494892367,\n",
       "  0.66387337091026799,\n",
       "  0.6826815636242346,\n",
       "  0.67430167446811329,\n",
       "  0.64245810144662419,\n",
       "  0.66480447027270351,\n",
       "  0.65828677884249265,\n",
       "  0.64301676046470913,\n",
       "  0.54897579295453192,\n",
       "  0.66890130395995839,\n",
       "  0.6093109891623314,\n",
       "  0.62383612907132624,\n",
       "  0.6547486035073492,\n",
       "  0.63128491720007784,\n",
       "  0.63724394794726946,\n",
       "  0.63240223568023024,\n",
       "  0.65121042761722758,\n",
       "  0.67225325806846836,\n",
       "  0.68100558634798847,\n",
       "  0.66033519468715962,\n",
       "  0.69999999984460615,\n",
       "  0.67914338873307356,\n",
       "  0.69683426341087018,\n",
       "  0.71936685313059634,\n",
       "  0.68026070632526103,\n",
       "  0.6778398501362437,\n",
       "  0.68379888277036072,\n",
       "  0.68901303449378559,\n",
       "  0.64618249567749331,\n",
       "  0.6945996273385302,\n",
       "  0.70763501008795626,\n",
       "  0.70912476857947238,\n",
       "  0.68007448820650462,\n",
       "  0.67970204974907955,\n",
       "  0.68882681715199845,\n",
       "  0.69739292353891125,\n",
       "  0.71638733770150265,\n",
       "  0.70055865952866481,\n",
       "  0.64748603505129254,\n",
       "  0.67001862299508885,\n",
       "  0.66219739418899992,\n",
       "  0.67281191753053582,\n",
       "  0.69832402223537315,\n",
       "  0.69478584723321646,\n",
       "  0.67616387297099312,\n",
       "  0.65121042795021444,\n",
       "  0.67132215959399777,\n",
       "  0.70577281103009837,\n",
       "  0.64916201166156506,\n",
       "  0.64189944031962243,\n",
       "  0.65642458033961293,\n",
       "  0.66443202881839691,\n",
       "  0.64357541748487301,\n",
       "  0.67076350101989524,\n",
       "  0.62756052108228322,\n",
       "  0.62346368728403267,\n",
       "  0.62458100709613251,\n",
       "  0.63147113753874651,\n",
       "  0.64152700219518421,\n",
       "  0.67523277294258388,\n",
       "  0.65754190015171277,\n",
       "  0.66554934796452303,\n",
       "  0.65065177015308118,\n",
       "  0.65381750636482594,\n",
       "  0.64450651873423404,\n",
       "  0.62420856719576445,\n",
       "  0.83761638858020859,\n",
       "  0.66405959013898053,\n",
       "  0.65251396688003116,\n",
       "  0.66797020426453602,\n",
       "  0.66405958991698932,\n",
       "  0.65437616360698114,\n",
       "  0.66014897590242949,\n",
       "  0.6158286804815466,\n",
       "  0.64674115414060029,\n",
       "  0.66145251427726814,\n",
       "  0.64525139576007973,\n",
       "  0.6566107992353386,\n",
       "  0.6661080059836475,\n",
       "  0.65493482107112755,\n",
       "  0.65810055694988545,\n",
       "  0.67169459805142284,\n",
       "  0.67616387285999746,\n",
       "  0.66890130296099781,\n",
       "  0.67057728212416945,\n",
       "  0.69124767178707724,\n",
       "  0.67020484189081453,\n",
       "  0.66741154546844228,\n",
       "  0.70074487809140362,\n",
       "  0.68286778329692965,\n",
       "  0.70446927332123344,\n",
       "  0.68696461720617563,\n",
       "  0.69757914243463692,\n",
       "  0.7046554934379109,\n",
       "  0.66052141580279755,\n",
       "  0.66163873361697634,\n",
       "  0.64450651884522958,\n",
       "  0.63631285036076379,\n",
       "  0.64078212461436035,\n",
       "  0.65698323980168039,\n",
       "  0.66852886494755526,\n",
       "  0.6709497213585639,\n",
       "  0.67206703972772064,\n",
       "  0.66163873461593681,\n",
       "  0.6521415269796631,\n",
       "  0.68361266243169205,\n",
       "  0.64990689124030998,\n",
       "  0.64934823244421624,\n",
       "  0.63445065285684454,\n",
       "  0.65083798893781131,\n",
       "  0.6649906896124117,\n",
       "  0.64748603471830568,\n",
       "  0.67877095038664403,\n",
       "  0.66927374297236153,\n",
       "  0.67299813753621762,\n",
       "  0.66238361241875188,\n",
       "  0.67541899461319987,\n",
       "  0.65363128524918801,\n",
       "  0.67281191852949629,\n",
       "  0.65530726319140786,\n",
       "  0.68994413296825619],\n",
       " 'loss': [2.1850164905151157,\n",
       "  1.6495800313105748,\n",
       "  1.6430598930741174,\n",
       "  1.6903194965942845,\n",
       "  1.6340759150316913,\n",
       "  1.7680270206565309,\n",
       "  1.7304965361126352,\n",
       "  1.6392010815231417,\n",
       "  1.6692317212221028,\n",
       "  1.6183621973665965,\n",
       "  1.859688874490989,\n",
       "  1.7756974646482109,\n",
       "  1.6829296541838876,\n",
       "  1.5926456987357223,\n",
       "  1.7260092346810536,\n",
       "  1.9847147346434544,\n",
       "  1.7099403466138274,\n",
       "  1.7126111451379524,\n",
       "  1.593816090364895,\n",
       "  1.5702720293803816,\n",
       "  1.8639412125204495,\n",
       "  1.5302297880791542,\n",
       "  1.693996590082028,\n",
       "  1.3900434646018631,\n",
       "  1.7408406370911702,\n",
       "  2.0328083058512156,\n",
       "  1.4810407408892208,\n",
       "  1.727527523713384,\n",
       "  1.414895184161199,\n",
       "  1.4321710342450893,\n",
       "  1.40925616687623,\n",
       "  1.4828934384633226,\n",
       "  1.4162224726091472,\n",
       "  1.6141933238224027,\n",
       "  1.6109479689709054,\n",
       "  1.5978948413798963,\n",
       "  2.1147515845751617,\n",
       "  1.8161342068595614,\n",
       "  1.7767558658553295,\n",
       "  1.6610947336339887,\n",
       "  1.6103868858670172,\n",
       "  1.4447731341730672,\n",
       "  1.5532688763675799,\n",
       "  1.475340807986568,\n",
       "  1.2546303538360291,\n",
       "  1.4517827583589826,\n",
       "  1.2451031215490322,\n",
       "  2.1332617031433889,\n",
       "  1.679970013856745,\n",
       "  1.7316416841523947,\n",
       "  1.754701899358275,\n",
       "  1.4134772829435114,\n",
       "  1.4661336400530265,\n",
       "  1.8017588587618361,\n",
       "  1.4709976134140843,\n",
       "  1.2820505710704817,\n",
       "  1.4764828920668478,\n",
       "  1.2758372159078355,\n",
       "  1.6036540982429504,\n",
       "  1.4113649037981555,\n",
       "  1.5371873415094348,\n",
       "  1.9732666643550967,\n",
       "  1.6583877015595885,\n",
       "  1.8800312337711151,\n",
       "  1.7944500520422371,\n",
       "  1.389302171150222,\n",
       "  1.5889272529173688,\n",
       "  1.3330169878468132,\n",
       "  1.5588203335679618,\n",
       "  1.5745914206999529,\n",
       "  1.4794761384069199,\n",
       "  2.0288391664967826,\n",
       "  1.4214191625053563,\n",
       "  1.6823178172344595,\n",
       "  1.6054922066796371,\n",
       "  1.3473365500967323,\n",
       "  1.4221726058368995,\n",
       "  1.2221611811641795,\n",
       "  1.338088350925825,\n",
       "  1.3751788857529834,\n",
       "  1.8560722229809725,\n",
       "  4.5233923831512364,\n",
       "  2.7891799729888023,\n",
       "  2.0166224180476271,\n",
       "  1.4075025541997461,\n",
       "  1.7216909736535666,\n",
       "  2.4844626318721743,\n",
       "  2.5428929795144533,\n",
       "  1.7573025373340183,\n",
       "  1.7818024269804731,\n",
       "  1.6756551417026628,\n",
       "  1.4249511310757321,\n",
       "  1.6110365316940047,\n",
       "  1.7047764043892559,\n",
       "  1.3365689682352273,\n",
       "  1.3433507112397323,\n",
       "  1.5995451882652019,\n",
       "  1.2594480655864977,\n",
       "  2.1387243263789024,\n",
       "  1.5188280718890075,\n",
       "  1.2406964549271997,\n",
       "  1.375770343102235,\n",
       "  1.509440883566022,\n",
       "  1.5174925754225304,\n",
       "  1.7185283341931168,\n",
       "  1.2267262669551222,\n",
       "  1.2184534429268852,\n",
       "  1.2808473929040722,\n",
       "  1.3504871629460655,\n",
       "  1.170244203493314,\n",
       "  2.1004048042457732,\n",
       "  1.6344985449938636,\n",
       "  2.1434575026164531,\n",
       "  2.0088505022780923,\n",
       "  1.950201629968642,\n",
       "  1.6094932016514685,\n",
       "  1.5073707019979785,\n",
       "  2.0039341865101643,\n",
       "  2.1810252773577852,\n",
       "  1.952520222768247,\n",
       "  1.3433166619187598,\n",
       "  1.9297404700422365,\n",
       "  1.7460892445209852,\n",
       "  2.1865150887676963,\n",
       "  1.9070408981930445,\n",
       "  1.4921484024392364,\n",
       "  1.3621104444828778,\n",
       "  1.6346087639679054,\n",
       "  2.7491866112180512,\n",
       "  2.3486292994578788,\n",
       "  2.1952144356917294,\n",
       "  1.9054467337834078,\n",
       "  2.4037065839102962,\n",
       "  1.9309565068870123,\n",
       "  2.024600041649133,\n",
       "  1.7110044232581598,\n",
       "  1.718593720009435,\n",
       "  1.8101056148038306,\n",
       "  1.7760766608321532,\n",
       "  1.9628192362043966,\n",
       "  3.0165445640734507,\n",
       "  2.3238469907944306,\n",
       "  4.5009555750221582,\n",
       "  2.7490667908530892,\n",
       "  1.6726118080135992,\n",
       "  3.3937513779145054,\n",
       "  3.0044182543800781,\n",
       "  3.5059089047856764,\n",
       "  3.0520933979423157,\n",
       "  3.8190875160879005,\n",
       "  2.119746839809133,\n",
       "  2.6642052698791834,\n",
       "  2.2406754689572268,\n",
       "  1.929614842767557,\n",
       "  3.9816903814903268,\n",
       "  3.3415917791975054,\n",
       "  3.3233631479948671,\n",
       "  4.4598539117665315,\n",
       "  3.9873659148453675,\n",
       "  3.1354737422722372,\n",
       "  2.6672244344301621,\n",
       "  2.5615427271970415,\n",
       "  2.7178885967659272,\n",
       "  2.4505219565708596,\n",
       "  2.4558561100250018,\n",
       "  3.7992560945927205,\n",
       "  2.7137036995711821,\n",
       "  2.4978319032358374,\n",
       "  2.9039230739459496,\n",
       "  4.4498430480104307,\n",
       "  5.937251468033435,\n",
       "  5.6012712499844453,\n",
       "  4.7516364559862092,\n",
       "  3.6330721884673198,\n",
       "  3.2635628695738967,\n",
       "  3.4270432697040061,\n",
       "  2.7613758664695576,\n",
       "  2.9040915461062831,\n",
       "  3.3028009201704007,\n",
       "  4.7023584608377922,\n",
       "  4.2212202915982653,\n",
       "  3.1461931272876855,\n",
       "  3.4591059305957792,\n",
       "  2.9377077855725222,\n",
       "  4.2139843965211989,\n",
       "  5.9302215774555895,\n",
       "  4.0156214578016742,\n",
       "  4.6913670973379853,\n",
       "  3.8690024314365541,\n",
       "  3.8564029965038995,\n",
       "  2.743480442418583,\n",
       "  2.5117507076771752,\n",
       "  4.5332180379981182,\n",
       "  4.379587018681244,\n",
       "  3.3898526569140199,\n",
       "  4.336674667187812,\n",
       "  3.3536433775596244,\n",
       "  3.3813624969872094,\n",
       "  3.8528301762607486,\n",
       "  3.0954951298326727],\n",
       " 'acc': [0.44089258707228968,\n",
       "  0.21495298331060067,\n",
       "  0.18990720579954637,\n",
       "  0.28689364255018501,\n",
       "  0.29732162442885796,\n",
       "  0.40299804561129865,\n",
       "  0.32826417729599378,\n",
       "  0.34921324824275729,\n",
       "  0.34893392692192438,\n",
       "  0.39638745052349944,\n",
       "  0.39672884316474144,\n",
       "  0.36848639252659682,\n",
       "  0.42711275380874442,\n",
       "  0.38158344100388558,\n",
       "  0.41978833824234268,\n",
       "  0.4635486190451919,\n",
       "  0.39970826636586515,\n",
       "  0.40051519305576683,\n",
       "  0.44412029556337412,\n",
       "  0.40473604308545508,\n",
       "  0.45755873657368751,\n",
       "  0.45231370991841918,\n",
       "  0.45873809150607109,\n",
       "  0.49266006848076671,\n",
       "  0.52658204348720117,\n",
       "  0.53080289411347237,\n",
       "  0.5025294079767556,\n",
       "  0.49374631537048036,\n",
       "  0.50193973034060702,\n",
       "  0.50901586091718931,\n",
       "  0.51062971489727527,\n",
       "  0.52785450607378215,\n",
       "  0.5352409935738246,\n",
       "  0.54467583353744531,\n",
       "  0.53129946469154399,\n",
       "  0.54619658154347794,\n",
       "  0.5721113566574092,\n",
       "  0.59107414570116978,\n",
       "  0.55414170985011568,\n",
       "  0.53493063680575337,\n",
       "  0.5532727112607958,\n",
       "  0.5616833754724373,\n",
       "  0.5582073812469609,\n",
       "  0.55348996176022192,\n",
       "  0.56186958974028045,\n",
       "  0.57515285146520934,\n",
       "  0.60575401228028658,\n",
       "  0.61556127999756116,\n",
       "  0.59842959589023048,\n",
       "  0.58368765818725321,\n",
       "  0.60680922406452531,\n",
       "  0.58176344745759467,\n",
       "  0.57673567005540294,\n",
       "  0.62965146985852716,\n",
       "  0.57639427814162214,\n",
       "  0.61217839369682558,\n",
       "  0.60932311295523278,\n",
       "  0.62356847971756402,\n",
       "  0.63800006209028115,\n",
       "  0.63458614036034344,\n",
       "  0.64653486785732983,\n",
       "  0.67058750586463678,\n",
       "  0.64383476599091305,\n",
       "  0.68852611692593801,\n",
       "  0.64398994475787164,\n",
       "  0.64073119982709392,\n",
       "  0.64675211805800203,\n",
       "  0.65730424244892727,\n",
       "  0.64945222034248939,\n",
       "  0.65596970962133605,\n",
       "  0.65035225514766837,\n",
       "  0.66555972809062125,\n",
       "  0.6432450882923314,\n",
       "  0.64371062314383443,\n",
       "  0.66192855561106256,\n",
       "  0.65531796093948402,\n",
       "  0.65081779005836715,\n",
       "  0.65277303597443237,\n",
       "  0.64982464825846931,\n",
       "  0.6533006417833076,\n",
       "  0.66732876048341583,\n",
       "  0.70829583227713977,\n",
       "  0.65379721256301504,\n",
       "  0.67604978073243005,\n",
       "  0.65649731494924524,\n",
       "  0.67825331237595021,\n",
       "  0.68321901851554134,\n",
       "  0.67393935671998395,\n",
       "  0.65839049060348909,\n",
       "  0.65292821434829373,\n",
       "  0.66686322595379011,\n",
       "  0.65808013466970905,\n",
       "  0.6725117153900303,\n",
       "  0.65960088163102781,\n",
       "  0.63855870406183168,\n",
       "  0.67064957616345544,\n",
       "  0.6840569813607188,\n",
       "  0.70457155222200318,\n",
       "  0.68930200737824465,\n",
       "  0.67524285369521542,\n",
       "  0.68207069911132778,\n",
       "  0.68027063042220481,\n",
       "  0.69243660940552276,\n",
       "  0.68796747433976835,\n",
       "  0.69473324810480752,\n",
       "  0.68570187129490734,\n",
       "  0.6882467950501443,\n",
       "  0.68650879869469639,\n",
       "  0.69032618383918631,\n",
       "  0.70435430338283489,\n",
       "  0.70826479621389493,\n",
       "  0.70720958354171881,\n",
       "  0.70584401452879142,\n",
       "  0.71167871869996679,\n",
       "  0.69606778197017549,\n",
       "  0.69960584710723972,\n",
       "  0.70146798628016838,\n",
       "  0.69994723876203879,\n",
       "  0.70190248590086779,\n",
       "  0.69001582775741666,\n",
       "  0.67859470440257308,\n",
       "  0.69864374186265199,\n",
       "  0.69401942725761845,\n",
       "  0.67713602872050371,\n",
       "  0.69200211006230372,\n",
       "  0.68874336541363113,\n",
       "  0.69048136302699026,\n",
       "  0.69684367317352902,\n",
       "  0.69026411410272792,\n",
       "  0.68809161732373725,\n",
       "  0.69110207604886897,\n",
       "  0.68129480709403167,\n",
       "  0.67611185219666647,\n",
       "  0.66760808139727745,\n",
       "  0.65950777372247338,\n",
       "  0.65953880950083843,\n",
       "  0.67670152936618555,\n",
       "  0.66416312368780139,\n",
       "  0.68380869574425607,\n",
       "  0.67403246255668459,\n",
       "  0.69662642432326161,\n",
       "  0.6909468978895924,\n",
       "  0.70537848002506376,\n",
       "  0.68815368828850898,\n",
       "  0.67009093445412393,\n",
       "  0.68383973225146966,\n",
       "  0.70174730767499605,\n",
       "  0.69932652570131282,\n",
       "  0.71102696957414602,\n",
       "  0.71800999429645396,\n",
       "  0.68259830456872783,\n",
       "  0.67325657142732576,\n",
       "  0.67915334632278967,\n",
       "  0.67136339662402178,\n",
       "  0.70537847972908474,\n",
       "  0.71077868538208278,\n",
       "  0.71704788758306992,\n",
       "  0.73064150618151247,\n",
       "  0.70751994008595587,\n",
       "  0.71071661337028502,\n",
       "  0.71015797202352782,\n",
       "  0.70426119571476353,\n",
       "  0.70516122966160311,\n",
       "  0.69904720540900744,\n",
       "  0.71620992506346937,\n",
       "  0.72173427313437644,\n",
       "  0.70621644258166172,\n",
       "  0.70370255396103509,\n",
       "  0.69721610016457425,\n",
       "  0.75019397358518303,\n",
       "  0.75863567373057861,\n",
       "  0.73703485417087067,\n",
       "  0.73005182927097523,\n",
       "  0.71099593352570012,\n",
       "  0.70634058486268025,\n",
       "  0.69259178729841808,\n",
       "  0.69187796718932693,\n",
       "  0.68728469002754089,\n",
       "  0.69889202662817473,\n",
       "  0.73175879196430882,\n",
       "  0.71754445924146526,\n",
       "  0.72133080934753802,\n",
       "  0.70630954946538838,\n",
       "  0.6932125006088764,\n",
       "  0.70925793790280056,\n",
       "  0.7574252821406795,\n",
       "  0.71211321789519622,\n",
       "  0.72604822959318605,\n",
       "  0.70087830928453709,\n",
       "  0.71695478046995931,\n",
       "  0.69752645833669646,\n",
       "  0.71909624164817254,\n",
       "  0.73411750196319159,\n",
       "  0.74091431083509307,\n",
       "  0.71475124985126692,\n",
       "  0.73383818067195661,\n",
       "  0.72192048612858439,\n",
       "  0.71751342293403764,\n",
       "  0.72114459528780517,\n",
       "  0.72074113214842117]}"
      ]
     },
     "execution_count": 50,
     "metadata": {},
     "output_type": "execute_result"
    }
   ],
   "source": [
    "predict.history"
   ]
  },
  {
   "cell_type": "code",
   "execution_count": 51,
   "metadata": {},
   "outputs": [
    {
     "name": "stdout",
     "output_type": "stream",
     "text": [
      "dict_keys(['val_loss', 'val_acc', 'loss', 'acc'])\n"
     ]
    },
    {
     "data": {
      "image/png": "[encoded data removed]",
      "text/plain": [
       "<matplotlib.figure.Figure at 0x7f3bfd732a20>"
      ]
     },
     "metadata": {
      "needs_background": "light"
     },
     "output_type": "display_data"
    }
   ],
   "source": [
    "import matplotlib.pyplot as plt\n",
    "%matplotlib inline\n",
    "\n",
    "print(predict.history.keys())\n",
    "plt.plot(predict.history['acc'])\n",
    "plt.plot(predict.history['val_acc'])\n",
    "plt.title('model accuracy')\n",
    "plt.ylabel(model.metrics_names[1])\n",
    "plt.xlabel('epoch')\n",
    "plt.legend(['train', 'val'], loc='lower right')\n",
    "plt.show()"
   ]
  },
  {
   "cell_type": "code",
   "execution_count": 52,
   "metadata": {},
   "outputs": [
    {
     "data": {
      "text/plain": [
       "['loss', 'acc']"
      ]
     },
     "execution_count": 52,
     "metadata": {},
     "output_type": "execute_result"
    }
   ],
   "source": [
    "model.load_weights('model.weights.best.hdf5')\n",
    "model.metrics_names"
   ]
  },
  {
   "cell_type": "code",
   "execution_count": 53,
   "metadata": {},
   "outputs": [
    {
     "name": "stdout",
     "output_type": "stream",
     "text": [
      "5371/5371 [==============================] - 0s 28us/step\n",
      "\n",
      " acc 0.903183764773\n"
     ]
    }
   ],
   "source": [
    "score = model.evaluate(xtest_pca, ytest_cat, verbose=1)\n",
    "print('\\n', model.metrics_names[1], score[1])"
   ]
  },
  {
   "cell_type": "code",
   "execution_count": 54,
   "metadata": {},
   "outputs": [
    {
     "name": "stdout",
     "output_type": "stream",
     "text": [
      "5371/5371 [==============================] - 0s 25us/step\n"
     ]
    },
    {
     "data": {
      "text/plain": [
       "array([[ 0.98754835,  0.01245165],\n",
       "       [ 0.71949273,  0.2805073 ],\n",
       "       [ 1.        ,  0.        ],\n",
       "       ..., \n",
       "       [ 1.        ,  0.        ],\n",
       "       [ 1.        ,  0.        ],\n",
       "       [ 1.        ,  0.        ]], dtype=float32)"
      ]
     },
     "execution_count": 54,
     "metadata": {},
     "output_type": "execute_result"
    }
   ],
   "source": [
    "predictions = model.predict(xtest_pca,verbose =1)\n",
    "predictions"
   ]
  },
  {
   "cell_type": "code",
   "execution_count": 55,
   "metadata": {},
   "outputs": [],
   "source": [
    "model_pred = np.argmax(predictions, axis = 1)"
   ]
  },
  {
   "cell_type": "code",
   "execution_count": 56,
   "metadata": {},
   "outputs": [
    {
     "data": {
      "text/plain": [
       "474"
      ]
     },
     "execution_count": 56,
     "metadata": {},
     "output_type": "execute_result"
    }
   ],
   "source": [
    "sum(model_pred)"
   ]
  },
  {
   "cell_type": "code",
   "execution_count": 57,
   "metadata": {},
   "outputs": [],
   "source": [
    "from sklearn.metrics import classification_report\n",
    "from sklearn.metrics import confusion_matrix\n",
    "import pylab as pl"
   ]
  },
  {
   "cell_type": "code",
   "execution_count": 58,
   "metadata": {},
   "outputs": [
    {
     "name": "stdout",
     "output_type": "stream",
     "text": [
      "[[4843  466]\n",
      " [  54    8]]\n"
     ]
    }
   ],
   "source": [
    "matrix = confusion_matrix(ytest, model_pred)\n",
    "print(matrix)"
   ]
  },
  {
   "cell_type": "code",
   "execution_count": 59,
   "metadata": {},
   "outputs": [
    {
     "data": {
      "text/plain": [
       "<matplotlib.figure.Figure at 0x7f3bfd819d30>"
      ]
     },
     "metadata": {},
     "output_type": "display_data"
    },
    {
     "data": {
      "image/png": "[encoded data removed]",
      "text/plain": [
       "<matplotlib.figure.Figure at 0x7f3bfd819cf8>"
      ]
     },
     "metadata": {
      "needs_background": "light"
     },
     "output_type": "display_data"
    }
   ],
   "source": [
    "pl.figure()\n",
    "\n",
    "color_matrix = pl.matshow(matrix)\n",
    "\n",
    "pl.xticks(range(2),['Not Customer','Customer'])\n",
    "pl.yticks(range(2),['Not Customer','Customer'])\n",
    "\n",
    "pl.colorbar(color_matrix)\n",
    "\n",
    "pl.show()"
   ]
  },
  {
   "cell_type": "code",
   "execution_count": 60,
   "metadata": {},
   "outputs": [
    {
     "name": "stdout",
     "output_type": "stream",
     "text": [
      "             precision    recall  f1-score   support\n",
      "\n",
      "          0       0.99      0.91      0.95      5309\n",
      "          1       0.02      0.13      0.03        62\n",
      "\n",
      "avg / total       0.98      0.90      0.94      5371\n",
      "\n"
     ]
    }
   ],
   "source": [
    "print(classification_report(np.asarray(ytest), model_pred))"
   ]
  },
  {
   "cell_type": "code",
   "execution_count": 61,
   "metadata": {},
   "outputs": [
    {
     "data": {
      "text/plain": [
       "0.52062839122852844"
      ]
     },
     "execution_count": 61,
     "metadata": {},
     "output_type": "execute_result"
    }
   ],
   "source": [
    "from sklearn.metrics import roc_auc_score\n",
    "\n",
    "auc = roc_auc_score(np.asarray(ytest), model_pred)\n",
    "auc"
   ]
  },
  {
   "cell_type": "markdown",
   "metadata": {},
   "source": [
    "## Part 3: Kaggle Competition\n",
    "\n",
    "Now that you've created a model to predict which individuals are most likely to respond to a mailout campaign, it's time to test that model in competition through Kaggle. If you click on the link [here](http://www.kaggle.com/t/21e6d45d4c574c7fa2d868f0e8c83140), you'll be taken to the competition page where, if you have a Kaggle account, you can enter. If you're one of the top performers, you may have the chance to be contacted by a hiring manager from Arvato or Bertelsmann for an interview!\n",
    "\n",
    "Your entry to the competition should be a CSV file with two columns. The first column should be a copy of \"LNR\", which acts as an ID number for each individual in the \"TEST\" partition. The second column, \"RESPONSE\", should be some measure of how likely each individual became a customer – this might not be a straightforward probability. As you should have found in Part 2, there is a large output class imbalance, where most individuals did not respond to the mailout. Thus, predicting individual classes and using accuracy does not seem to be an appropriate performance evaluation method. Instead, the competition will be using AUC to evaluate performance. The exact values of the \"RESPONSE\" column do not matter as much: only that the higher values try to capture as many of the actual customers as possible, early in the ROC curve sweep."
   ]
  },
  {
   "cell_type": "code",
   "execution_count": 62,
   "metadata": {
    "scrolled": true
   },
   "outputs": [
    {
     "name": "stderr",
     "output_type": "stream",
     "text": [
      "/opt/conda/lib/python3.6/site-packages/IPython/core/interactiveshell.py:2785: DtypeWarning: Columns (18,19) have mixed types. Specify dtype option on import or set low_memory=False.\n",
      "  interactivity=interactivity, compiler=compiler, result=result)\n"
     ]
    }
   ],
   "source": [
    "mailout_test = pd.read_csv('../../data/Term2/capstone/arvato_data/Udacity_MAILOUT_052018_TEST.csv', sep=';')"
   ]
  },
  {
   "cell_type": "code",
   "execution_count": 63,
   "metadata": {},
   "outputs": [
    {
     "data": {
      "text/html": [
       "<div>\n",
       "<style>\n",
       "    .dataframe thead tr:only-child th {\n",
       "        text-align: right;\n",
       "    }\n",
       "\n",
       "    .dataframe thead th {\n",
       "        text-align: left;\n",
       "    }\n",
       "\n",
       "    .dataframe tbody tr th {\n",
       "        vertical-align: top;\n",
       "    }\n",
       "</style>\n",
       "<table border=\"1\" class=\"dataframe\">\n",
       "  <thead>\n",
       "    <tr style=\"text-align: right;\">\n",
       "      <th></th>\n",
       "      <th>LNR</th>\n",
       "      <th>AGER_TYP</th>\n",
       "      <th>AKT_DAT_KL</th>\n",
       "      <th>ALTER_HH</th>\n",
       "      <th>ALTER_KIND1</th>\n",
       "      <th>ALTER_KIND2</th>\n",
       "      <th>ALTER_KIND3</th>\n",
       "      <th>ALTER_KIND4</th>\n",
       "      <th>ALTERSKATEGORIE_FEIN</th>\n",
       "      <th>ANZ_HAUSHALTE_AKTIV</th>\n",
       "      <th>...</th>\n",
       "      <th>VHN</th>\n",
       "      <th>VK_DHT4A</th>\n",
       "      <th>VK_DISTANZ</th>\n",
       "      <th>VK_ZG11</th>\n",
       "      <th>W_KEIT_KIND_HH</th>\n",
       "      <th>WOHNDAUER_2008</th>\n",
       "      <th>WOHNLAGE</th>\n",
       "      <th>ZABEOTYP</th>\n",
       "      <th>ANREDE_KZ</th>\n",
       "      <th>ALTERSKATEGORIE_GROB</th>\n",
       "    </tr>\n",
       "  </thead>\n",
       "  <tbody>\n",
       "    <tr>\n",
       "      <th>0</th>\n",
       "      <td>1754</td>\n",
       "      <td>2</td>\n",
       "      <td>1.0</td>\n",
       "      <td>7.0</td>\n",
       "      <td>NaN</td>\n",
       "      <td>NaN</td>\n",
       "      <td>NaN</td>\n",
       "      <td>NaN</td>\n",
       "      <td>6.0</td>\n",
       "      <td>2.0</td>\n",
       "      <td>...</td>\n",
       "      <td>4.0</td>\n",
       "      <td>5.0</td>\n",
       "      <td>6.0</td>\n",
       "      <td>3.0</td>\n",
       "      <td>6.0</td>\n",
       "      <td>9.0</td>\n",
       "      <td>3.0</td>\n",
       "      <td>3</td>\n",
       "      <td>1</td>\n",
       "      <td>4</td>\n",
       "    </tr>\n",
       "    <tr>\n",
       "      <th>1</th>\n",
       "      <td>1770</td>\n",
       "      <td>-1</td>\n",
       "      <td>1.0</td>\n",
       "      <td>0.0</td>\n",
       "      <td>NaN</td>\n",
       "      <td>NaN</td>\n",
       "      <td>NaN</td>\n",
       "      <td>NaN</td>\n",
       "      <td>0.0</td>\n",
       "      <td>20.0</td>\n",
       "      <td>...</td>\n",
       "      <td>1.0</td>\n",
       "      <td>5.0</td>\n",
       "      <td>2.0</td>\n",
       "      <td>1.0</td>\n",
       "      <td>6.0</td>\n",
       "      <td>9.0</td>\n",
       "      <td>5.0</td>\n",
       "      <td>3</td>\n",
       "      <td>1</td>\n",
       "      <td>4</td>\n",
       "    </tr>\n",
       "    <tr>\n",
       "      <th>2</th>\n",
       "      <td>1465</td>\n",
       "      <td>2</td>\n",
       "      <td>9.0</td>\n",
       "      <td>16.0</td>\n",
       "      <td>NaN</td>\n",
       "      <td>NaN</td>\n",
       "      <td>NaN</td>\n",
       "      <td>NaN</td>\n",
       "      <td>11.0</td>\n",
       "      <td>2.0</td>\n",
       "      <td>...</td>\n",
       "      <td>3.0</td>\n",
       "      <td>9.0</td>\n",
       "      <td>6.0</td>\n",
       "      <td>3.0</td>\n",
       "      <td>2.0</td>\n",
       "      <td>9.0</td>\n",
       "      <td>4.0</td>\n",
       "      <td>3</td>\n",
       "      <td>2</td>\n",
       "      <td>4</td>\n",
       "    </tr>\n",
       "    <tr>\n",
       "      <th>3</th>\n",
       "      <td>1470</td>\n",
       "      <td>-1</td>\n",
       "      <td>7.0</td>\n",
       "      <td>0.0</td>\n",
       "      <td>NaN</td>\n",
       "      <td>NaN</td>\n",
       "      <td>NaN</td>\n",
       "      <td>NaN</td>\n",
       "      <td>0.0</td>\n",
       "      <td>1.0</td>\n",
       "      <td>...</td>\n",
       "      <td>2.0</td>\n",
       "      <td>6.0</td>\n",
       "      <td>6.0</td>\n",
       "      <td>3.0</td>\n",
       "      <td>NaN</td>\n",
       "      <td>9.0</td>\n",
       "      <td>2.0</td>\n",
       "      <td>3</td>\n",
       "      <td>2</td>\n",
       "      <td>4</td>\n",
       "    </tr>\n",
       "    <tr>\n",
       "      <th>4</th>\n",
       "      <td>1478</td>\n",
       "      <td>1</td>\n",
       "      <td>1.0</td>\n",
       "      <td>21.0</td>\n",
       "      <td>NaN</td>\n",
       "      <td>NaN</td>\n",
       "      <td>NaN</td>\n",
       "      <td>NaN</td>\n",
       "      <td>13.0</td>\n",
       "      <td>1.0</td>\n",
       "      <td>...</td>\n",
       "      <td>1.0</td>\n",
       "      <td>2.0</td>\n",
       "      <td>4.0</td>\n",
       "      <td>3.0</td>\n",
       "      <td>3.0</td>\n",
       "      <td>9.0</td>\n",
       "      <td>7.0</td>\n",
       "      <td>4</td>\n",
       "      <td>2</td>\n",
       "      <td>4</td>\n",
       "    </tr>\n",
       "  </tbody>\n",
       "</table>\n",
       "<p>5 rows × 366 columns</p>\n",
       "</div>"
      ],
      "text/plain": [
       "    LNR  AGER_TYP  AKT_DAT_KL  ALTER_HH  ALTER_KIND1  ALTER_KIND2  \\\n",
       "0  1754         2         1.0       7.0          NaN          NaN   \n",
       "1  1770        -1         1.0       0.0          NaN          NaN   \n",
       "2  1465         2         9.0      16.0          NaN          NaN   \n",
       "3  1470        -1         7.0       0.0          NaN          NaN   \n",
       "4  1478         1         1.0      21.0          NaN          NaN   \n",
       "\n",
       "   ALTER_KIND3  ALTER_KIND4  ALTERSKATEGORIE_FEIN  ANZ_HAUSHALTE_AKTIV  \\\n",
       "0          NaN          NaN                   6.0                  2.0   \n",
       "1          NaN          NaN                   0.0                 20.0   \n",
       "2          NaN          NaN                  11.0                  2.0   \n",
       "3          NaN          NaN                   0.0                  1.0   \n",
       "4          NaN          NaN                  13.0                  1.0   \n",
       "\n",
       "          ...           VHN  VK_DHT4A  VK_DISTANZ  VK_ZG11  W_KEIT_KIND_HH  \\\n",
       "0         ...           4.0       5.0         6.0      3.0             6.0   \n",
       "1         ...           1.0       5.0         2.0      1.0             6.0   \n",
       "2         ...           3.0       9.0         6.0      3.0             2.0   \n",
       "3         ...           2.0       6.0         6.0      3.0             NaN   \n",
       "4         ...           1.0       2.0         4.0      3.0             3.0   \n",
       "\n",
       "   WOHNDAUER_2008  WOHNLAGE ZABEOTYP ANREDE_KZ ALTERSKATEGORIE_GROB  \n",
       "0             9.0       3.0        3         1                    4  \n",
       "1             9.0       5.0        3         1                    4  \n",
       "2             9.0       4.0        3         2                    4  \n",
       "3             9.0       2.0        3         2                    4  \n",
       "4             9.0       7.0        4         2                    4  \n",
       "\n",
       "[5 rows x 366 columns]"
      ]
     },
     "execution_count": 63,
     "metadata": {},
     "output_type": "execute_result"
    }
   ],
   "source": [
    "mailout_test.head()"
   ]
  },
  {
   "cell_type": "code",
   "execution_count": 64,
   "metadata": {},
   "outputs": [],
   "source": [
    "kaggle_test = trim_df(mailout_test, .0001)"
   ]
  },
  {
   "cell_type": "code",
   "execution_count": 65,
   "metadata": {},
   "outputs": [
    {
     "data": {
      "text/html": [
       "<div>\n",
       "<style>\n",
       "    .dataframe thead tr:only-child th {\n",
       "        text-align: right;\n",
       "    }\n",
       "\n",
       "    .dataframe thead th {\n",
       "        text-align: left;\n",
       "    }\n",
       "\n",
       "    .dataframe tbody tr th {\n",
       "        vertical-align: top;\n",
       "    }\n",
       "</style>\n",
       "<table border=\"1\" class=\"dataframe\">\n",
       "  <thead>\n",
       "    <tr style=\"text-align: right;\">\n",
       "      <th></th>\n",
       "      <th>LNR</th>\n",
       "      <th>AGER_TYP</th>\n",
       "      <th>D19_BANKEN_ANZ_12</th>\n",
       "      <th>D19_BANKEN_ANZ_24</th>\n",
       "      <th>D19_BANKEN_DATUM</th>\n",
       "      <th>D19_BANKEN_DIREKT</th>\n",
       "      <th>D19_BANKEN_GROSS</th>\n",
       "      <th>D19_BANKEN_LOKAL</th>\n",
       "      <th>D19_BANKEN_OFFLINE_DATUM</th>\n",
       "      <th>D19_BANKEN_ONLINE_DATUM</th>\n",
       "      <th>...</th>\n",
       "      <th>SEMIO_RAT</th>\n",
       "      <th>SEMIO_REL</th>\n",
       "      <th>SEMIO_SOZ</th>\n",
       "      <th>SEMIO_TRADV</th>\n",
       "      <th>SEMIO_VERT</th>\n",
       "      <th>SHOPPER_TYP</th>\n",
       "      <th>VERS_TYP</th>\n",
       "      <th>ZABEOTYP</th>\n",
       "      <th>ANREDE_KZ</th>\n",
       "      <th>ALTERSKATEGORIE_GROB</th>\n",
       "    </tr>\n",
       "  </thead>\n",
       "  <tbody>\n",
       "    <tr>\n",
       "      <th>0</th>\n",
       "      <td>1754</td>\n",
       "      <td>2</td>\n",
       "      <td>0</td>\n",
       "      <td>0</td>\n",
       "      <td>10</td>\n",
       "      <td>0</td>\n",
       "      <td>0</td>\n",
       "      <td>0</td>\n",
       "      <td>10</td>\n",
       "      <td>10</td>\n",
       "      <td>...</td>\n",
       "      <td>1</td>\n",
       "      <td>2</td>\n",
       "      <td>6</td>\n",
       "      <td>1</td>\n",
       "      <td>7</td>\n",
       "      <td>3</td>\n",
       "      <td>1</td>\n",
       "      <td>3</td>\n",
       "      <td>1</td>\n",
       "      <td>4</td>\n",
       "    </tr>\n",
       "    <tr>\n",
       "      <th>1</th>\n",
       "      <td>1770</td>\n",
       "      <td>-1</td>\n",
       "      <td>0</td>\n",
       "      <td>0</td>\n",
       "      <td>10</td>\n",
       "      <td>0</td>\n",
       "      <td>0</td>\n",
       "      <td>0</td>\n",
       "      <td>10</td>\n",
       "      <td>10</td>\n",
       "      <td>...</td>\n",
       "      <td>3</td>\n",
       "      <td>3</td>\n",
       "      <td>6</td>\n",
       "      <td>1</td>\n",
       "      <td>6</td>\n",
       "      <td>2</td>\n",
       "      <td>1</td>\n",
       "      <td>3</td>\n",
       "      <td>1</td>\n",
       "      <td>4</td>\n",
       "    </tr>\n",
       "    <tr>\n",
       "      <th>2</th>\n",
       "      <td>1465</td>\n",
       "      <td>2</td>\n",
       "      <td>0</td>\n",
       "      <td>0</td>\n",
       "      <td>10</td>\n",
       "      <td>0</td>\n",
       "      <td>0</td>\n",
       "      <td>0</td>\n",
       "      <td>10</td>\n",
       "      <td>10</td>\n",
       "      <td>...</td>\n",
       "      <td>3</td>\n",
       "      <td>1</td>\n",
       "      <td>4</td>\n",
       "      <td>3</td>\n",
       "      <td>3</td>\n",
       "      <td>3</td>\n",
       "      <td>1</td>\n",
       "      <td>3</td>\n",
       "      <td>2</td>\n",
       "      <td>4</td>\n",
       "    </tr>\n",
       "    <tr>\n",
       "      <th>3</th>\n",
       "      <td>1470</td>\n",
       "      <td>-1</td>\n",
       "      <td>0</td>\n",
       "      <td>0</td>\n",
       "      <td>10</td>\n",
       "      <td>0</td>\n",
       "      <td>0</td>\n",
       "      <td>0</td>\n",
       "      <td>10</td>\n",
       "      <td>10</td>\n",
       "      <td>...</td>\n",
       "      <td>3</td>\n",
       "      <td>2</td>\n",
       "      <td>3</td>\n",
       "      <td>3</td>\n",
       "      <td>2</td>\n",
       "      <td>3</td>\n",
       "      <td>2</td>\n",
       "      <td>3</td>\n",
       "      <td>2</td>\n",
       "      <td>4</td>\n",
       "    </tr>\n",
       "    <tr>\n",
       "      <th>4</th>\n",
       "      <td>1478</td>\n",
       "      <td>1</td>\n",
       "      <td>3</td>\n",
       "      <td>4</td>\n",
       "      <td>2</td>\n",
       "      <td>2</td>\n",
       "      <td>2</td>\n",
       "      <td>0</td>\n",
       "      <td>8</td>\n",
       "      <td>2</td>\n",
       "      <td>...</td>\n",
       "      <td>3</td>\n",
       "      <td>2</td>\n",
       "      <td>5</td>\n",
       "      <td>3</td>\n",
       "      <td>3</td>\n",
       "      <td>3</td>\n",
       "      <td>1</td>\n",
       "      <td>4</td>\n",
       "      <td>2</td>\n",
       "      <td>4</td>\n",
       "    </tr>\n",
       "  </tbody>\n",
       "</table>\n",
       "<p>5 rows × 93 columns</p>\n",
       "</div>"
      ],
      "text/plain": [
       "    LNR  AGER_TYP  D19_BANKEN_ANZ_12  D19_BANKEN_ANZ_24  D19_BANKEN_DATUM  \\\n",
       "0  1754         2                  0                  0                10   \n",
       "1  1770        -1                  0                  0                10   \n",
       "2  1465         2                  0                  0                10   \n",
       "3  1470        -1                  0                  0                10   \n",
       "4  1478         1                  3                  4                 2   \n",
       "\n",
       "   D19_BANKEN_DIREKT  D19_BANKEN_GROSS  D19_BANKEN_LOKAL  \\\n",
       "0                  0                 0                 0   \n",
       "1                  0                 0                 0   \n",
       "2                  0                 0                 0   \n",
       "3                  0                 0                 0   \n",
       "4                  2                 2                 0   \n",
       "\n",
       "   D19_BANKEN_OFFLINE_DATUM  D19_BANKEN_ONLINE_DATUM          ...           \\\n",
       "0                        10                       10          ...            \n",
       "1                        10                       10          ...            \n",
       "2                        10                       10          ...            \n",
       "3                        10                       10          ...            \n",
       "4                         8                        2          ...            \n",
       "\n",
       "   SEMIO_RAT  SEMIO_REL  SEMIO_SOZ  SEMIO_TRADV  SEMIO_VERT  SHOPPER_TYP  \\\n",
       "0          1          2          6            1           7            3   \n",
       "1          3          3          6            1           6            2   \n",
       "2          3          1          4            3           3            3   \n",
       "3          3          2          3            3           2            3   \n",
       "4          3          2          5            3           3            3   \n",
       "\n",
       "   VERS_TYP  ZABEOTYP  ANREDE_KZ  ALTERSKATEGORIE_GROB  \n",
       "0         1         3          1                     4  \n",
       "1         1         3          1                     4  \n",
       "2         1         3          2                     4  \n",
       "3         2         3          2                     4  \n",
       "4         1         4          2                     4  \n",
       "\n",
       "[5 rows x 93 columns]"
      ]
     },
     "execution_count": 65,
     "metadata": {},
     "output_type": "execute_result"
    }
   ],
   "source": [
    "kaggle_test.head()"
   ]
  },
  {
   "cell_type": "code",
   "execution_count": 66,
   "metadata": {},
   "outputs": [],
   "source": [
    "output_table = pd.DataFrame(kaggle_test['LNR'])"
   ]
  },
  {
   "cell_type": "code",
   "execution_count": 67,
   "metadata": {},
   "outputs": [],
   "source": [
    "kaggle_test_features = kaggle_test.drop(['LNR', 'GEBURTSJAHR' ], axis = 1)"
   ]
  },
  {
   "cell_type": "code",
   "execution_count": 68,
   "metadata": {},
   "outputs": [
    {
     "name": "stderr",
     "output_type": "stream",
     "text": [
      "/opt/conda/lib/python3.6/site-packages/sklearn/utils/deprecation.py:58: DeprecationWarning: Class RandomizedPCA is deprecated; RandomizedPCA was deprecated in 0.18 and will be removed in 0.20. Use PCA(svd_solver='randomized') instead. The new implementation DOES NOT store whiten ``components_``. Apply transform to get them.\n",
      "  warnings.warn(msg, category=DeprecationWarning)\n"
     ]
    }
   ],
   "source": [
    "kaggle_test_features_pca = pca_transform(kaggle_test_features, 81)"
   ]
  },
  {
   "cell_type": "code",
   "execution_count": 69,
   "metadata": {},
   "outputs": [
    {
     "name": "stdout",
     "output_type": "stream",
     "text": [
      "42833/42833 [==============================] - 1s 24us/step\n"
     ]
    },
    {
     "data": {
      "text/plain": [
       "array([[  1.00000000e+00,   4.58956512e-10],\n",
       "       [  9.99999881e-01,   7.53969189e-08],\n",
       "       [  1.00000000e+00,   0.00000000e+00],\n",
       "       ..., \n",
       "       [  1.00000000e+00,   0.00000000e+00],\n",
       "       [  9.99999762e-01,   2.28187815e-07],\n",
       "       [  1.00000000e+00,   0.00000000e+00]], dtype=float32)"
      ]
     },
     "execution_count": 69,
     "metadata": {},
     "output_type": "execute_result"
    }
   ],
   "source": [
    "kaggle_test_preds = model.predict(kaggle_test_features_pca,verbose =1)\n",
    "kaggle_test_preds"
   ]
  },
  {
   "cell_type": "code",
   "execution_count": 70,
   "metadata": {},
   "outputs": [
    {
     "data": {
      "text/plain": [
       "array([  4.58956512e-10,   7.53969189e-08,   0.00000000e+00, ...,\n",
       "         0.00000000e+00,   2.28187815e-07,   0.00000000e+00], dtype=float32)"
      ]
     },
     "execution_count": 70,
     "metadata": {},
     "output_type": "execute_result"
    }
   ],
   "source": [
    "kaggle_test_preds[:,1]"
   ]
  },
  {
   "cell_type": "code",
   "execution_count": 71,
   "metadata": {},
   "outputs": [
    {
     "data": {
      "text/plain": [
       "array([ 0.,  0.,  0., ...,  0.,  0.,  0.], dtype=float32)"
      ]
     },
     "execution_count": 71,
     "metadata": {},
     "output_type": "execute_result"
    }
   ],
   "source": [
    "np.round(kaggle_test_preds[:,1], 5)"
   ]
  },
  {
   "cell_type": "code",
   "execution_count": 72,
   "metadata": {},
   "outputs": [],
   "source": [
    "output_table['RESPONSE'] = np.round(kaggle_test_preds[:,1], 5)"
   ]
  },
  {
   "cell_type": "code",
   "execution_count": 73,
   "metadata": {},
   "outputs": [
    {
     "data": {
      "text/html": [
       "<div>\n",
       "<style>\n",
       "    .dataframe thead tr:only-child th {\n",
       "        text-align: right;\n",
       "    }\n",
       "\n",
       "    .dataframe thead th {\n",
       "        text-align: left;\n",
       "    }\n",
       "\n",
       "    .dataframe tbody tr th {\n",
       "        vertical-align: top;\n",
       "    }\n",
       "</style>\n",
       "<table border=\"1\" class=\"dataframe\">\n",
       "  <thead>\n",
       "    <tr style=\"text-align: right;\">\n",
       "      <th></th>\n",
       "      <th>LNR</th>\n",
       "      <th>RESPONSE</th>\n",
       "    </tr>\n",
       "  </thead>\n",
       "  <tbody>\n",
       "    <tr>\n",
       "      <th>0</th>\n",
       "      <td>1754</td>\n",
       "      <td>0.0</td>\n",
       "    </tr>\n",
       "    <tr>\n",
       "      <th>1</th>\n",
       "      <td>1770</td>\n",
       "      <td>0.0</td>\n",
       "    </tr>\n",
       "    <tr>\n",
       "      <th>2</th>\n",
       "      <td>1465</td>\n",
       "      <td>0.0</td>\n",
       "    </tr>\n",
       "    <tr>\n",
       "      <th>3</th>\n",
       "      <td>1470</td>\n",
       "      <td>0.0</td>\n",
       "    </tr>\n",
       "    <tr>\n",
       "      <th>4</th>\n",
       "      <td>1478</td>\n",
       "      <td>0.0</td>\n",
       "    </tr>\n",
       "  </tbody>\n",
       "</table>\n",
       "</div>"
      ],
      "text/plain": [
       "    LNR  RESPONSE\n",
       "0  1754       0.0\n",
       "1  1770       0.0\n",
       "2  1465       0.0\n",
       "3  1470       0.0\n",
       "4  1478       0.0"
      ]
     },
     "execution_count": 73,
     "metadata": {},
     "output_type": "execute_result"
    }
   ],
   "source": [
    "output_table.head()"
   ]
  },
  {
   "cell_type": "code",
   "execution_count": 74,
   "metadata": {},
   "outputs": [],
   "source": [
    "output_table.to_csv('output_table.csv')"
   ]
  }
 ],
 "metadata": {
  "kernelspec": {
   "display_name": "Python 3",
   "language": "python",
   "name": "python3"
  },
  "language_info": {
   "codemirror_mode": {
    "name": "ipython",
    "version": 3
   },
   "file_extension": ".py",
   "mimetype": "text/x-python",
   "name": "python",
   "nbconvert_exporter": "python",
   "pygments_lexer": "ipython3",
   "version": "3.6.3"
  }
 },
 "nbformat": 4,
 "nbformat_minor": 2
}
